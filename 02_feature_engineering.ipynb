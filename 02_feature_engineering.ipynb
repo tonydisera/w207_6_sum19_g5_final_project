{
 "cells": [
  {
   "cell_type": "code",
   "execution_count": null,
   "metadata": {},
   "outputs": [],
   "source": [
    "import pandas as pd\n",
    "import urllib.request\n",
    "import numpy as np\n",
    "import matplotlib.pyplot as plt\n",
    "from IPython.display import display\n",
    "from sklearn.feature_selection import SelectKBest\n",
    "from sklearn.feature_selection import chi2\n",
    "from sklearn.feature_selection import RFE\n",
    "from sklearn import preprocessing\n",
    "from sklearn.linear_model import LogisticRegression\n",
    "import glob\n",
    "import os\n",
    "from sklearn import preprocessing\n",
    "from sklearn.decomposition import PCA\n",
    "plt.rcParams.update({'figure.max_open_warning': 0})"
   ]
  },
  {
   "cell_type": "code",
   "execution_count": null,
   "metadata": {},
   "outputs": [],
   "source": [
    "#from google.colab import drive\n",
    "#drive.mount('/content/drive')"
   ]
  },
  {
   "cell_type": "code",
   "execution_count": null,
   "metadata": {},
   "outputs": [],
   "source": [
    "#cd /content/drive/My Drive/berkeley/W207 machine learning/Final Project/w207_6_sum19_g5_final_project"
   ]
  },
  {
   "cell_type": "code",
   "execution_count": null,
   "metadata": {},
   "outputs": [],
   "source": [
    "# Remove old features_ files\n",
    "filenames = glob.glob('./data/features_*.csv')\n",
    " \n",
    "# Iterate over the list of filepaths & remove each file.\n",
    "for filePath in filenames:\n",
    "    try:\n",
    "        os.remove(filePath)\n",
    "    except OSError:\n",
    "        print(\"Error while deleting file\")"
   ]
  },
  {
   "cell_type": "markdown",
   "metadata": {},
   "source": [
    "## EDA ##\n",
    "\n",
    "Here, we open the data we put together in the previous notebook. For the first analysis, we look at $cancer\\_type$, $patient\\_barcode$, $gene$ and $gene_type$."
   ]
  },
  {
   "cell_type": "code",
   "execution_count": null,
   "metadata": {},
   "outputs": [],
   "source": [
    "print('Loading data ...')\n",
    "mutations = {}\n",
    "mutations['train'] = pd.read_csv(\"./data/somatic_mutations_train.csv\", \n",
    "                             usecols=['cancer_type', 'patient_barcode', 'gene', 'gene_type'])\n",
    "mutations['test']  = pd.read_csv(\"./data/somatic_mutations_test.csv\", \n",
    "                             usecols=['cancer_type', 'patient_barcode', 'gene', 'gene_type'])\n",
    "print(\"done.\")\n",
    "print(\"Mutations training data count:\", mutations['train']['patient_barcode'].count())\n",
    "print(\"Mutations test data count:    \", mutations['test']['patient_barcode'].count())"
   ]
  },
  {
   "cell_type": "code",
   "execution_count": null,
   "metadata": {},
   "outputs": [],
   "source": [
    "# Show the distribution of genes across patient tumors\n",
    "gene_count         = mutations['train'].groupby(['gene'])['patient_barcode'].nunique().reset_index(name='count')\n",
    "gene_count.columns = ['gene', 'patient_count']\n",
    "gene_count         = gene_count.sort_values(['patient_count', 'gene'], ascending=[0,1])\n",
    "print('Genes by patient frequency')\n",
    "print(\"  mean:\", int(gene_count['patient_count'].mean()))\n",
    "print(\"  min: \", int(gene_count['patient_count'].min()))\n",
    "print(\"  max: \", int(gene_count['patient_count'].max()))\n",
    "\n",
    "ax = gene_count['patient_count'].hist(bins=200, figsize=(12,4))\n",
    "ax.set_xlabel(\"Number of Patients\")\n",
    "ax.set_ylabel(\"Gene Frequency\")\n",
    "plt.show()\n",
    "\n",
    "gene_cc_count         = mutations['train'].groupby(['gene'])['cancer_type'].nunique().reset_index(name='count')\n",
    "gene_cc_count.columns = ['gene', 'cancer_type_count']\n",
    "gene_cc_count         = gene_cc_count.sort_values(['cancer_type_count', 'gene'], ascending=[0,1])\n",
    "print('\\nGenes by cancer type frequency')\n",
    "print(\"  mean:\", int(gene_cc_count['cancer_type_count'].mean()))\n",
    "print(\"  min: \", int(gene_cc_count['cancer_type_count'].min()))\n",
    "print(\"  max: \", int(gene_cc_count['cancer_type_count'].max()))\n",
    "\n",
    "\n",
    "ax = gene_cc_count['cancer_type_count'].hist(bins=40, figsize=(12,4))\n",
    "ax.set_xlabel(\"Number of Cancer Types\")\n",
    "ax.set_ylabel(\"Gene Frequency\")\n",
    "plt.show()\n",
    "\n"
   ]
  },
  {
   "cell_type": "markdown",
   "metadata": {},
   "source": [
    "From the histogram above, it is clear that even through we have a large number of genes, only a small number of them are turned on in the patient tumor data that we have. This is the classic problem of a large feature space with a much smaller number of samples. Hence we will need to perform a dimensionality reduction technique such as PCA here."
   ]
  },
  {
   "cell_type": "code",
   "execution_count": null,
   "metadata": {},
   "outputs": [],
   "source": [
    "# Print out the number of cancer types that are present in the \n",
    "# mutations dataset\n",
    "cancer_types = mutations['train'].cancer_type.unique()\n",
    "print(\"\\nNumber of cancer types:\", len(cancer_types))\n",
    "\n",
    "# Get number of cases per cancer type\n",
    "group_patients_by_cancer = mutations['train'].groupby(['cancer_type'])['patient_barcode'].nunique()\n",
    "print(\"\\nNumber of patients:\", group_patients_by_cancer.sum())\n",
    "group_patients_by_cancer.plot.bar(figsize=(12,4))"
   ]
  },
  {
   "cell_type": "markdown",
   "metadata": {},
   "source": [
    "The above chart shows that there are some cancers, such as BRCA and LUAD that have a large representation in our dataset, but other such as DBLC and UCS that are present in much smaller numbers. This will present a challenge for our classifier. Specifically, we want our classifier to be able to classify each of the 32 types of cancers with high precision, but the model should also be able to identify the cancers that don't have a proportionate representation in our data set. It could be that these are cancers are rare, or perhaps they are simply rare in our dataset. **Note:** add more details about the cancers that are abundant as well as rare in this dataset."
   ]
  },
  {
   "cell_type": "code",
   "execution_count": null,
   "metadata": {},
   "outputs": [],
   "source": [
    "# Get the unique genes per cancer type\n",
    "group_genes_by_cancer = mutations['train'].groupby(['cancer_type'])['gene'].nunique();\n",
    "group_genes_by_cancer.plot.bar(figsize=(12,4))\n",
    "print(\"Mean number of genes represented for each cancer type:\", int(np.round(group_genes_by_cancer.mean())))\n",
    "print(\"Min number of genes represented for each cancer type: \", int(np.round(group_genes_by_cancer.min())))\n",
    "print(\"Max number of genes represented for each cancer type: \", int(np.round(group_genes_by_cancer.max())))"
   ]
  },
  {
   "cell_type": "markdown",
   "metadata": {},
   "source": [
    "The above bar chart gives us an idea of how many genes (features for us) are _on_ for each of the cancer types. Cross referencing this chart with the previous one, we see that for some cancers such as DLBC and UCS we have a fair number of active features, even though the number of cases of such cancers are low. We should be able to person isolated (one-vs-rest) analysis for these cases. However, for other cancers, such as KICH (Kidney Chromophobe) and UVM (Uveal Melanoma) we have both a low occurance rate, and a low number of active features. This second category of cancers will need to be handled with care."
   ]
  },
  {
   "cell_type": "markdown",
   "metadata": {},
   "source": [
    "## Functions for feature engineering"
   ]
  },
  {
   "cell_type": "code",
   "execution_count": null,
   "metadata": {},
   "outputs": [],
   "source": [
    "# Create feature matrix each row is a patient tumor; each column is a gene\n",
    "def create_patient_x_gene_matrix(mutations, feature_genes, description, save=True):\n",
    "    cases = list()\n",
    "    grouped = mutations.groupby('patient_barcode')\n",
    "    i = int(0)\n",
    "\n",
    "    cols = ['case_id', 'cancer_type']\n",
    "    for gene in feature_genes:\n",
    "        cols.append(gene)\n",
    "\n",
    "\n",
    "    for name, group in grouped:\n",
    "        case = list()\n",
    "        case.append(name)\n",
    "        for cc in group.cancer_type.head(1):\n",
    "            case.append(cc)\n",
    "\n",
    "        for gene_flag in feature_genes.isin(group.gene.unique()):\n",
    "            switch = 0\n",
    "            if gene_flag == True:\n",
    "                switch = 1\n",
    "            case.append(switch)\n",
    "        cases.append(case)\n",
    "\n",
    "\n",
    "    cases_df = pd.DataFrame(cases)\n",
    "    cases_df.columns = cols\n",
    "    print(\"  \", cases_df.shape)\n",
    "    \n",
    "    # Write out transformed data to csv\n",
    "    if save:\n",
    "        fileName = \"./data/\" + description + \".csv\"\n",
    "        print(\"  writing\", fileName, \"...\")\n",
    "        cases_df.to_csv(fileName)\n",
    "        print(\"  done.\")\n",
    "    \n",
    "    return cases_df\n"
   ]
  },
  {
   "cell_type": "code",
   "execution_count": null,
   "metadata": {},
   "outputs": [],
   "source": [
    "def show_genes_across_cancer_types(top_gene_cancer_matrix, top_n_gene_count, total_gene_count):\n",
    "    plt.rcParams[\"figure.figsize\"] = (10,4)\n",
    "    sums_by_cancer_type = top_gene_cancer_matrix.sum(axis=1, skipna=True, numeric_only=True) \n",
    "    sorted = sums_by_cancer_type.sort_values(ascending=False).reindex()\n",
    "    df = pd.DataFrame(sorted).reset_index()\n",
    "    df.columns = ['gene', 'patient_count']\n",
    "    df.reset_index()    \n",
    "    title = 'Patient counts for genes (top ' + str(top_n_gene_count) + ')';\n",
    "    ax = df.head(50).plot.bar(x='gene', y='patient_count', legend=None, title=title)\n",
    "\n",
    "    cancer_type_present_count = top_gene_cancer_matrix.astype(bool).sum(axis=1, skipna=True, numeric_only=True)\n",
    "    sorted = cancer_type_present_count.sort_values(ascending=False).reindex()\n",
    "    df = pd.DataFrame(sorted).reset_index()\n",
    "    df.columns = ['gene', 'present_in_cancer_type_count']\n",
    "    df.reset_index()    \n",
    "\n",
    "    axarr = df.hist(bins=32)\n",
    "\n",
    "    for ax in axarr.flatten():\n",
    "        ax.set_xlabel(\"Number of cancer types gene is present\")\n",
    "        ax.set_ylabel(\"Gene frequency\")\n",
    "    \n",
    "    return df"
   ]
  },
  {
   "cell_type": "code",
   "execution_count": null,
   "metadata": {},
   "outputs": [],
   "source": [
    "\n",
    "def create_feature_matrix(mutations_train, mutations_test, top_n_gene_count, save, description, charts=True):\n",
    "    print(\"Formatting gene matrix with top \", top_n_gene_count, \"genes from each cancer type\")\n",
    "    \n",
    "    # Now try to find the most common genes per cancer type and\n",
    "    # merge these together to come up with a master list\n",
    "    cancer_gene_count = mutations_train.groupby(['cancer_type', 'gene'])['patient_barcode'].nunique().reset_index(name='count')\n",
    "    cancer_gene_count.columns = ['cancer_type', 'gene', 'patient_count']\n",
    "\n",
    "\n",
    "\n",
    "    # Now create a large matrix, row is the gene, column for each cancer type\n",
    "    df = pd.DataFrame(cancer_gene_count, columns=['cancer_type', 'gene', 'patient_count'])\n",
    "    gene_cancer_matrix = pd.pivot_table(df, values='patient_count', index=['gene'],\n",
    "                         columns=['cancer_type'], aggfunc=np.sum, fill_value=0)\n",
    "    \n",
    "    \n",
    "\n",
    "    # Now find the top n genes for each cancer type\n",
    "    top_genes = []\n",
    "    idx = 0\n",
    "\n",
    "    plt.rcParams[\"figure.figsize\"] = (20,20)\n",
    "    for cancer_type in gene_cancer_matrix.columns:\n",
    "        sorted_genes = gene_cancer_matrix[cancer_type].sort_values(ascending=False)\n",
    "        top_rows = sorted_genes[sorted_genes > 0].head(top_n_gene_count)\n",
    "        for gene, patient_count in top_rows.items():\n",
    "            top_genes.append(list([cancer_type, gene, patient_count]))\n",
    "\n",
    "\n",
    "    # Turn this back into a matrix, row is gene, column for each cancer type\n",
    "    top_df = pd.DataFrame(top_genes, columns=['cancer_type', 'gene', 'patient_count'])\n",
    "    top_gene_cancer_matrix = pd.pivot_table(top_df, values='patient_count', index=['gene'],\n",
    "                         columns=['cancer_type'], aggfunc=np.sum, fill_value=0)\n",
    "    print(\"  number of genes:\", top_gene_cancer_matrix.shape[0])\n",
    "    if charts:\n",
    "        show_genes_across_cancer_types(top_gene_cancer_matrix, \n",
    "                                   top_n_gene_count, \n",
    "                                   top_gene_cancer_matrix.shape[0] )\n",
    "    feature_genes = top_gene_cancer_matrix.index\n",
    "    print(\"  number of genes after filter:\", len(feature_genes))\n",
    "    create_patient_x_gene_matrix(mutations_train, feature_genes, description + \".train\", save)\n",
    "    create_patient_x_gene_matrix(mutations_test,  feature_genes, description + \".test\", save)"
   ]
  },
  {
   "cell_type": "code",
   "execution_count": null,
   "metadata": {},
   "outputs": [],
   "source": [
    "def create_best_fit_feature_matrix(mutations_train, mutations_test, top_n_genes, n_features, \n",
    "                               save, description, charts=True):\n",
    "    print(\"Formatting gene matrix with best fit for\", n_features, \"features\")\n",
    "    \n",
    "    # Now try to find the most common genes per cancer type and\n",
    "    # merge these together to come up with a master list\n",
    "    cancer_gene_count = mutations_train.groupby(['cancer_type', 'gene'])['patient_barcode'].nunique().reset_index(name='count')\n",
    "    cancer_gene_count.columns = ['cancer_type', 'gene', 'patient_count']\n",
    "\n",
    "\n",
    "\n",
    "    # Now create a large matrix, row is the gene, column for each cancer type\n",
    "    df = pd.DataFrame(cancer_gene_count, columns=['cancer_type', 'gene', 'patient_count'])\n",
    "    gene_cancer_matrix = pd.pivot_table(df, values='patient_count', index=['gene'],\n",
    "                         columns=['cancer_type'], aggfunc=np.sum, fill_value=0)\n",
    "    \n",
    "    \n",
    "\n",
    "    # Now find the top n genes for each cancer type\n",
    "    top_genes = []\n",
    "    for cancer_type in gene_cancer_matrix.columns:\n",
    "        sorted_genes = gene_cancer_matrix[cancer_type].sort_values(ascending=False)\n",
    "        if (top_n_genes == None):\n",
    "            top_rows = sorted_genes[sorted_genes > 0].head(top_n_genes)\n",
    "        else:\n",
    "            top_rows = sorted_genes\n",
    "        for gene, patient_count in top_rows.items():\n",
    "            top_genes.append(list([cancer_type, gene, patient_count]))\n",
    "\n",
    "\n",
    "    # Turn this back into a matrix, row is patient, column for each gene\n",
    "    top_df = pd.DataFrame(top_genes, columns=['cancer_type', 'gene', 'patient_count'])\n",
    "    top_gene_cancer_matrix = pd.pivot_table(top_df, values='patient_count', index=['gene'],\n",
    "                         columns=['cancer_type'], aggfunc=np.sum, fill_value=0)\n",
    "    show_genes_across_cancer_types(top_gene_cancer_matrix, \n",
    "                               top_n_genes, \n",
    "                               n_features )\n",
    "\n",
    "    #\n",
    "    # Create feature matrix, each row is patient, columns are genes\n",
    "    #\n",
    "    feature_genes = top_gene_cancer_matrix.index\n",
    "    print(\"  number of genes before best fit:     \", len(feature_genes))\n",
    "    feature_matrix_train = create_patient_x_gene_matrix(mutations_train, feature_genes, '', False)\n",
    "    feature_matrix_test  = create_patient_x_gene_matrix(mutations_test, feature_genes, '', False)\n",
    "    \n",
    "    #\n",
    "    #  Try BestFit (chi squared test) to find most\n",
    "    #  important genes\n",
    "    #\n",
    "    best_genes  = get_best_fit_features(feature_matrix_train, n_features)\n",
    "    cancer_type = feature_matrix_train['cancer_type']\n",
    "    case_id     = feature_matrix_train['case_id']\n",
    "    data_train  = feature_matrix_train.loc[:, feature_matrix_train.columns.isin(best_genes)]\n",
    "    \n",
    "    print(\"  number of genes before after best fit:\", data_train.shape[1])\n",
    "    final_feature_matrix_train = pd.concat([case_id, cancer_type, data_train], axis=1)\n",
    "\n",
    "    cancer_type = feature_matrix_test['cancer_type']\n",
    "    case_id     = feature_matrix_test['case_id']\n",
    "    data_test   = feature_matrix_test.loc[:, feature_matrix_test.columns.isin(best_genes)]\n",
    "    final_feature_matrix_test = pd.concat([case_id, cancer_type, data_test], axis=1)\n",
    "    \n",
    "    if save:\n",
    "        fileName = \"./data/\" + description  + \".train.csv\"\n",
    "        print(\"  writing\", fileName, \"...\")\n",
    "        print(\" \", final_feature_matrix_train.shape)\n",
    "        final_feature_matrix_train.to_csv(fileName)\n",
    "        print(\"  done.\")        \n",
    "        \n",
    "        fileName = \"./data/\" + description  + \".test.csv\"\n",
    "        print(\"  writing\", fileName, \"...\")\n",
    "        print(\" \", final_feature_matrix_test.shape)\n",
    "        final_feature_matrix_test.to_csv(fileName)\n",
    "        print(\"  done.\")        "
   ]
  },
  {
   "cell_type": "code",
   "execution_count": null,
   "metadata": {},
   "outputs": [],
   "source": [
    "def get_best_fit_features(feature_matrix, n_features):\n",
    "    #apply SelectKBest class to extract top 10 best features\n",
    "    bestfeatures = SelectKBest(score_func=chi2, k=n_features)\n",
    "    \n",
    "    data = feature_matrix.loc[:, (feature_matrix.columns != 'cancer_type') & (feature_matrix.columns != 'case_id')]\n",
    "    labels_string = feature_matrix['cancer_type']\n",
    "    \n",
    "    le = preprocessing.LabelEncoder()\n",
    "    labels = le.fit_transform(labels_string)\n",
    "    \n",
    "    fit = bestfeatures.fit(data,labels)\n",
    "    dfscores = pd.DataFrame(fit.scores_)\n",
    "    dfcolumns = pd.DataFrame(data.columns)\n",
    "    \n",
    "    #concat two dataframes for better visualization \n",
    "    featureScores = pd.concat([dfcolumns,dfscores],axis=1)\n",
    "    featureScores.columns = ['gene','score']  \n",
    "    display(featureScores.nlargest(10,'score'))  \n",
    "    return list(featureScores.nlargest(n_features,'score')['gene'])"
   ]
  },
  {
   "cell_type": "code",
   "execution_count": null,
   "metadata": {},
   "outputs": [],
   "source": [
    "def create_all_feature_matrix(mutations_train, mutations_test, save, description):\n",
    "    print(\"Formatting gene matrix with for all features\")\n",
    "    #\n",
    "    # Create feature matrix, each row is patient, columns are genes\n",
    "    #\n",
    "    feature_genes = pd.Series(mutations_train.gene.unique())\n",
    "    feature_matrix_train = create_patient_x_gene_matrix(mutations_train, feature_genes, description + \".train\", save)\n",
    "    feature_matrix_test  = create_patient_x_gene_matrix(mutations_test,  feature_genes, description + \".test\", save)\n",
    "    return feature_matrix_train, feature_matrix_test"
   ]
  },
  {
   "cell_type": "code",
   "execution_count": null,
   "metadata": {},
   "outputs": [],
   "source": [
    "def create_l1_feature_matrix(train_features, test_features, label_encoder, description, save):\n",
    "    \n",
    "    train_first_cols    = train_features[train_features.columns[:2]]\n",
    "    train_data          = train_features[train_features.columns[3:]]\n",
    "    train_labels        = label_encoder.fit_transform(train_features.cancer_type)\n",
    "\n",
    "    test_first_cols    = test_features[test_features.columns[:2]]\n",
    "    test_data          = test_features[test_features.columns[3:]]\n",
    "    test_labels        = label_encoder.fit_transform(test_features.cancer_type)\n",
    "\n",
    "    params = {'C':  [100, 10, 1, .5]}\n",
    "    \n",
    "    for c_param in reversed(params['C']):\n",
    "        # Keep this random seed here to make comparison easier.\n",
    "        np.random.seed(0)\n",
    "\n",
    "        #\n",
    "        # Perform Logistic Regression on different C values\n",
    "        # using L1 regularization\n",
    "        #\n",
    "        l1 = LogisticRegression(penalty='l1', tol=.01, \n",
    "                            solver=\"liblinear\", multi_class=\"ovr\",\n",
    "                            max_iter=500, C=c_param)\n",
    "        # Fit model\n",
    "        l1.fit(train_data, train_labels) \n",
    "\n",
    "\n",
    "        # Get the features with non-zero coefficients.  We will use\n",
    "        # this list to reduce the features \n",
    "        non_zero_sums = np.where(np.sum(l1.coef_, axis=0) != 0)\n",
    "        names = np.array(list(train_data.columns))\n",
    "        non_zero_genes = names[non_zero_sums] \n",
    "\n",
    "\n",
    "        #\n",
    "        # Reduce feature size, only keeping features with non-zero weights \n",
    "        # found using l1 regularization\n",
    "        #\n",
    "        trimmed_train_data = train_data[non_zero_genes]\n",
    "        trimmed_test_data  = test_data[non_zero_genes]\n",
    "        \n",
    "        final_features_train = pd.concat([train_first_cols, trimmed_train_data], axis=1)\n",
    "        final_features_test =  pd.concat([test_first_cols, trimmed_test_data], axis=1)\n",
    "        \n",
    "        if save:\n",
    "            fileName = \"./data/\" + description + \"_c\" + str(c_param) + \".train.csv\"\n",
    "            print(\"  writing\", fileName, \"...\")\n",
    "            print(\" \", final_features_train.shape)\n",
    "            final_features_train.to_csv(fileName)\n",
    "            print(\"  done.\")        \n",
    "\n",
    "            fileName = \"./data/\" + description + \"_c\" + str(c_param) + \".test.csv\"\n",
    "            print(\"  writing\", fileName, \"...\")\n",
    "            print(\" \", final_features_test.shape)\n",
    "            final_features_test.to_csv(fileName)\n",
    "            print(\"  done.\")        \n",
    "        \n"
   ]
  },
  {
   "cell_type": "code",
   "execution_count": null,
   "metadata": {},
   "outputs": [],
   "source": [
    "def create_rfe_feature_matrix(train_features, test_features, label_encoder, description, save):\n",
    "    train_first_cols    = train_features[train_features.columns[:2]]\n",
    "    train_data          = train_features[train_features.columns[3:]]\n",
    "    train_labels        = label_encoder.fit_transform(train_features.cancer_type)\n",
    "\n",
    "    test_first_cols    = test_features[test_features.columns[:2]]\n",
    "    test_data          = test_features[test_features.columns[3:]]\n",
    "    test_labels        = label_encoder.fit_transform(test_features.cancer_type)\n",
    "\n",
    "    lr = LogisticRegression(penalty='l2', tol=.01, max_iter=150, \n",
    "                            C=0.25, \n",
    "                            solver=\"liblinear\", multi_class=\"ovr\")\n",
    "    rfe = RFE(estimator=lr, n_features_to_select=800, step=1)\n",
    "    rfe.fit(train_data, train_labels)\n",
    "    ranking = rfe.ranking_\n",
    "    print(ranking)"
   ]
  },
  {
   "cell_type": "markdown",
   "metadata": {},
   "source": [
    "## Create different feature sets"
   ]
  },
  {
   "cell_type": "markdown",
   "metadata": {},
   "source": [
    "### Top n genes most frequent in each cancer type"
   ]
  },
  {
   "cell_type": "code",
   "execution_count": null,
   "metadata": {},
   "outputs": [],
   "source": [
    "# Create a feature matrix, getting the top n genes that are most frequent\n",
    "# per label (cancer type).  Merge these genes and create a feature matrix,\n",
    "# one row per patient tumor, column for each merged gene\n",
    "create_feature_matrix(mutations['train'], mutations['test'], 1000, True, 'features_topgenes_small')"
   ]
  },
  {
   "cell_type": "markdown",
   "metadata": {},
   "source": [
    "### Use KBestFit to find best features (genes)"
   ]
  },
  {
   "cell_type": "code",
   "execution_count": null,
   "metadata": {},
   "outputs": [],
   "source": [
    "# Create a feature matrix, getting the top 1000 genes that are most frequent\n",
    "# per label (cancer type).  Merge these genes.\n",
    "# Then use sklearn BestFit to find top 5000 genes.\n",
    "# Feature matrix will have one row per patient tumor, \n",
    "# column for each 'bestfit' gene\n",
    "create_best_fit_feature_matrix(mutations['train'], mutations['test'], 1000, 5000, True, \n",
    "                          'features_bestfit_with_topgenes')"
   ]
  },
  {
   "cell_type": "code",
   "execution_count": null,
   "metadata": {},
   "outputs": [],
   "source": [
    "# Create a feature matrix, using sklearn BestFit to find top \n",
    "# 5000 genes. Feature matrix will have one row per patient tumor, \n",
    "# column for each 'bestfit' gene\n",
    "create_best_fit_feature_matrix(mutations['train'], mutations['test'], None, 5000, True,  \n",
    "                           'features_bestfit_med')"
   ]
  },
  {
   "cell_type": "code",
   "execution_count": null,
   "metadata": {},
   "outputs": [],
   "source": [
    "# Create a feature matrix, using sklearn BestFit to find top \n",
    "# 8000 genes. Feature matrix will have one row per patient tumor, \n",
    "# column for each 'bestfit' gene\n",
    "create_best_fit_feature_matrix(mutations['train'], mutations['test'],None, 8000, True,  \n",
    "                           'features_bestfit_large')"
   ]
  },
  {
   "cell_type": "markdown",
   "metadata": {},
   "source": [
    "### Use all genes"
   ]
  },
  {
   "cell_type": "code",
   "execution_count": null,
   "metadata": {},
   "outputs": [],
   "source": [
    "# Create a feature matrix,  Feature matrix will have one row per patient tumor, \n",
    "# column for every gene encountered in training data set.\n",
    "feature_matrix_train, feature_matrix_test = create_all_feature_matrix(mutations['train'], \n",
    "                                                                   mutations['test'], True, 'features_all')"
   ]
  },
  {
   "cell_type": "markdown",
   "metadata": {},
   "source": [
    "### Use Recursive Feature Elimination"
   ]
  },
  {
   "cell_type": "code",
   "execution_count": null,
   "metadata": {},
   "outputs": [],
   "source": [
    "#\n",
    "# Trim the features using Recursive Feature Elimination\n",
    "#\n",
    "#label_encoder            = preprocessing.LabelEncoder()\n",
    "#create_rfe_feature_matrix(feature_matrix_train, feature_matrix_test, label_encoder, \n",
    "#                          'rfe_logit', True)"
   ]
  },
  {
   "cell_type": "markdown",
   "metadata": {},
   "source": [
    "### Use Logistic Regression with L1 regularization a different C values"
   ]
  },
  {
   "cell_type": "code",
   "execution_count": null,
   "metadata": {},
   "outputs": [],
   "source": [
    "#\n",
    "# Trim the features using Logistic Regression, L1 regularization\n",
    "#\n",
    "label_encoder            = preprocessing.LabelEncoder()\n",
    "create_l1_feature_matrix(feature_matrix_train, feature_matrix_test, label_encoder,\n",
    "           'features_l1reg', True)"
   ]
  },
  {
   "cell_type": "markdown",
   "metadata": {},
   "source": [
    "### Use PCA for dimensionality reduction"
   ]
  },
  {
   "cell_type": "code",
   "execution_count": null,
   "metadata": {},
   "outputs": [],
   "source": [
    "pca = PCA()\n",
    "all_features_train = feature_matrix_train.drop(columns=['case_id', 'cancer_type'])\n",
    "pca.fit(all_features_train)\n",
    "ev = np.cumsum(pca.explained_variance_ratio_)\n",
    "evcount = len(ev[ev<99.0])\n",
    "print(\"Number of features that expain 99% of the variance: \", evcount)\n",
    "pca = PCA(n_components=evcount)\n",
    "pca.fit(all_features_train)\n",
    "train_PCA = pca.transform(all_features_train)\n",
    "all_features_test = feature_matrix_test.drop(columns=['case_id', 'cancer_type'])\n",
    "test_PCA = pca.transform(all_features_test)\n"
   ]
  },
  {
   "cell_type": "code",
   "execution_count": null,
   "metadata": {},
   "outputs": [],
   "source": [
    "train_PCA_df = pd.DataFrame(train_PCA)\n",
    "train_PCA_df['case_id'] = feature_matrix_train['case_id']\n",
    "train_PCA_df['cancer_type'] = feature_matrix_train['cancer_type']\n",
    "\n",
    "test_PCA_df = pd.DataFrame(test_PCA)\n",
    "test_PCA_df['case_id'] = feature_matrix_test['case_id']\n",
    "test_PCA_df['cancer_type'] = feature_matrix_test['cancer_type']\n",
    "\n",
    "#reorder columns and write out\n",
    "for df, f_name in zip( (train_PCA_df, test_PCA_df), \n",
    "                      ('./data/features_after_pca.train.csv', './data/features_after_pca.test.csv') ):\n",
    "  cols = df.columns.tolist()\n",
    "  cols = cols[-2:] + cols[:-2]\n",
    "  df = df[cols]\n",
    "  df.to_csv(f_name)\n"
   ]
  },
  {
   "cell_type": "code",
   "execution_count": null,
   "metadata": {},
   "outputs": [],
   "source": []
  }
 ],
 "metadata": {
  "kernelspec": {
   "display_name": "Python 3",
   "language": "python",
   "name": "python3"
  },
  "language_info": {
   "codemirror_mode": {
    "name": "ipython",
    "version": 3
   },
   "file_extension": ".py",
   "mimetype": "text/x-python",
   "name": "python",
   "nbconvert_exporter": "python",
   "pygments_lexer": "ipython3",
   "version": "3.7.1"
  }
 },
 "nbformat": 4,
 "nbformat_minor": 2
}
