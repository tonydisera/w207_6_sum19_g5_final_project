{
 "cells": [
  {
   "cell_type": "code",
   "execution_count": 1,
   "metadata": {},
   "outputs": [],
   "source": [
    "import pandas as pd\n",
    "import urllib.request\n",
    "import numpy as np\n",
    "import matplotlib.pyplot as plt\n",
    "from IPython.display import display\n",
    "from sklearn.feature_selection import SelectKBest\n",
    "from sklearn.feature_selection import chi2\n",
    "from sklearn import preprocessing\n",
    "from sklearn.linear_model import LogisticRegression\n",
    "\n",
    "plt.rcParams.update({'figure.max_open_warning': 0})"
   ]
  },
  {
   "cell_type": "markdown",
   "metadata": {},
   "source": [
    "## EDA ##\n",
    "\n",
    "Here, we open the data we put together in the previous notebook. For the first analysis, we look at $cancer\\_type$, $patient\\_barcode$, $gene$ and $gene_type$."
   ]
  },
  {
   "cell_type": "code",
   "execution_count": 2,
   "metadata": {},
   "outputs": [
    {
     "name": "stdout",
     "output_type": "stream",
     "text": [
      "Loading data ...\n",
      "done.\n",
      "Mutations training data count: 2775593\n",
      "Mutations test data count:     795283\n"
     ]
    }
   ],
   "source": [
    "print('Loading data ...')\n",
    "mutations = {}\n",
    "mutations['train'] = pd.read_csv(\"./data/somatic_mutations_train.csv\", \n",
    "                             usecols=['cancer_type', 'patient_barcode', 'gene', 'gene_type'])\n",
    "mutations['test']  = pd.read_csv(\"./data/somatic_mutations_test.csv\", \n",
    "                             usecols=['cancer_type', 'patient_barcode', 'gene', 'gene_type'])\n",
    "print(\"done.\")\n",
    "print(\"Mutations training data count:\", mutations['train']['patient_barcode'].count())\n",
    "print(\"Mutations test data count:    \", mutations['test']['patient_barcode'].count())"
   ]
  },
  {
   "cell_type": "markdown",
   "metadata": {},
   "source": [
    "First, eliminate non-coding genes.  This is a common filter applied in bioinformatics to ensure that\n",
    "only genes that code for proteins are included in the analysis."
   ]
  },
  {
   "cell_type": "code",
   "execution_count": 3,
   "metadata": {},
   "outputs": [
    {
     "name": "stdout",
     "output_type": "stream",
     "text": [
      "Filtered out  2062 genes\n",
      "Filtered out  1822 genes\n"
     ]
    }
   ],
   "source": [
    "# Eliminate non-coding genes\n",
    "def eliminateNonCodingGenes(data):\n",
    "    before_count               = data.gene.nunique()\n",
    "    data                       = data[data.gene_type == 'protein_coding']\n",
    "    after_count                = data.gene.nunique()\n",
    "    print(\"Filtered out \", str(before_count -after_count), \"genes\")\n",
    "\n",
    "\n",
    "eliminateNonCodingGenes(mutations['train'])\n",
    "eliminateNonCodingGenes(mutations['test'])"
   ]
  },
  {
   "cell_type": "code",
   "execution_count": 4,
   "metadata": {},
   "outputs": [
    {
     "name": "stdout",
     "output_type": "stream",
     "text": [
      "Genes by patient frequency\n",
      "  mean: 102\n",
      "  min:  1\n",
      "  max:  3092\n"
     ]
    },
    {
     "data": {
      "text/plain": [
       "Text(0, 0.5, 'Number of Patient Tumors (gene is present in)')"
      ]
     },
     "execution_count": 4,
     "metadata": {},
     "output_type": "execute_result"
    },
    {
     "data": {
      "image/png": "[encoded data removed]",
      "text/plain": [
       "<Figure size 864x288 with 1 Axes>"
      ]
     },
     "metadata": {
      "needs_background": "light"
     },
     "output_type": "display_data"
    }
   ],
   "source": [
    "# Show the distribution of genes across patient tumors\n",
    "gene_count         = mutations['train'].groupby(['gene'])['patient_barcode'].nunique().reset_index(name='count')\n",
    "gene_count.columns = ['gene', 'patient_count']\n",
    "gene_count         = gene_count.sort_values(['patient_count', 'gene'], ascending=[0,1])\n",
    "print('Genes by patient frequency')\n",
    "print(\"  mean:\", int(gene_count['patient_count'].mean()))\n",
    "print(\"  min: \", int(gene_count['patient_count'].min()))\n",
    "print(\"  max: \", int(gene_count['patient_count'].max()))\n",
    "gene_count.head(10)\n",
    "\n",
    "ax = gene_count['patient_count'].hist(bins=200, figsize=(12,4))\n",
    "ax.set_xlabel(\"Number of Genes\")\n",
    "ax.set_ylabel(\"Number of Patient Tumors (gene is present in)\")"
   ]
  },
  {
   "cell_type": "markdown",
   "metadata": {},
   "source": [
    "From the histogram above, it is clear that even through we have a large number of genes, only a small number of them are turned on in the patient tumor data that we have. This is the classic problem of a large feature space with a much smaller number of samples. Hence we will need to perform a dimensionality reduction technique such as PCA here."
   ]
  },
  {
   "cell_type": "code",
   "execution_count": 5,
   "metadata": {},
   "outputs": [
    {
     "name": "stdout",
     "output_type": "stream",
     "text": [
      "\n",
      "Number of cancer types: 32\n",
      "\n",
      "Number of patients: 8006\n"
     ]
    },
    {
     "data": {
      "text/plain": [
       "<matplotlib.axes._subplots.AxesSubplot at 0x11f044438>"
      ]
     },
     "execution_count": 5,
     "metadata": {},
     "output_type": "execute_result"
    },
    {
     "data": {
      "image/png": "[encoded data removed]",
      "text/plain": [
       "<Figure size 864x288 with 1 Axes>"
      ]
     },
     "metadata": {
      "needs_background": "light"
     },
     "output_type": "display_data"
    }
   ],
   "source": [
    "# Print out the number of cancer types that are present in the \n",
    "# mutations dataset\n",
    "cancer_types = mutations['train'].cancer_type.unique()\n",
    "print(\"\\nNumber of cancer types:\", len(cancer_types))\n",
    "\n",
    "# Get number of cases per cancer type\n",
    "group_patients_by_cancer = mutations['train'].groupby(['cancer_type'])['patient_barcode'].nunique()\n",
    "print(\"\\nNumber of patients:\", group_patients_by_cancer.sum())\n",
    "group_patients_by_cancer.plot.bar(figsize=(12,4))"
   ]
  },
  {
   "cell_type": "markdown",
   "metadata": {},
   "source": [
    "The above chart shows that there are some cancers, such as BRCA and LUAD that have a large representation in our dataset, but other such as DBLC and UCS that are present in much smaller numbers. This will present a challenge for our classifier. Specifically, we want our classifier to be able to classify each of the 32 types of cancers with high precision, but the model should also be able to identify the cancers that don't have a proportionate representation in our data set. It could be that these are cancers are rare, or perhaps they are simply rare in our dataset. **Note:** add more details about the cancers that are abundant as well as rare in this dataset."
   ]
  },
  {
   "cell_type": "code",
   "execution_count": 6,
   "metadata": {},
   "outputs": [
    {
     "name": "stdout",
     "output_type": "stream",
     "text": [
      "Mean number of genes represented for each cancer type: 11626\n",
      "Min number of genes represented for each cancer type:  1458\n",
      "Max number of genes represented for each cancer type:  20844\n"
     ]
    },
    {
     "data": {
      "image/png": "[encoded data removed]",
      "text/plain": [
       "<Figure size 864x288 with 1 Axes>"
      ]
     },
     "metadata": {
      "needs_background": "light"
     },
     "output_type": "display_data"
    }
   ],
   "source": [
    "# Get the unique genes per cancer type\n",
    "group_genes_by_cancer = mutations['train'].groupby(['cancer_type'])['gene'].nunique();\n",
    "group_genes_by_cancer.plot.bar(figsize=(12,4))\n",
    "print(\"Mean number of genes represented for each cancer type:\", int(np.round(group_genes_by_cancer.mean())))\n",
    "print(\"Min number of genes represented for each cancer type: \", int(np.round(group_genes_by_cancer.min())))\n",
    "print(\"Max number of genes represented for each cancer type: \", int(np.round(group_genes_by_cancer.max())))"
   ]
  },
  {
   "cell_type": "markdown",
   "metadata": {},
   "source": [
    "The above bar chart gives us an idea of how many genes (features for us) are _on_ for each of the cancer types. Cross referencing this chart with the previous one, we see that for some cancers such as DLBC and UCS we have a fair number of active features, even though the number of cases of such cancers are low. We should be able to person isolated (one-vs-rest) analysis for these cases. However, for other cancers, such as KICH (Kidney Chromophobe) and UVM (Uveal Melanoma) we have both a low occurance rate, and a low number of active features. This second category of cancers will need to be handled with care."
   ]
  },
  {
   "cell_type": "markdown",
   "metadata": {},
   "source": [
    "Now we create data files by feature counts."
   ]
  },
  {
   "cell_type": "code",
   "execution_count": 7,
   "metadata": {},
   "outputs": [],
   "source": [
    "# Create feature matrix each row is a patient tumor; each column is a gene\n",
    "def createPatientRowFeatureMatrix(mutations, feature_genes, description, save=True):\n",
    "    cases = list()\n",
    "    grouped = mutations.groupby('patient_barcode')\n",
    "    i = int(0)\n",
    "\n",
    "    cols = ['case_id', 'cancer_type']\n",
    "    for gene in feature_genes:\n",
    "        cols.append(gene)\n",
    "\n",
    "\n",
    "    for name, group in grouped:\n",
    "        case = list()\n",
    "        case.append(name)\n",
    "        for cc in group.cancer_type.head(1):\n",
    "            case.append(cc)\n",
    "\n",
    "        for gene_flag in feature_genes.isin(group.gene.unique()):\n",
    "            switch = 0\n",
    "            if gene_flag == True:\n",
    "                switch = 1\n",
    "            case.append(switch)\n",
    "        cases.append(case)\n",
    "\n",
    "\n",
    "    cases_df = pd.DataFrame(cases)\n",
    "    cases_df.columns = cols\n",
    "    print(\"  number of rows in dataset\", cases_df.case_id.count())\n",
    "    print(\"  number of cols in dataset\", len(cols))\n",
    "    \n",
    "    # Write out transformed data to csv\n",
    "    if save:\n",
    "        fileName = \"./data/\" + description + \".csv\"\n",
    "        print(\"  writing\", fileName, \"...\")\n",
    "        cases_df.to_csv(fileName)\n",
    "        print(\"  done.\")\n",
    "    \n",
    "    return cases_df\n"
   ]
  },
  {
   "cell_type": "code",
   "execution_count": 8,
   "metadata": {},
   "outputs": [],
   "source": [
    "def showGenesAcrossCancerTypes(top_gene_cancer_matrix, top_n_gene_count, total_gene_count):\n",
    "    plt.rcParams[\"figure.figsize\"] = (10,4)\n",
    "    sums_by_cancer_type = top_gene_cancer_matrix.sum(axis=1, skipna=True, numeric_only=True) \n",
    "    sorted = sums_by_cancer_type.sort_values(ascending=False).reindex()\n",
    "    df = pd.DataFrame(sorted).reset_index()\n",
    "    df.columns = ['gene', 'patient_count']\n",
    "    df.reset_index()    \n",
    "    title = 'Patient counts for genes (top ' + str(top_n_gene_count) + ')';\n",
    "    ax = df.head(50).plot.bar(x='gene', y='patient_count', legend=None, title=title)\n",
    "\n",
    "    cancer_type_present_count = top_gene_cancer_matrix.astype(bool).sum(axis=1, skipna=True, numeric_only=True)\n",
    "    sorted = cancer_type_present_count.sort_values(ascending=False).reindex()\n",
    "    df = pd.DataFrame(sorted).reset_index()\n",
    "    df.columns = ['gene', 'present_in_cancer_type_count']\n",
    "    df.reset_index()    \n",
    "\n",
    "    axarr = df.hist(bins=32)\n",
    "\n",
    "    for ax in axarr.flatten():\n",
    "        ax.set_xlabel(\"Number of cancer types gene is present\")\n",
    "        ax.set_ylabel(\"Gene frequency\")\n",
    "    \n",
    "    return df"
   ]
  },
  {
   "cell_type": "code",
   "execution_count": 9,
   "metadata": {},
   "outputs": [],
   "source": [
    "\n",
    "def showGenesForCancerType(cancer_type, sorted_genes):\n",
    "    plt.rcParams[\"figure.figsize\"] = (20,3)\n",
    "    df = pd.DataFrame(sorted_genes).reset_index()\n",
    "    df.columns = ['gene', 'count']\n",
    "    df.reset_index()    \n",
    "    ax = df.head(50).plot.bar(x='gene', y='count', legend=None, title=cancer_type)\n",
    "    "
   ]
  },
  {
   "cell_type": "code",
   "execution_count": 10,
   "metadata": {},
   "outputs": [],
   "source": [
    "\n",
    "def createFeatureMatrix(mutations_train, mutations_test, top_n_gene_count, save, description, charts=True):\n",
    "    print(\"Formatting gene matrix with top \", top_n_gene_count, \"genes from each cancer type\")\n",
    "    \n",
    "    # Now try to find the most common genes per cancer type and\n",
    "    # merge these together to come up with a master list\n",
    "    cancer_gene_count = mutations_train.groupby(['cancer_type', 'gene'])['patient_barcode'].nunique().reset_index(name='count')\n",
    "    cancer_gene_count.columns = ['cancer_type', 'gene', 'patient_count']\n",
    "\n",
    "\n",
    "\n",
    "    # Now create a large matrix, row is the gene, column for each cancer type\n",
    "    df = pd.DataFrame(cancer_gene_count, columns=['cancer_type', 'gene', 'patient_count'])\n",
    "    gene_cancer_matrix = pd.pivot_table(df, values='patient_count', index=['gene'],\n",
    "                         columns=['cancer_type'], aggfunc=np.sum, fill_value=0)\n",
    "    \n",
    "    \n",
    "\n",
    "    # Now find the top n genes for each cancer type\n",
    "    top_genes = []\n",
    "    idx = 0\n",
    "\n",
    "    plt.rcParams[\"figure.figsize\"] = (20,20)\n",
    "    for cancer_type in gene_cancer_matrix.columns:\n",
    "        sorted_genes = gene_cancer_matrix[cancer_type].sort_values(ascending=False)\n",
    "        top_rows = sorted_genes[sorted_genes > 0].head(top_n_gene_count)\n",
    "        for gene, patient_count in top_rows.items():\n",
    "            top_genes.append(list([cancer_type, gene, patient_count]))\n",
    "\n",
    "\n",
    "    # Turn this back into a matrix, row is gene, column for each cancer type\n",
    "    top_df = pd.DataFrame(top_genes, columns=['cancer_type', 'gene', 'patient_count'])\n",
    "    top_gene_cancer_matrix = pd.pivot_table(top_df, values='patient_count', index=['gene'],\n",
    "                         columns=['cancer_type'], aggfunc=np.sum, fill_value=0)\n",
    "    print(\"  number of genes:\", top_gene_cancer_matrix.shape[0])\n",
    "    if charts:\n",
    "        showGenesAcrossCancerTypes(top_gene_cancer_matrix, \n",
    "                                   top_n_gene_count, \n",
    "                                   top_gene_cancer_matrix.shape[0] )\n",
    "    feature_genes = top_gene_cancer_matrix.index\n",
    "    print(\"  number of genes after filter:\", len(feature_genes))\n",
    "    createPatientRowFeatureMatrix(mutations_train, feature_genes, description + \".train\", save)\n",
    "    createPatientRowFeatureMatrix(mutations_test,  feature_genes, description + \".test\", save)"
   ]
  },
  {
   "cell_type": "code",
   "execution_count": 11,
   "metadata": {},
   "outputs": [],
   "source": [
    "def createBestFitFeatureMatrix(mutations_train, mutations_test, top_n_genes, n_features, \n",
    "                               save, description, charts=True):\n",
    "    print(\"Formatting gene matrix with best fit for\", n_features, \"features\")\n",
    "    \n",
    "    # Now try to find the most common genes per cancer type and\n",
    "    # merge these together to come up with a master list\n",
    "    cancer_gene_count = mutations_train.groupby(['cancer_type', 'gene'])['patient_barcode'].nunique().reset_index(name='count')\n",
    "    cancer_gene_count.columns = ['cancer_type', 'gene', 'patient_count']\n",
    "\n",
    "\n",
    "\n",
    "    # Now create a large matrix, row is the gene, column for each cancer type\n",
    "    df = pd.DataFrame(cancer_gene_count, columns=['cancer_type', 'gene', 'patient_count'])\n",
    "    gene_cancer_matrix = pd.pivot_table(df, values='patient_count', index=['gene'],\n",
    "                         columns=['cancer_type'], aggfunc=np.sum, fill_value=0)\n",
    "    \n",
    "    \n",
    "\n",
    "    # Now find the top n genes for each cancer type\n",
    "    top_genes = []\n",
    "    for cancer_type in gene_cancer_matrix.columns:\n",
    "        sorted_genes = gene_cancer_matrix[cancer_type].sort_values(ascending=False)\n",
    "        if (top_n_genes == None):\n",
    "            top_rows = sorted_genes[sorted_genes > 0].head(top_n_genes)\n",
    "        else:\n",
    "            top_rows = sorted_genes\n",
    "        for gene, patient_count in top_rows.items():\n",
    "            top_genes.append(list([cancer_type, gene, patient_count]))\n",
    "\n",
    "\n",
    "    # Turn this back into a matrix, row is patient, column for each gene\n",
    "    top_df = pd.DataFrame(top_genes, columns=['cancer_type', 'gene', 'patient_count'])\n",
    "    top_gene_cancer_matrix = pd.pivot_table(top_df, values='patient_count', index=['gene'],\n",
    "                         columns=['cancer_type'], aggfunc=np.sum, fill_value=0)\n",
    "    showGenesAcrossCancerTypes(top_gene_cancer_matrix, \n",
    "                               top_n_genes, \n",
    "                               n_features )\n",
    "\n",
    "    #\n",
    "    # Create feature matrix, each row is patient, columns are genes\n",
    "    #\n",
    "    feature_genes = top_gene_cancer_matrix.index\n",
    "    print(\"  number of genes before best fit:     \", len(feature_genes))\n",
    "    feature_matrix_train = createPatientRowFeatureMatrix(mutations_train, feature_genes, '', False)\n",
    "    feature_matrix_test  = createPatientRowFeatureMatrix(mutations_test, feature_genes, '', False)\n",
    "    \n",
    "    #\n",
    "    #  Try BestFit (chi squared test) to find most\n",
    "    #  important genes\n",
    "    #\n",
    "    best_genes  = getBestFitFeatures(feature_matrix_train, n_features)\n",
    "    cancer_type = feature_matrix_train['cancer_type']\n",
    "    case_id     = feature_matrix_train['case_id']\n",
    "    data_train  = feature_matrix_train.loc[:, feature_matrix_train.columns.isin(best_genes)]\n",
    "    \n",
    "    print(\"  number of genes before after best fit:\", data_train.shape[1])\n",
    "    final_feature_matrix_train = pd.concat([case_id, cancer_type, data_train], axis=1)\n",
    "\n",
    "    cancer_type = feature_matrix_test['cancer_type']\n",
    "    case_id     = feature_matrix_test['case_id']\n",
    "    data_test  = feature_matrix_test.loc[:, feature_matrix_test.columns.isin(best_genes)]\n",
    "    final_feature_matrix_test = pd.concat([case_id, cancer_type, data_test], axis=1)\n",
    "    \n",
    "    if save:\n",
    "        fileName = \"./data/\" + description  + \".train.csv\"\n",
    "        print(\"  writing\", fileName, \"...\")\n",
    "        final_feature_matrix_train.to_csv(fileName)\n",
    "        print(\"  done.\")        \n",
    "        \n",
    "        fileName = \"./data/\" + description  + \".test.csv\"\n",
    "        print(\"  writing\", fileName, \"...\")\n",
    "        final_feature_matrix_test.to_csv(fileName)\n",
    "        print(\"  done.\")        "
   ]
  },
  {
   "cell_type": "code",
   "execution_count": 12,
   "metadata": {},
   "outputs": [],
   "source": [
    "def getBestFitFeatures(feature_matrix, n_features):\n",
    "    #apply SelectKBest class to extract top 10 best features\n",
    "    bestfeatures = SelectKBest(score_func=chi2, k=n_features)\n",
    "    \n",
    "    data = feature_matrix.loc[:, (feature_matrix.columns != 'cancer_type') & (feature_matrix.columns != 'case_id')]\n",
    "    labels_string = feature_matrix['cancer_type']\n",
    "    \n",
    "    le = preprocessing.LabelEncoder()\n",
    "    labels = le.fit_transform(labels_string)\n",
    "    \n",
    "    fit = bestfeatures.fit(data,labels)\n",
    "    dfscores = pd.DataFrame(fit.scores_)\n",
    "    dfcolumns = pd.DataFrame(data.columns)\n",
    "    \n",
    "    #concat two dataframes for better visualization \n",
    "    featureScores = pd.concat([dfcolumns,dfscores],axis=1)\n",
    "    featureScores.columns = ['gene','score']  \n",
    "    display(featureScores.nlargest(10,'score'))  \n",
    "    return list(featureScores.nlargest(n_features,'score')['gene'])"
   ]
  },
  {
   "cell_type": "code",
   "execution_count": 13,
   "metadata": {},
   "outputs": [],
   "source": [
    "def createAllFeatureMatrix(mutations_train, mutations_test, save, description):\n",
    "    print(\"Formatting gene matrix with for all features\")\n",
    "    #\n",
    "    # Create feature matrix, each row is patient, columns are genes\n",
    "    #\n",
    "    feature_genes = pd.Series(mutations_train.gene.unique())\n",
    "    feature_matrix_train = createPatientRowFeatureMatrix(mutations_train, feature_genes, description + \".train\", save)\n",
    "    feature_matrix_test = createPatientRowFeatureMatrix(mutations_test,  feature_genes, description + \".test\", save)\n",
    "    return feature_matrix_train, feature_matrix_test"
   ]
  },
  {
   "cell_type": "code",
   "execution_count": 28,
   "metadata": {},
   "outputs": [],
   "source": [
    "def trimWithL1(train_features, test_features, label_encoder, description, save):\n",
    "    \n",
    "    train_first_cols    = train_features[train_features.columns[:2]]\n",
    "    train_data          = train_features[train_features.columns[3:]]\n",
    "    train_labels        = label_encoder.fit_transform(train_features.cancer_type)\n",
    "\n",
    "    test_first_cols    = test_features[test_features.columns[:2]]\n",
    "    test_data          = test_features[test_features.columns[3:]]\n",
    "    test_labels        = label_encoder.fit_transform(test_features.cancer_type)\n",
    "\n",
    "    params = {'C':  [100, 10, 1, .5]}\n",
    "    \n",
    "    for c_param in reversed(params['C']):\n",
    "        # Keep this random seed here to make comparison easier.\n",
    "        np.random.seed(0)\n",
    "\n",
    "        #\n",
    "        # Perform Logistic Regression on different C values\n",
    "        # using L1 regularization\n",
    "        #\n",
    "        l1 = LogisticRegression(penalty='l1', tol=.01, \n",
    "                            solver=\"liblinear\", multi_class=\"ovr\",\n",
    "                            max_iter=500, C=c_param)\n",
    "        # Fit model\n",
    "        l1.fit(train_data, train_labels) \n",
    "\n",
    "\n",
    "        # Get the features with non-zero coefficients.  We will use\n",
    "        # this list to reduce the features \n",
    "        non_zero_sums = np.where(np.sum(l1.coef_, axis=0) != 0)\n",
    "        names = np.array(list(train_data.columns))\n",
    "        non_zero_genes = names[non_zero_sums] \n",
    "\n",
    "\n",
    "        #\n",
    "        # Reduce feature size, only keeping features with non-zero weights \n",
    "        # found using l1 regularization\n",
    "        #\n",
    "        trimmed_train_data = train_data[non_zero_genes]\n",
    "        trimmed_test_data  = test_data[non_zero_genes]\n",
    "        \n",
    "        final_features_train = pd.concat([train_first_cols, trimmed_train_data], axis=1)\n",
    "        final_features_test =  pd.concat([test_first_cols, trimmed_test_data], axis=1)\n",
    "        \n",
    "        if save:\n",
    "            fileName = \"./data/\" + description + \"_c\" + str(c_param) + \".train.csv\"\n",
    "            print(\"  writing\", fileName, \"...\")\n",
    "            final_features_train.to_csv(fileName)\n",
    "            print(\"  done.\")        \n",
    "\n",
    "            fileName = \"./data/\" + description + \"_c\" + str(c_param) + \".test.csv\"\n",
    "            print(\"  writing\", fileName, \"...\")\n",
    "            final_features_test.to_csv(fileName)\n",
    "            print(\"  done.\")        \n",
    "        \n"
   ]
  },
  {
   "cell_type": "code",
   "execution_count": null,
   "metadata": {},
   "outputs": [],
   "source": [
    "# Create a feature matrix, getting the top n genes that are most frequent\n",
    "# per label (cancer type).  Merge these genes and create a feature matrix,\n",
    "# one row per patient tumor, column for each merged gene\n",
    "createFeatureMatrix(mutations['train'], mutations['test'], 1000, True, 'features_topgenes_small')"
   ]
  },
  {
   "cell_type": "code",
   "execution_count": null,
   "metadata": {},
   "outputs": [],
   "source": [
    "# Create a feature matrix, getting the top 1000 genes that are most frequent\n",
    "# per label (cancer type).  Merge these genes.\n",
    "# Then use sklearn BestFit to find top 5000 genes.\n",
    "# Feature matrix will have one row per patient tumor, \n",
    "# column for each 'bestfit' gene\n",
    "createBestFitFeatureMatrix(mutations['train'], mutations['test'], 1000, 5000, True, \n",
    "                           'features_bestfit_with_topgenes')"
   ]
  },
  {
   "cell_type": "code",
   "execution_count": null,
   "metadata": {},
   "outputs": [],
   "source": [
    "# Create a feature matrix, using sklearn BestFit to find top \n",
    "# 5000 genes. Feature matrix will have one row per patient tumor, \n",
    "# column for each 'bestfit' gene\n",
    "createBestFitFeatureMatrix(mutations['train'], mutations['test'], None, 5000, True,  \n",
    "                           'features_bestfit_med')"
   ]
  },
  {
   "cell_type": "code",
   "execution_count": null,
   "metadata": {},
   "outputs": [],
   "source": [
    "# Create a feature matrix, using sklearn BestFit to find top \n",
    "# 8000 genes. Feature matrix will have one row per patient tumor, \n",
    "# column for each 'bestfit' gene\n",
    "createBestFitFeatureMatrix(mutations['train'], mutations['test'],None, 8000, True,  \n",
    "                           'features_bestfit_large')"
   ]
  },
  {
   "cell_type": "code",
   "execution_count": 16,
   "metadata": {},
   "outputs": [
    {
     "name": "stdout",
     "output_type": "stream",
     "text": [
      "Formatting gene matrix with for all features\n",
      "  number of rows in dataset 8006\n",
      "  number of cols in dataset 21262\n",
      "  number of rows in dataset 2002\n",
      "  number of cols in dataset 21262\n"
     ]
    }
   ],
   "source": [
    "# Create a feature matrix,  Feature matrix will have one row per patient tumor, \n",
    "# column for every gene encountered in training data set.\n",
    "feature_matrix_train, feature_matrix_test = createAllFeatureMatrix(mutations['train'], \n",
    "                                                                   mutations['test'], True, 'features_all')"
   ]
  },
  {
   "cell_type": "code",
   "execution_count": 29,
   "metadata": {},
   "outputs": [
    {
     "name": "stdout",
     "output_type": "stream",
     "text": [
      "Index(['case_id', 'cancer_type'], dtype='object')\n"
     ]
    },
    {
     "data": {
      "text/html": [
       "<div>\n",
       "<style scoped>\n",
       "    .dataframe tbody tr th:only-of-type {\n",
       "        vertical-align: middle;\n",
       "    }\n",
       "\n",
       "    .dataframe tbody tr th {\n",
       "        vertical-align: top;\n",
       "    }\n",
       "\n",
       "    .dataframe thead th {\n",
       "        text-align: right;\n",
       "    }\n",
       "</style>\n",
       "<table border=\"1\" class=\"dataframe\">\n",
       "  <thead>\n",
       "    <tr style=\"text-align: right;\">\n",
       "      <th></th>\n",
       "      <th>case_id</th>\n",
       "      <th>cancer_type</th>\n",
       "      <th>JAKMIP3</th>\n",
       "      <th>FAT3</th>\n",
       "      <th>BTBD11</th>\n",
       "      <th>NOS1</th>\n",
       "      <th>SLC2A14</th>\n",
       "      <th>SLC2A3</th>\n",
       "      <th>EML1</th>\n",
       "      <th>MYH6</th>\n",
       "      <th>...</th>\n",
       "      <th>HHLA1</th>\n",
       "      <th>C20orf62</th>\n",
       "      <th>C15orf62</th>\n",
       "      <th>DMBT1P1</th>\n",
       "      <th>C14orf23</th>\n",
       "      <th>C2CD4C</th>\n",
       "      <th>RP11-421L10.1</th>\n",
       "      <th>RNF222</th>\n",
       "      <th>IGHJ5</th>\n",
       "      <th>RP11-481J13.1</th>\n",
       "    </tr>\n",
       "  </thead>\n",
       "  <tbody>\n",
       "    <tr>\n",
       "      <th>0</th>\n",
       "      <td>TCGA-02-0003</td>\n",
       "      <td>GBM</td>\n",
       "      <td>1</td>\n",
       "      <td>1</td>\n",
       "      <td>1</td>\n",
       "      <td>1</td>\n",
       "      <td>1</td>\n",
       "      <td>1</td>\n",
       "      <td>1</td>\n",
       "      <td>1</td>\n",
       "      <td>...</td>\n",
       "      <td>0</td>\n",
       "      <td>0</td>\n",
       "      <td>0</td>\n",
       "      <td>0</td>\n",
       "      <td>0</td>\n",
       "      <td>0</td>\n",
       "      <td>0</td>\n",
       "      <td>0</td>\n",
       "      <td>0</td>\n",
       "      <td>0</td>\n",
       "    </tr>\n",
       "    <tr>\n",
       "      <th>1</th>\n",
       "      <td>TCGA-02-0033</td>\n",
       "      <td>GBM</td>\n",
       "      <td>0</td>\n",
       "      <td>0</td>\n",
       "      <td>0</td>\n",
       "      <td>0</td>\n",
       "      <td>0</td>\n",
       "      <td>0</td>\n",
       "      <td>0</td>\n",
       "      <td>0</td>\n",
       "      <td>...</td>\n",
       "      <td>0</td>\n",
       "      <td>0</td>\n",
       "      <td>0</td>\n",
       "      <td>0</td>\n",
       "      <td>0</td>\n",
       "      <td>0</td>\n",
       "      <td>0</td>\n",
       "      <td>0</td>\n",
       "      <td>0</td>\n",
       "      <td>0</td>\n",
       "    </tr>\n",
       "    <tr>\n",
       "      <th>2</th>\n",
       "      <td>TCGA-02-0047</td>\n",
       "      <td>GBM</td>\n",
       "      <td>0</td>\n",
       "      <td>1</td>\n",
       "      <td>0</td>\n",
       "      <td>0</td>\n",
       "      <td>0</td>\n",
       "      <td>0</td>\n",
       "      <td>0</td>\n",
       "      <td>0</td>\n",
       "      <td>...</td>\n",
       "      <td>0</td>\n",
       "      <td>0</td>\n",
       "      <td>0</td>\n",
       "      <td>0</td>\n",
       "      <td>0</td>\n",
       "      <td>0</td>\n",
       "      <td>0</td>\n",
       "      <td>0</td>\n",
       "      <td>0</td>\n",
       "      <td>0</td>\n",
       "    </tr>\n",
       "    <tr>\n",
       "      <th>3</th>\n",
       "      <td>TCGA-02-0055</td>\n",
       "      <td>GBM</td>\n",
       "      <td>0</td>\n",
       "      <td>0</td>\n",
       "      <td>0</td>\n",
       "      <td>1</td>\n",
       "      <td>0</td>\n",
       "      <td>0</td>\n",
       "      <td>0</td>\n",
       "      <td>0</td>\n",
       "      <td>...</td>\n",
       "      <td>0</td>\n",
       "      <td>0</td>\n",
       "      <td>0</td>\n",
       "      <td>0</td>\n",
       "      <td>0</td>\n",
       "      <td>0</td>\n",
       "      <td>0</td>\n",
       "      <td>0</td>\n",
       "      <td>0</td>\n",
       "      <td>0</td>\n",
       "    </tr>\n",
       "    <tr>\n",
       "      <th>4</th>\n",
       "      <td>TCGA-02-2466</td>\n",
       "      <td>GBM</td>\n",
       "      <td>0</td>\n",
       "      <td>0</td>\n",
       "      <td>0</td>\n",
       "      <td>0</td>\n",
       "      <td>0</td>\n",
       "      <td>0</td>\n",
       "      <td>0</td>\n",
       "      <td>0</td>\n",
       "      <td>...</td>\n",
       "      <td>0</td>\n",
       "      <td>0</td>\n",
       "      <td>0</td>\n",
       "      <td>0</td>\n",
       "      <td>0</td>\n",
       "      <td>0</td>\n",
       "      <td>0</td>\n",
       "      <td>0</td>\n",
       "      <td>0</td>\n",
       "      <td>0</td>\n",
       "    </tr>\n",
       "  </tbody>\n",
       "</table>\n",
       "<p>5 rows × 4750 columns</p>\n",
       "</div>"
      ],
      "text/plain": [
       "        case_id cancer_type  JAKMIP3  FAT3  BTBD11  NOS1  SLC2A14  SLC2A3  \\\n",
       "0  TCGA-02-0003         GBM        1     1       1     1        1       1   \n",
       "1  TCGA-02-0033         GBM        0     0       0     0        0       0   \n",
       "2  TCGA-02-0047         GBM        0     1       0     0        0       0   \n",
       "3  TCGA-02-0055         GBM        0     0       0     1        0       0   \n",
       "4  TCGA-02-2466         GBM        0     0       0     0        0       0   \n",
       "\n",
       "   EML1  MYH6      ...        HHLA1  C20orf62  C15orf62  DMBT1P1  C14orf23  \\\n",
       "0     1     1      ...            0         0         0        0         0   \n",
       "1     0     0      ...            0         0         0        0         0   \n",
       "2     0     0      ...            0         0         0        0         0   \n",
       "3     0     0      ...            0         0         0        0         0   \n",
       "4     0     0      ...            0         0         0        0         0   \n",
       "\n",
       "   C2CD4C  RP11-421L10.1  RNF222  IGHJ5  RP11-481J13.1  \n",
       "0       0              0       0      0              0  \n",
       "1       0              0       0      0              0  \n",
       "2       0              0       0      0              0  \n",
       "3       0              0       0      0              0  \n",
       "4       0              0       0      0              0  \n",
       "\n",
       "[5 rows x 4750 columns]"
      ]
     },
     "metadata": {},
     "output_type": "display_data"
    },
    {
     "name": "stdout",
     "output_type": "stream",
     "text": [
      "  writing ./data/features_l1reg_c0.5.train.csv ...\n",
      "  done.\n",
      "  writing ./data/features_l1reg_c0.5.test.csv ...\n",
      "  done.\n"
     ]
    }
   ],
   "source": [
    "#\n",
    "# Trim the features using Logistic Regression, L1 regularization\n",
    "#\n",
    "label_encoder            = preprocessing.LabelEncoder()\n",
    "trimWithL1(feature_matrix_train, feature_matrix_test, label_encoder,\n",
    "           'features_l1reg', True)"
   ]
  },
  {
   "cell_type": "code",
   "execution_count": null,
   "metadata": {},
   "outputs": [],
   "source": []
  }
 ],
 "metadata": {
  "kernelspec": {
   "display_name": "Python 3",
   "language": "python",
   "name": "python3"
  },
  "language_info": {
   "codemirror_mode": {
    "name": "ipython",
    "version": 3
   },
   "file_extension": ".py",
   "mimetype": "text/x-python",
   "name": "python",
   "nbconvert_exporter": "python",
   "pygments_lexer": "ipython3",
   "version": "3.7.1"
  }
 },
 "nbformat": 4,
 "nbformat_minor": 2
}
