{
 "cells": [
  {
   "cell_type": "code",
   "execution_count": null,
   "metadata": {},
   "outputs": [],
   "source": [
    "import warnings\n",
    "import pandas as pd\n",
    "import urllib.request\n",
    "import numpy as np\n",
    "from IPython.display import display\n",
    "from sklearn.model_selection import StratifiedKFold\n",
    "from sklearn.naive_bayes import MultinomialNB\n",
    "from sklearn.neighbors import KNeighborsClassifier\n",
    "from sklearn.linear_model import LogisticRegression\n",
    "from sklearn.model_selection import GridSearchCV\n",
    "from sklearn import metrics\n",
    "from sklearn import preprocessing\n",
    "from sklearn.model_selection import train_test_split\n",
    "import matplotlib.pyplot as plt\n",
    "from sklearn.metrics import precision_recall_fscore_support\n",
    "from sklearn.metrics import accuracy_score\n",
    "from sklearn.metrics import confusion_matrix\n",
    "from textwrap import wrap\n",
    "from sklearn.svm import LinearSVC\n",
    "from sklearn.svm import SVC\n",
    "import glob"
   ]
  },
  {
   "cell_type": "code",
   "execution_count": null,
   "metadata": {},
   "outputs": [],
   "source": [
    "def getDataAndLabels(features):\n",
    "    labels_string = features.cancer_type\n",
    "    le            = preprocessing.LabelEncoder()\n",
    "    labels        = le.fit_transform(labels_string)\n",
    "\n",
    "    # Get rid of the cancer type and patient_id columns \n",
    "    data = features[features.columns[3:]]\n",
    "    return {'data': data, 'labels': labels , 'label_encoder': le }"
   ]
  },
  {
   "cell_type": "code",
   "execution_count": null,
   "metadata": {},
   "outputs": [],
   "source": [
    "print('Loading training data ...')\n",
    "\n",
    "train_files = glob.glob(\"./data/features_*.train.csv\")\n",
    "all_train_data = {}\n",
    "for filename in train_files:\n",
    "    \n",
    "    name = filename[16:-10]\n",
    "    print(\" \", name)\n",
    "    train_features = pd.read_csv(filename)\n",
    "    all_train_data[name] = getDataAndLabels(train_features)\n",
    "\n",
    "print(\"done.\")"
   ]
  },
  {
   "cell_type": "code",
   "execution_count": null,
   "metadata": {},
   "outputs": [],
   "source": [
    "print('Loading test data ...')\n",
    "\n",
    "test_files = glob.glob(\"./data/features_*.test.csv\")\n",
    "all_test_data = {}\n",
    "for filename in test_files:\n",
    "    \n",
    "    name = filename[16:-9]\n",
    "    print(\" \", name)\n",
    "    test_features = pd.read_csv(filename)\n",
    "    all_test_data[name] = getDataAndLabels(test_features)\n",
    "\n",
    "print(\"done.\")"
   ]
  },
  {
   "cell_type": "code",
   "execution_count": null,
   "metadata": {},
   "outputs": [],
   "source": [
    "for name in all_train_data.keys():\n",
    "    print(\"************************\")\n",
    "    print(name)\n",
    "    print(\"************************\")\n",
    "\n",
    "    train      = all_train_data[name]\n",
    "    test       = all_test_data[name]"
   ]
  },
  {
   "cell_type": "code",
   "execution_count": null,
   "metadata": {},
   "outputs": [],
   "source": [
    "import tensorflow as tf\n",
    "import tensorflow.keras as K\n",
    "from tensorflow.keras.layers import Dense as Dense\n",
    "from tensorflow.keras.utils import to_categorical\n",
    "from tensorflow.keras import regularizers\n",
    "from tensorflow.keras.layers import Dropout\n",
    "\n",
    "train = all_train_data['bestfit_with_topgenes']\n",
    "test = all_test_data['bestfit_with_topgenes']\n",
    "train_data = train['data']\n",
    "train_labels = train['labels']\n",
    "test_data = test['data']\n",
    "test_labels = test['labels']\n",
    "tr_lab = to_categorical(train_labels)\n",
    "test_lab = to_categorical(test_labels)\n",
    "model = K.Sequential()\n",
    "model.add(Dense(2000, input_dim=train_data.shape[1], activation='relu', kernel_regularizer=regularizers.l1_l2(l2=0.01,l1=0.01)))\n",
    "model.add(Dropout(0.2))\n",
    "model.add(Dense(1000, activation='relu'))\n",
    "model.add(Dropout(0.2))\n",
    "model.add(Dense(400, activation='relu'))\n",
    "model.add(Dropout(0.2))\n",
    "model.add(Dense(100, activation='relu'))\n",
    "model.add(Dropout(0.2))\n",
    "model.add(Dense(64, activation='relu'))\n",
    "model.add(Dropout(0.2))\n",
    "model.add(Dense(32, activation='sigmoid'))\n",
    "model.compile(optimizer='adam', loss='categorical_crossentropy', metrics = [\"accuracy\"])\n",
    "model.fit(train_data, tr_lab, epochs=100, batch_size=100)\n",
    "evaluate = model.evaluate(x = test_data, y = test_lab)\n",
    "test_pred = model.predict(test_data)\n",
    "\n",
    "nn_prf_scores = precision_recall_fscore_support(test_labels,np.argmax(test_pred,1), average='weighted')\n",
    "nn_scores_by_label = precision_recall_fscore_support(test_labels,np.argmax(test_pred,1), average=None)\n",
    "nn_macro = precision_recall_fscore_support(test_labels,np.argmax(test_pred,1), average='macro')\n",
    "print(\"Precision = (Weighted) \", np.round(nn_prf_scores[0], 4))  \n",
    "print(\"Recall = (Weighted) \", np.round(nn_prf_scores[1], 4))  \n",
    "print(\"F1 = (Weighted) \", np.round(nn_prf_scores[2], 4)) \n",
    "print(\"Precision (Macro) = \", np.round(nn_macro[0], 4))  \n",
    "print(\"Recall (Macro) = \", np.round(nn_macro[1], 4))  \n",
    "print(\"F1 (Macro) = \", np.round(nn_macro[2], 4))\n",
    "print (\"Loss = \", str(evaluate[0]))\n",
    "print (\"Test Accuracy = \", str(evaluate[1]))"
   ]
  }
 ],
 "metadata": {
  "@webio": {
   "lastCommId": null,
   "lastKernelId": null
  },
  "kernelspec": {
   "display_name": "Python 3",
   "language": "python",
   "name": "python3"
  },
  "language_info": {
   "codemirror_mode": {
    "name": "ipython",
    "version": 3
   },
   "file_extension": ".py",
   "mimetype": "text/x-python",
   "name": "python",
   "nbconvert_exporter": "python",
   "pygments_lexer": "ipython3",
   "version": "3.7.2"
  },
  "toc": {
   "base_numbering": 1,
   "nav_menu": {},
   "number_sections": true,
   "sideBar": true,
   "skip_h1_title": false,
   "title_cell": "Table of Contents",
   "title_sidebar": "Contents",
   "toc_cell": false,
   "toc_position": {},
   "toc_section_display": true,
   "toc_window_display": false
  }
 },
 "nbformat": 4,
 "nbformat_minor": 2
}
