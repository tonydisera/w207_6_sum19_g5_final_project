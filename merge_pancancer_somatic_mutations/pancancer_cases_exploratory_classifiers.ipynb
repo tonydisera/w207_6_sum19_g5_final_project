{
 "cells": [
  {
   "cell_type": "code",
   "execution_count": null,
   "metadata": {},
   "outputs": [],
   "source": [
    "import pandas as pd\n",
    "import urllib.request\n",
    "import numpy as np\n",
    "from IPython.display import display\n",
    "from sklearn.model_selection import StratifiedKFold\n",
    "from sklearn.naive_bayes import MultinomialNB\n",
    "from sklearn.neighbors import KNeighborsClassifier\n",
    "from sklearn.linear_model import LogisticRegression\n",
    "from sklearn.model_selection import GridSearchCV\n",
    "from sklearn import preprocessing\n",
    "from sklearn.model_selection import train_test_split\n"
   ]
  },
  {
   "cell_type": "code",
   "execution_count": null,
   "metadata": {},
   "outputs": [],
   "source": [
    "print('Loading case data ...')\n",
    "cases = pd.read_csv(\"pancancer_case_features.csv\")\n",
    "print(\"done.\")"
   ]
  },
  {
   "cell_type": "code",
   "execution_count": null,
   "metadata": {},
   "outputs": [],
   "source": [
    "labels_string = cases.cancer_type\n",
    "le = preprocessing.LabelEncoder()\n",
    "labels = le.fit_transform(labels_string)\n",
    "\n",
    "\n",
    "# Get rid of the cancer type and patient_id columns \n",
    "data = cases[cases.columns[3:]]\n",
    "\n",
    "display(labels)\n",
    "display(data.head())"
   ]
  },
  {
   "cell_type": "code",
   "execution_count": null,
   "metadata": {},
   "outputs": [],
   "source": [
    "skf = StratifiedKFold(n_splits=10)\n",
    "for train_index, test_index in skf.split(data, labels):\n",
    "    train_data, test_data     = data.values[train_index], data.values[test_index]\n",
    "    train_labels, test_labels = labels[train_index], labels[test_index]\n",
    "    print(len(train_data), len(test_data))\n",
    "    \n",
    "\n"
   ]
  },
  {
   "cell_type": "code",
   "execution_count": null,
   "metadata": {},
   "outputs": [],
   "source": [
    "train_data, test_data, train_labels, test_labels = train_test_split(data, labels,\n",
    "                                                    stratify=labels, \n",
    "                                                    test_size=0.25)"
   ]
  },
  {
   "cell_type": "code",
   "execution_count": null,
   "metadata": {},
   "outputs": [],
   "source": [
    "\n",
    "\n",
    "\n",
    "#\n",
    "# Multinomial Naive Bayes\n",
    "#\n",
    "mnb = MultinomialNB()\n",
    "params = {'alpha': [0.0001, 0.001, 0.01, 0.1, 0.5]}\n",
    "mnb = GridSearchCV(mnb, params, cv=5,\n",
    "                               scoring='accuracy', return_train_score=True)\n",
    "# Fit  training data\n",
    "mnb.fit(train_data, train_labels)  \n",
    "# Show the best alpha parameter to use and the expected accuracy\n",
    "print('\\nMultinomial Naive Bayes Classifier')\n",
    "print(' Best param:',   mnb.best_params_)\n",
    "print(' Accuracy:  ',   np.round(mnb.best_score_, 4) )\n",
    "\n",
    "\n",
    "#\n",
    "# Logistic Regression\n",
    "#\n",
    "lr = LogisticRegression(penalty='l2', multi_class = 'ovr', solver='liblinear', max_iter=150)\n",
    "params = {'C': [.01,  .18, .2, 1, 10]}\n",
    "logit = GridSearchCV(lr, params, cv=5,\n",
    "                     scoring='accuracy', return_train_score=True)\n",
    "\n",
    "# Fit  training data\n",
    "logit.fit(train_data, train_labels)  \n",
    "# Show the best C parameter to use and the expected accuracy\n",
    "print('Logistic Regression Classifier')\n",
    "print(' Best param:', logit.best_params_)\n",
    "print(' Accuracy:  ', np.round(logit.best_score_, 4) )\n",
    "\n",
    "\n",
    "\n",
    "\n"
   ]
  },
  {
   "cell_type": "code",
   "execution_count": null,
   "metadata": {},
   "outputs": [],
   "source": []
  },
  {
   "cell_type": "code",
   "execution_count": null,
   "metadata": {},
   "outputs": [],
   "source": []
  }
 ],
 "metadata": {
  "kernelspec": {
   "display_name": "Python 3",
   "language": "python",
   "name": "python3"
  },
  "language_info": {
   "codemirror_mode": {
    "name": "ipython",
    "version": 3
   },
   "file_extension": ".py",
   "mimetype": "text/x-python",
   "name": "python",
   "nbconvert_exporter": "python",
   "pygments_lexer": "ipython3",
   "version": "3.7.1"
  }
 },
 "nbformat": 4,
 "nbformat_minor": 2
}
