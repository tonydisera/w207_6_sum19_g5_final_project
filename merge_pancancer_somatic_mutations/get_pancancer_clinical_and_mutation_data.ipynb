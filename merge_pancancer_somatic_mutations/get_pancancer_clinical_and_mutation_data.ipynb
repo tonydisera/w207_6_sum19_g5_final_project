{
 "cells": [
  {
   "cell_type": "code",
   "execution_count": null,
   "metadata": {},
   "outputs": [],
   "source": [
    "import pandas as pd\n",
    "import urllib.request\n",
    "import numpy as np\n",
    "from IPython.display import display\n",
    "import os"
   ]
  },
  {
   "cell_type": "code",
   "execution_count": null,
   "metadata": {},
   "outputs": [],
   "source": [
    "# This downloads a 753 MB mutations gzip file.  This will take about 1-5 mins depending on your\n",
    "# connection speed.\n",
    "filename = \"pancancer_mutations.maf.gz\"\n",
    "if os.path.isfile(filename):\n",
    "    print(\"Skipping download, as file %s is present\" %(filename))\n",
    "else:\n",
    "    print('Downloading mutation data. 753 MB ...')\n",
    "    url = 'http://api.gdc.cancer.gov/data/1c8cfe5f-e52d-41ba-94da-f15ea1337efc'  \n",
    "    urllib.request.urlretrieve(url, './pancancer_mutations.maf.gz')  \n",
    "print(\"done.\")"
   ]
  },
  {
   "cell_type": "code",
   "execution_count": null,
   "metadata": {},
   "outputs": [],
   "source": [
    "# This downloads an 18 MB clinical data file\n",
    "filename = \"pancancer_clinical.txt\"\n",
    "if os.path.isfile(filename):\n",
    "    print(\"Skipping download, as file %s is present\" %(filename))\n",
    "else:\n",
    "    print('Downloading clinical data ...')\n",
    "    url = 'http://api.gdc.cancer.gov/data/0fc78496-818b-4896-bd83-52db1f533c5c'  \n",
    "    urllib.request.urlretrieve(url, './pancancer_clinical.txt')  \n",
    "print(\"done.\")"
   ]
  },
  {
   "cell_type": "code",
   "execution_count": null,
   "metadata": {},
   "outputs": [],
   "source": [
    "# Load the mutations dataframe\n",
    "print('Loading mutations dataframe ...')\n",
    "mutations = pd.read_csv(\"pancancer_mutations.maf.gz\", compression='gzip',\n",
    "                        sep='\\t',\n",
    "                        usecols=['Tumor_Sample_Barcode','Hugo_Symbol', \n",
    "                                 'Variant_Classification', 'Variant_Type',\n",
    "                                'Chromosome', 'Start_Position',\n",
    "                                 'End_Position', 'Strand', 'CENTERS'])\n",
    "print(\"done.\")\n",
    "print(\"Mutations count\", mutations.Tumor_Sample_Barcode.count())\n",
    "display(mutations.head())"
   ]
  },
  {
   "cell_type": "code",
   "execution_count": null,
   "metadata": {},
   "outputs": [],
   "source": [
    "mutations.head()"
   ]
  },
  {
   "cell_type": "code",
   "execution_count": null,
   "metadata": {},
   "outputs": [],
   "source": [
    "# Set mutations index\n",
    "mutations['row'] = np.arange(len(mutations))\n",
    "mutations.set_index('row')"
   ]
  },
  {
   "cell_type": "code",
   "execution_count": null,
   "metadata": {},
   "outputs": [],
   "source": [
    "# Load the clinical data\n",
    "print('Loading clinical dataframe ...')\n",
    "clinical = pd.read_csv(\"pancancer_clinical.txt\", sep='\\t',\n",
    "                        usecols=['bcr_patient_uuid','bcr_patient_barcode', 'gender', \n",
    "                                 'vital_status', 'days_to_birth', 'days_to_death', \n",
    "                                 'age_at_initial_pathologic_diagnosis', 'pathologic_stage', \n",
    "                                 'height', 'weight'])\n",
    "\n",
    "print('Clinical count', clinical.bcr_patient_uuid.count())\n",
    "display(clinical.head())"
   ]
  },
  {
   "cell_type": "code",
   "execution_count": null,
   "metadata": {},
   "outputs": [],
   "source": [
    "# Read the cancertypes.  These are the matching labels for the mutations file\n",
    "print(\"Loading labels dataframe ...\")\n",
    "labels = pd.read_csv(\"labels.txt\", sep='\\t')\n",
    "labels.columns = [\"cancer_type\"]\n",
    "labels['row'] = np.arange(len(labels))\n",
    "labels.set_index('row')\n",
    "print('Labels count', labels.cancer_type.count())"
   ]
  },
  {
   "cell_type": "code",
   "execution_count": null,
   "metadata": {},
   "outputs": [],
   "source": [
    "# Merge the labels with the mutations\n",
    "mutations = mutations.merge(labels, left_on='row', right_on='row')\n",
    "display(mutations.head())"
   ]
  },
  {
   "cell_type": "code",
   "execution_count": null,
   "metadata": {},
   "outputs": [],
   "source": [
    "# Get the patient barcode.  This is what we will use to join the mutations to the clinical data\n",
    "def parsePatientBarcode(tumor_sample_barcode):\n",
    "        return tumor_sample_barcode[0:12]\n",
    "\n",
    "mutations['bcr_patient_barcode'] = mutations['Tumor_Sample_Barcode'].apply(parsePatientBarcode)"
   ]
  },
  {
   "cell_type": "code",
   "execution_count": null,
   "metadata": {},
   "outputs": [],
   "source": [
    "merged = mutations.merge(clinical, left_on='bcr_patient_barcode', right_on='bcr_patient_barcode')\n",
    "display(merged.head())\n",
    "merged.Tumor_Sample_Barcode.count()\n",
    "print('Merged mutations count', merged.Tumor_Sample_Barcode.count())"
   ]
  },
  {
   "cell_type": "code",
   "execution_count": null,
   "metadata": {},
   "outputs": [],
   "source": [
    "# Write out new merged dataframe as csv file\n",
    "print(\"Writing new csv file with merged mutations, clinical, and cancer types ...\")\n",
    "merged.to_csv(\"pancancer_mutations_merged.csv\")\n",
    "print(\"done.\")"
   ]
  },
  {
   "cell_type": "code",
   "execution_count": null,
   "metadata": {},
   "outputs": [],
   "source": [
    "\n"
   ]
  },
  {
   "cell_type": "code",
   "execution_count": null,
   "metadata": {},
   "outputs": [],
   "source": []
  }
 ],
 "metadata": {
  "kernelspec": {
   "display_name": "Python 3",
   "language": "python",
   "name": "python3"
  },
  "language_info": {
   "codemirror_mode": {
    "name": "ipython",
    "version": 3
   },
   "file_extension": ".py",
   "mimetype": "text/x-python",
   "name": "python",
   "nbconvert_exporter": "python",
   "pygments_lexer": "ipython3",
   "version": "3.7.1"
  }
 },
 "nbformat": 4,
 "nbformat_minor": 2
}
