{
 "cells": [
  {
   "cell_type": "code",
   "execution_count": 1,
   "metadata": {},
   "outputs": [],
   "source": [
    "import pandas as pd\n",
    "import urllib.request\n",
    "import numpy as np\n",
    "from IPython.display import display\n",
    "import os\n",
    "\n",
    "from IPython.core.interactiveshell import InteractiveShell\n",
    "InteractiveShell.ast_node_interactivity = \"all\""
   ]
  },
  {
   "cell_type": "markdown",
   "metadata": {},
   "source": [
    "# Data Collection #\n",
    "\n",
    "For our analysis of cancer prediction using gene mutation and clinical data from patients, we will gather data from multiple sources. First we obtain the gene mutation data from the $cancer.gov$ website. Next we get the patient clinical data also from the $cancer.gov$ website. In our notebook, we store this data locally so that it does not have to downloaded if the notebook kernel is restarted and run multiple times."
   ]
  },
  {
   "cell_type": "code",
   "execution_count": 2,
   "metadata": {},
   "outputs": [
    {
     "name": "stdout",
     "output_type": "stream",
     "text": [
      "Skipping download, as file pancancer_mutations.maf.gz is present\n",
      "done.\n"
     ]
    }
   ],
   "source": [
    "# This downloads a 753 MB mutations gzip file.  This will take about 1-5 mins depending on your\n",
    "# connection speed.\n",
    "filename = \"pancancer_mutations.maf.gz\"\n",
    "if os.path.isfile(filename):\n",
    "    print(\"Skipping download, as file %s is present\" %(filename))\n",
    "else:\n",
    "    print('Downloading mutation data. 753 MB (may take a few minutes)...')\n",
    "    url = 'http://api.gdc.cancer.gov/data/1c8cfe5f-e52d-41ba-94da-f15ea1337efc'  \n",
    "    urllib.request.urlretrieve(url, './pancancer_mutations.maf.gz')  \n",
    "print(\"done.\")"
   ]
  },
  {
   "cell_type": "code",
   "execution_count": 3,
   "metadata": {},
   "outputs": [
    {
     "name": "stdout",
     "output_type": "stream",
     "text": [
      "Skipping download, as file pancancer_clinical.txt is present\n",
      "done.\n"
     ]
    }
   ],
   "source": [
    "# This downloads an 18 MB clinical data file\n",
    "filename = \"pancancer_clinical.txt\"\n",
    "if os.path.isfile(filename):\n",
    "    print(\"Skipping download, as file %s is present\" %(filename))\n",
    "else:\n",
    "    print('Downloading clinical data ...')\n",
    "    url = 'http://api.gdc.cancer.gov/data/0fc78496-818b-4896-bd83-52db1f533c5c'  \n",
    "    urllib.request.urlretrieve(url, './pancancer_clinical.txt')  \n",
    "print(\"done.\")"
   ]
  },
  {
   "cell_type": "markdown",
   "metadata": {},
   "source": [
    "## Loading Gene Mutation Data ##\n",
    "\n",
    "Here we read the gene mutation data. This data file contains many columns, but after careful curation, we have decided to consider the following colums:\n",
    "\n",
    "1. **Tumor_Sample_Barcode**: this contains the barcode with the first 12 characters identifying the patient\n",
    "2. **Hugo_Symbol**: this is the actual gene that has been mutated (for e.g. TACC2, JAKMIP3, PANX3)\n",
    "3. **BIOTYPE**: this indicates if the gene is protein coding or not.\n",
    "4. **Chromosome**  **Start_Position** **End_Position** **Strand**: the chromosome, start position and end position tells us the location of the gene where the mutation is seen.  Strand indicates if it is on the forward or reverse strand of the DNA.\n",
    "5. **Variant_Type**: this indicates if it is a single substitution mutation (SNP), a small deletion (DEL), or small insertion (INS), two nucleotide substitution (DNP), three nucleotide substitution (TNP), or more that three nucleotide substitution (ONP)\n",
    "6. **Variant_Classification**: this indicates what kind of molecular effect that this mutation will have on the protein.  The most common classes indicate if the substitution causes a change to the amino acid (missense vs silent).  Nonsense mutations cause premature termination of the protein; frameshift mutations cause a misreading of the amino acid sequence.\n",
    "7. **IMPACT**: this indicates how damaging the mutation -- HIGH, MODERATE, MODIFIER, or LOW.\n"
   ]
  },
  {
   "cell_type": "code",
   "execution_count": 4,
   "metadata": {},
   "outputs": [
    {
     "name": "stdout",
     "output_type": "stream",
     "text": [
      "Loading mutations dataframe ...\n"
     ]
    },
    {
     "name": "stderr",
     "output_type": "stream",
     "text": [
      "/Users/tonyd/anaconda3/lib/python3.7/site-packages/IPython/core/interactiveshell.py:3020: DtypeWarning: Columns (4) have mixed types. Specify dtype option on import or set low_memory=False.\n",
      "  interactivity=interactivity, compiler=compiler, result=result)\n"
     ]
    },
    {
     "name": "stdout",
     "output_type": "stream",
     "text": [
      "done.\n",
      "Mutations count 3600963\n"
     ]
    }
   ],
   "source": [
    "# Load the mutations dataframe\n",
    "print('Loading mutations dataframe ...')\n",
    "mutations = pd.read_csv(\"pancancer_mutations.maf.gz\", compression='gzip',\n",
    "                        sep='\\t',\n",
    "                        usecols=['Tumor_Sample_Barcode','Hugo_Symbol', 'BIOTYPE',\n",
    "                                'Chromosome', 'Start_Position',  'End_Position', 'Strand',\n",
    "                                'Variant_Type',  'Variant_Classification', 'IMPACT' ])\n",
    "print(\"done.\")\n",
    "print(\"Mutations count\", mutations.Tumor_Sample_Barcode.count())"
   ]
  },
  {
   "cell_type": "code",
   "execution_count": null,
   "metadata": {},
   "outputs": [],
   "source": [
    "mutations.head()"
   ]
  },
  {
   "cell_type": "code",
   "execution_count": null,
   "metadata": {},
   "outputs": [],
   "source": [
    "len(mutations['Hugo_Symbol'].unique())\n",
    "list(mutations['BIOTYPE'].unique())\n",
    "list(mutations['IMPACT'].unique())\n",
    "list(mutations['Variant_Classification'].unique())\n",
    "list(mutations['Variant_Type'].unique())"
   ]
  },
  {
   "cell_type": "code",
   "execution_count": null,
   "metadata": {},
   "outputs": [],
   "source": [
    "# Set mutations index\n",
    "mutations['row'] = np.arange(len(mutations))\n",
    "mutations.set_index('row')"
   ]
  },
  {
   "cell_type": "markdown",
   "metadata": {},
   "source": [
    "The actual cancer type for each of the gene mutations above is kept in a different file. The entries are located at corresponding rows, so we use that to merge the cancer type from the labels.txt file."
   ]
  },
  {
   "cell_type": "code",
   "execution_count": null,
   "metadata": {},
   "outputs": [],
   "source": [
    "# Read the cancertypes.  These are the matching labels for the mutations file\n",
    "print(\"Loading labels dataframe ...\")\n",
    "labels = pd.read_csv(\"labels.txt\", sep='\\t')\n",
    "labels.columns = [\"cancer_type\"]\n",
    "labels['row'] = np.arange(len(labels))\n",
    "labels.set_index('row')\n",
    "print('Labels count', labels.cancer_type.count())"
   ]
  },
  {
   "cell_type": "markdown",
   "metadata": {},
   "source": [
    "As we can see, there are **3600963** data points in both the gene dataframe and the cancer label dataframe. So now we merge the label information into the main mutations dataframe. The idea is that when we bring in the patient information, we will go from a _row for each gene_ to a _row for each patient_, with all the gene mutation data for that patient added as columns. With this, the cancer type (label) will also gets included as a column. "
   ]
  },
  {
   "cell_type": "code",
   "execution_count": null,
   "metadata": {},
   "outputs": [],
   "source": [
    "# Merge the labels with the mutations\n",
    "mutations = mutations.merge(labels, left_on='row', right_on='row')\n",
    "display(mutations.head())"
   ]
  },
  {
   "cell_type": "markdown",
   "metadata": {},
   "source": [
    "## Loading Patient Data##\n",
    "\n",
    "Here we load the clinical data. This is data for patients for whom we collected the gene mutation data above. The patients are identified by $bcr\\_patient\\_barcode$. We will use this field to populate the gene mutation data from the dataframe above in the table we are about to read. The clinical data has patient information such as age, gender etc."
   ]
  },
  {
   "cell_type": "code",
   "execution_count": 9,
   "metadata": {},
   "outputs": [
    {
     "name": "stdout",
     "output_type": "stream",
     "text": [
      "Loading clinical dataframe ...\n",
      "Clinical count 10956\n"
     ]
    },
    {
     "data": {
      "text/html": [
       "<div>\n",
       "<style scoped>\n",
       "    .dataframe tbody tr th:only-of-type {\n",
       "        vertical-align: middle;\n",
       "    }\n",
       "\n",
       "    .dataframe tbody tr th {\n",
       "        vertical-align: top;\n",
       "    }\n",
       "\n",
       "    .dataframe thead th {\n",
       "        text-align: right;\n",
       "    }\n",
       "</style>\n",
       "<table border=\"1\" class=\"dataframe\">\n",
       "  <thead>\n",
       "    <tr style=\"text-align: right;\">\n",
       "      <th></th>\n",
       "      <th>bcr_patient_barcode</th>\n",
       "      <th>acronym</th>\n",
       "      <th>gender</th>\n",
       "      <th>vital_status</th>\n",
       "      <th>days_to_birth</th>\n",
       "      <th>days_to_death</th>\n",
       "      <th>age_at_initial_pathologic_diagnosis</th>\n",
       "      <th>race</th>\n",
       "      <th>ethnicity</th>\n",
       "      <th>pathologic_stage</th>\n",
       "      <th>height</th>\n",
       "      <th>weight</th>\n",
       "      <th>menopause_status</th>\n",
       "    </tr>\n",
       "  </thead>\n",
       "  <tbody>\n",
       "    <tr>\n",
       "      <th>0</th>\n",
       "      <td>TCGA-OR-A5J1</td>\n",
       "      <td>ACC</td>\n",
       "      <td>MALE</td>\n",
       "      <td>Dead</td>\n",
       "      <td>-21496</td>\n",
       "      <td>1355.0</td>\n",
       "      <td>58</td>\n",
       "      <td>WHITE</td>\n",
       "      <td>[Not Evaluated]</td>\n",
       "      <td>Stage II</td>\n",
       "      <td>NaN</td>\n",
       "      <td>NaN</td>\n",
       "      <td>NaN</td>\n",
       "    </tr>\n",
       "    <tr>\n",
       "      <th>1</th>\n",
       "      <td>TCGA-OR-A5J2</td>\n",
       "      <td>ACC</td>\n",
       "      <td>FEMALE</td>\n",
       "      <td>Dead</td>\n",
       "      <td>-16090</td>\n",
       "      <td>1677</td>\n",
       "      <td>44</td>\n",
       "      <td>WHITE</td>\n",
       "      <td>HISPANIC OR LATINO</td>\n",
       "      <td>Stage IV</td>\n",
       "      <td>NaN</td>\n",
       "      <td>NaN</td>\n",
       "      <td>NaN</td>\n",
       "    </tr>\n",
       "    <tr>\n",
       "      <th>2</th>\n",
       "      <td>TCGA-OR-A5J3</td>\n",
       "      <td>ACC</td>\n",
       "      <td>FEMALE</td>\n",
       "      <td>Alive</td>\n",
       "      <td>-8624</td>\n",
       "      <td>[Not Applicable]</td>\n",
       "      <td>23</td>\n",
       "      <td>WHITE</td>\n",
       "      <td>HISPANIC OR LATINO</td>\n",
       "      <td>Stage III</td>\n",
       "      <td>NaN</td>\n",
       "      <td>NaN</td>\n",
       "      <td>NaN</td>\n",
       "    </tr>\n",
       "    <tr>\n",
       "      <th>3</th>\n",
       "      <td>TCGA-OR-A5J4</td>\n",
       "      <td>ACC</td>\n",
       "      <td>FEMALE</td>\n",
       "      <td>Dead</td>\n",
       "      <td>-8451</td>\n",
       "      <td>423</td>\n",
       "      <td>23</td>\n",
       "      <td>WHITE</td>\n",
       "      <td>HISPANIC OR LATINO</td>\n",
       "      <td>Stage IV</td>\n",
       "      <td>NaN</td>\n",
       "      <td>NaN</td>\n",
       "      <td>NaN</td>\n",
       "    </tr>\n",
       "    <tr>\n",
       "      <th>4</th>\n",
       "      <td>TCGA-OR-A5J5</td>\n",
       "      <td>ACC</td>\n",
       "      <td>MALE</td>\n",
       "      <td>Dead</td>\n",
       "      <td>-11171</td>\n",
       "      <td>365</td>\n",
       "      <td>30</td>\n",
       "      <td>WHITE</td>\n",
       "      <td>HISPANIC OR LATINO</td>\n",
       "      <td>Stage III</td>\n",
       "      <td>NaN</td>\n",
       "      <td>NaN</td>\n",
       "      <td>NaN</td>\n",
       "    </tr>\n",
       "  </tbody>\n",
       "</table>\n",
       "</div>"
      ],
      "text/plain": [
       "  bcr_patient_barcode acronym  gender vital_status days_to_birth  \\\n",
       "0        TCGA-OR-A5J1     ACC    MALE         Dead        -21496   \n",
       "1        TCGA-OR-A5J2     ACC  FEMALE         Dead        -16090   \n",
       "2        TCGA-OR-A5J3     ACC  FEMALE        Alive         -8624   \n",
       "3        TCGA-OR-A5J4     ACC  FEMALE         Dead         -8451   \n",
       "4        TCGA-OR-A5J5     ACC    MALE         Dead        -11171   \n",
       "\n",
       "      days_to_death age_at_initial_pathologic_diagnosis   race  \\\n",
       "0            1355.0                                  58  WHITE   \n",
       "1              1677                                  44  WHITE   \n",
       "2  [Not Applicable]                                  23  WHITE   \n",
       "3               423                                  23  WHITE   \n",
       "4               365                                  30  WHITE   \n",
       "\n",
       "            ethnicity pathologic_stage height weight menopause_status  \n",
       "0     [Not Evaluated]         Stage II    NaN    NaN              NaN  \n",
       "1  HISPANIC OR LATINO         Stage IV    NaN    NaN              NaN  \n",
       "2  HISPANIC OR LATINO        Stage III    NaN    NaN              NaN  \n",
       "3  HISPANIC OR LATINO         Stage IV    NaN    NaN              NaN  \n",
       "4  HISPANIC OR LATINO        Stage III    NaN    NaN              NaN  "
      ]
     },
     "metadata": {},
     "output_type": "display_data"
    },
    {
     "name": "stdout",
     "output_type": "stream",
     "text": [
      "Number of patients 10956\n"
     ]
    },
    {
     "data": {
      "text/plain": [
       "<matplotlib.axes._subplots.AxesSubplot at 0x1257432b0>"
      ]
     },
     "execution_count": 9,
     "metadata": {},
     "output_type": "execute_result"
    },
    {
     "name": "stdout",
     "output_type": "stream",
     "text": [
      "\n",
      "Number of cancer types 32\n",
      "['ACC' 'BLCA' 'BRCA' 'CESC' 'CHOL' 'COAD' 'DLBC' 'ESCA' 'GBM' 'HNSC'\n",
      " 'KICH' 'KIRC' 'KIRP' 'LGG' 'LIHC' 'LUAD' 'LUSC' 'MESO' 'OV' 'PAAD' 'PCPG'\n",
      " 'PRAD' 'READ' 'SARC' 'SKCM' 'STAD' 'TGCT' 'THCA' 'THYM' 'UCEC' 'UCS'\n",
      " 'UVM']\n"
     ]
    },
    {
     "data": {
      "image/png": "[encoded data removed]",
      "text/plain": [
       "<Figure size 864x288 with 1 Axes>"
      ]
     },
     "metadata": {
      "needs_background": "light"
     },
     "output_type": "display_data"
    }
   ],
   "source": [
    "# Load the clinical data\n",
    "print('Loading clinical dataframe ...')\n",
    "clinical = pd.read_csv(\"pancancer_clinical.txt\", sep='\\t',\n",
    "                        usecols=['bcr_patient_barcode', 'acronym', 'gender', \n",
    "                                 'vital_status', 'days_to_birth', 'days_to_death', \n",
    "                                 'age_at_initial_pathologic_diagnosis', 'pathologic_stage', \n",
    "                                 'height', 'weight', 'menopause_status', 'race', 'ethnicity'])\n",
    "\n",
    "print('Clinical count', clinical.bcr_patient_barcode.count())\n",
    "display(clinical.head())\n",
    "\n",
    "# Get number of cases per cancer type\n",
    "group_by_patient = clinical.groupby(['acronym'])['bcr_patient_barcode'].nunique()\n",
    "print(\"Number of patients\", group_by_patient.sum())\n",
    "group_by_patient.plot.bar(figsize=(12,4))\n",
    "\n",
    "cancer_types = clinical['acronym'].unique()\n",
    "print(\"\\nNumber of cancer types\", len(cancer_types))\n",
    "print(np.sort(cancer_types))\n"
   ]
  },
  {
   "cell_type": "markdown",
   "metadata": {},
   "source": [
    "## Creating Merged Data ##\n",
    "\n",
    "Now that we have both gene and cancer data in one dataframe, and the patient clinical data in another dataframe, we will use the **bcr_patient_barcode** to merge these into a single table. With this, we can drop the Tumor_Sample_Barcode column, since it has served its purpose. Looking at the data, it seems like some patient data is missing from the gene data. Simultaneously, some data in the gene dataframe does not have corresponding clinical data. Hence our merged dataframe size will be lower than the original mutations dataframe size."
   ]
  },
  {
   "cell_type": "code",
   "execution_count": null,
   "metadata": {},
   "outputs": [],
   "source": [
    "# Get the patient barcode.  This is what we will use to join the mutations to the clinical data\n",
    "def parsePatientBarcode(tumor_sample_barcode):\n",
    "        return tumor_sample_barcode[0:12]\n",
    "\n",
    "mutations['bcr_patient_barcode'] = mutations['Tumor_Sample_Barcode'].apply(parsePatientBarcode)\n",
    "mutations = mutations.drop(['Tumor_Sample_Barcode'], axis=1)\n",
    "mutations.head()"
   ]
  },
  {
   "cell_type": "code",
   "execution_count": null,
   "metadata": {},
   "outputs": [],
   "source": [
    "clinical['bcr_patient_barcode'].isnull().values.any()"
   ]
  },
  {
   "cell_type": "code",
   "execution_count": null,
   "metadata": {},
   "outputs": [],
   "source": [
    "missing_count = 0\n",
    "gene_barcode_set = set(mutations.bcr_patient_barcode.unique())\n",
    "for bcr in gene_barcode_set:\n",
    "    if bcr not in set(clinical.bcr_patient_barcode.unique()):\n",
    "        missing_count += 1\n",
    "print(\"%d patients with gene data missing in clinical data\" %missing_count)"
   ]
  },
  {
   "cell_type": "code",
   "execution_count": null,
   "metadata": {},
   "outputs": [],
   "source": [
    "merged = mutations.merge(clinical, left_on='bcr_patient_barcode', right_on='bcr_patient_barcode')\n",
    "display(merged.head())\n",
    "merged.bcr_patient_barcode.count()\n",
    "print('Merged mutations count', merged.bcr_patient_barcode.count())"
   ]
  },
  {
   "cell_type": "code",
   "execution_count": null,
   "metadata": {},
   "outputs": [],
   "source": [
    "# Write out new merged dataframe as csv file\n",
    "print(\"Writing new csv file with merged mutations, clinical, and cancer types ...\")\n",
    "merged.to_csv(\"pancancer_mutations_merged.csv\")\n",
    "print(\"done.\")"
   ]
  },
  {
   "cell_type": "code",
   "execution_count": null,
   "metadata": {},
   "outputs": [],
   "source": []
  },
  {
   "cell_type": "code",
   "execution_count": null,
   "metadata": {},
   "outputs": [],
   "source": []
  }
 ],
 "metadata": {
  "kernelspec": {
   "display_name": "Python 3",
   "language": "python",
   "name": "python3"
  },
  "language_info": {
   "codemirror_mode": {
    "name": "ipython",
    "version": 3
   },
   "file_extension": ".py",
   "mimetype": "text/x-python",
   "name": "python",
   "nbconvert_exporter": "python",
   "pygments_lexer": "ipython3",
   "version": "3.7.1"
  }
 },
 "nbformat": 4,
 "nbformat_minor": 2
}
