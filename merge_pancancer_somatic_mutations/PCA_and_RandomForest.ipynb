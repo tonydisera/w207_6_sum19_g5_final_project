{
 "cells": [
  {
   "cell_type": "code",
   "execution_count": null,
   "metadata": {},
   "outputs": [],
   "source": [
    "# This tells matplotlib not to try opening a new window for each plot.\n",
    "%matplotlib inline\n",
    "\n",
    "import pandas as pd\n",
    "import urllib.request\n",
    "import numpy as np\n",
    "import matplotlib as plt\n",
    "from IPython.display import display\n",
    "from collections import OrderedDict\n",
    "from sklearn.linear_model import LogisticRegression\n",
    "from sklearn.tree import DecisionTreeClassifier\n",
    "from sklearn.ensemble import RandomForestClassifier\n",
    "import numpy as np\n",
    "import scipy.sparse as sp\n",
    "from sklearn import metrics\n",
    "\n",
    "def warn(*args, **kwargs):\n",
    "    pass\n",
    "import warnings\n",
    "warnings.warn = warn\n"
   ]
  },
  {
   "cell_type": "code",
   "execution_count": null,
   "metadata": {},
   "outputs": [],
   "source": [
    "pcdf = pd.read_csv('pancancer_mutations_merged.csv')\n"
   ]
  },
  {
   "cell_type": "code",
   "execution_count": null,
   "metadata": {},
   "outputs": [],
   "source": [
    "#filter out non protein\n",
    "pcdf = pcdf[pcdf.BIOTYPE=='protein_coding']\n",
    "\n",
    "cols = list(pcdf.columns)\n",
    "cols[0] = 'Seq'\n",
    "pcdf.columns=cols\n",
    "lmap = pd.Series(pcdf.cancer_type.values,index=pcdf.bcr_patient_barcode).to_dict()\n",
    "\n",
    "by_patient = pd.pivot_table(pcdf, index=\"bcr_patient_barcode\", columns='Hugo_Symbol',\n",
    "                    values=\"Seq\", aggfunc=\"count\")\n",
    "by_patient = by_patient.fillna(0.0)\n",
    "# this block below changes the columns to a 1/0 depending on whether the gene exists.\n",
    "#for col in by_patient.columns:\n",
    "#  by_patient[col] = np.where(by_patient[col]>0, 1.0, 0)\n"
   ]
  },
  {
   "cell_type": "code",
   "execution_count": null,
   "metadata": {},
   "outputs": [],
   "source": [
    "by_patient = pd.DataFrame(by_patient.to_records())\n",
    "by_patient['cancer_type'] = by_patient[\"bcr_patient_barcode\"].map(lmap)\n",
    "labels = by_patient['cancer_type']"
   ]
  },
  {
   "cell_type": "code",
   "execution_count": null,
   "metadata": {},
   "outputs": [],
   "source": [
    "mat_d = by_patient.drop(['bcr_patient_barcode', 'cancer_type'], axis=1)"
   ]
  },
  {
   "cell_type": "code",
   "execution_count": null,
   "metadata": {},
   "outputs": [],
   "source": [
    "by_ct = pd.pivot_table(pcdf, index=\"cancer_type\", columns='Hugo_Symbol',\n",
    "                    values=\"Seq\", aggfunc=\"count\")\n",
    "\n",
    "def find_features(df, count):\n",
    "  features = set()\n",
    "  cols = list(df.columns)\n",
    "  for _, prow in df.iterrows():\n",
    "    sorted_counts = np.argsort(prow.values)\n",
    "    idxs = set(sorted_counts[-1*count:])\n",
    "    features.update([c for i, c in enumerate(cols) if i in idxs])\n",
    "  return features\n",
    "\n",
    "features = find_features(by_ct, 100)\n"
   ]
  },
  {
   "cell_type": "code",
   "execution_count": null,
   "metadata": {},
   "outputs": [],
   "source": [
    "shuffle = np.random.permutation(np.arange(mat_d.shape[0]))\n",
    "#X, Y  = principalComponents[shuffle], labels.iloc[shuffle]\n",
    "X, Y  = mat_d.iloc[shuffle], labels.iloc[shuffle]\n",
    "train_X = X[:6000]\n",
    "train_Y = Y[:6000].values\n",
    "\n",
    "test_X = X[6000:]\n",
    "test_Y = Y[6000:].values\n",
    "\n"
   ]
  },
  {
   "cell_type": "markdown",
   "metadata": {},
   "source": [
    "# Logistic regression with L1/L2"
   ]
  },
  {
   "cell_type": "code",
   "execution_count": null,
   "metadata": {},
   "outputs": [],
   "source": [
    "clf = LogisticRegression()\n",
    "\n",
    "clf = clf.fit(train_X,  train_Y)\n",
    "pred_Y = clf.predict(test_X)\n",
    "\n",
    "print(\"Accuracy:\",metrics.f1_score(test_Y, pred_Y, average='micro'))\n",
    "sizes=[]\n",
    "accuracies=[]\n",
    "\n",
    "#for c_val in [0.01, 0.03, 0.05, 0.1, 0.3, 0.5, 1, 10, 100, 1000]:\n",
    "for c_val in [0.01, 0.03, 0.05, 0.1, 0.3, 0.5, 1, 10, 100, 1000]:\n",
    "  log_r = LogisticRegression( penalty=\"l1\",  C=c_val, max_iter=200, tol=.01)\n",
    "  log_r.fit(train_X, train_Y)\n",
    "  non_zero1 = list() # list of words with non zero weights\n",
    "  features = train_X.columns\n",
    "  wts = {feat: wt for wt, feat in zip(log_r.coef_.T, features)}\n",
    "  [non_zero1.append(feat) for feat, wts in wts.items() if np.count_nonzero(wts) != 0]\n",
    "  \n",
    "  log_r = LogisticRegression(C=0.5, max_iter=200, penalty=\"l2\")\n",
    "  log_r.fit(train_X[non_zero1], train_Y)\n",
    "  dev_preict2 = log_r.predict(test_X[non_zero1])\n",
    "  sizes.append(len(non_zero1))\n",
    "  accuracies.append(metrics.f1_score(test_Y, dev_preict2, average='weighted'))\n",
    "  print(\"C = %s, Non zero with L1=%s,  F1-Score with L2 and reduced vocabulary =%s \"%(str(c_val), str(len(non_zero1)), \n",
    "                                             metrics.f1_score(test_Y, dev_preict2, average='weighted')))\n"
   ]
  },
  {
   "cell_type": "markdown",
   "metadata": {},
   "source": [
    "# Logistic regression with PCA"
   ]
  },
  {
   "cell_type": "code",
   "execution_count": null,
   "metadata": {},
   "outputs": [],
   "source": [
    "from sklearn.decomposition import PCA\n",
    "pca = PCA()\n",
    "pca.fit(train_X)\n",
    "ev = np.cumsum(pca.explained_variance_)\n",
    "evcount = len(ev[ev<99.0])\n",
    "print(\"Number of features that expain 99% of the variance\", evcount)\n",
    "\n",
    "pca = PCA(n_components=evcount)\n",
    "pca.fit(train_X)\n",
    "train_data = pca.transform(train_X)\n",
    "test_data = pca.transform(test_X)"
   ]
  },
  {
   "cell_type": "code",
   "execution_count": null,
   "metadata": {
    "scrolled": true
   },
   "outputs": [],
   "source": [
    "clf = LogisticRegression()\n",
    "\n",
    "clf = clf.fit(train_data,  train_Y)\n",
    "pred_Y = clf.predict(test_data)\n",
    "\n",
    "print(\"Accuracy:\",metrics.f1_score(test_Y, pred_Y, average='micro'))"
   ]
  },
  {
   "cell_type": "markdown",
   "metadata": {},
   "source": [
    "# Random Forest with PCA"
   ]
  },
  {
   "cell_type": "code",
   "execution_count": null,
   "metadata": {},
   "outputs": [],
   "source": [
    "clf = RandomForestClassifier(n_estimators=1000, n_jobs=20)\n",
    "\n",
    "clf = clf.fit(train_data, train_Y)\n",
    "pred_Y = clf.predict(test_data)\n",
    "# Model Accuracy, how often is the classifier correct?\n",
    "print(\"Accuracy:\",metrics.f1_score(test_Y, pred_Y, average='micro'))"
   ]
  }
 ],
 "metadata": {
  "kernelspec": {
   "display_name": "Python 3",
   "language": "python",
   "name": "python3"
  },
  "language_info": {
   "codemirror_mode": {
    "name": "ipython",
    "version": 3
   },
   "file_extension": ".py",
   "mimetype": "text/x-python",
   "name": "python",
   "nbconvert_exporter": "python",
   "pygments_lexer": "ipython3",
   "version": "3.7.3"
  }
 },
 "nbformat": 4,
 "nbformat_minor": 2
}
