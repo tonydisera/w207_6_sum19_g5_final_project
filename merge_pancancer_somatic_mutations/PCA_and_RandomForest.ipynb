{
 "cells": [
  {
   "cell_type": "code",
   "execution_count": null,
   "metadata": {},
   "outputs": [],
   "source": [
    "# This tells matplotlib not to try opening a new window for each plot.\n",
    "%matplotlib inline\n",
    "\n",
    "import pandas as pd\n",
    "import urllib.request\n",
    "import numpy as np\n",
    "import matplotlib as plt\n",
    "from IPython.display import display\n",
    "from collections import OrderedDict\n",
    "from sklearn.linear_model import LogisticRegression\n",
    "from sklearn.tree import DecisionTreeClassifier\n",
    "from sklearn.ensemble import RandomForestClassifier\n",
    "import numpy as np\n",
    "import scipy.sparse as sp\n",
    "from sklearn import metrics"
   ]
  },
  {
   "cell_type": "code",
   "execution_count": null,
   "metadata": {},
   "outputs": [],
   "source": [
    "# read in the file and convert to sparse matrix\n",
    "cf = open('pancancer_mutations_merged.csv', 'r')\n",
    "pat_out = OrderedDict()\n",
    "gene_idx = dict()\n",
    "gene_counter = 0\n",
    "cols = cf.readline().split(\",\")\n",
    "labels_d = OrderedDict()\n",
    "ignored = set()\n",
    "for i, line in enumerate(cf):\n",
    "  nl = dict(zip(cols, line.split(',')))\n",
    "  biotype, pat, gene, ct = nl['BIOTYPE'], nl['bcr_patient_barcode'], nl['Hugo_Symbol'], nl['cancer_type']\n",
    "  if biotype != 'protein_coding':\n",
    "    ignored.add(gene)\n",
    "    continue\n",
    "  labels_d[pat] = ct\n",
    "  if gene not in gene_idx:\n",
    "    gene_idx[gene] = gene_counter\n",
    "    gene_counter +=1\n",
    "  if pat not in pat_out:\n",
    "    pat_out[pat] = set()\n",
    "  pat_out[pat].add(gene_idx[gene])\n",
    "\n",
    "print(len(gene_idx))"
   ]
  },
  {
   "cell_type": "code",
   "execution_count": null,
   "metadata": {},
   "outputs": [],
   "source": [
    "mat = sp.dok_matrix((len(pat_out.keys()), len(gene_idx)), dtype=np.int8)"
   ]
  },
  {
   "cell_type": "code",
   "execution_count": null,
   "metadata": {},
   "outputs": [],
   "source": [
    "for i, (patient, genes) in enumerate(pat_out.items()):\n",
    "  mat[i, list(genes)] = 1\n",
    "mat = mat.tocsr()"
   ]
  },
  {
   "cell_type": "code",
   "execution_count": null,
   "metadata": {},
   "outputs": [],
   "source": [
    "mat_d = mat.todense()\n",
    "mat_d.shape"
   ]
  },
  {
   "cell_type": "code",
   "execution_count": null,
   "metadata": {},
   "outputs": [],
   "source": [
    "labels = pd.DataFrame(labels_d.values())\n",
    "shuffle = np.random.permutation(np.arange(mat_d.shape[0]))\n",
    "#X, Y  = principalComponents[shuffle], labels.iloc[shuffle]\n",
    "X, Y  = mat_d[shuffle], labels.iloc[shuffle]\n",
    "train_X = X[:6000]\n",
    "train_Y = Y[:6000][0].values\n",
    "\n",
    "test_X = X[6000:]\n",
    "test_Y = Y[6000:][0].values\n"
   ]
  },
  {
   "cell_type": "code",
   "execution_count": null,
   "metadata": {},
   "outputs": [],
   "source": [
    "from sklearn.decomposition import PCA\n",
    "pca = PCA()\n",
    "pca.fit(train_X)"
   ]
  },
  {
   "cell_type": "code",
   "execution_count": null,
   "metadata": {},
   "outputs": [],
   "source": [
    "ev = np.cumsum(pca.explained_variance_)\n",
    "print(\"Number of features that expain 99% of the variance\", len(ev[ev<99.0]))"
   ]
  },
  {
   "cell_type": "code",
   "execution_count": null,
   "metadata": {},
   "outputs": [],
   "source": [
    "from sklearn.decomposition import PCA\n",
    "\n",
    "pca = PCA(n_components=113)\n",
    "pca.fit(train_X)\n",
    "train_data = pca.transform(train_X)\n",
    "test_data = pca.transform(test_X)\n"
   ]
  },
  {
   "cell_type": "markdown",
   "metadata": {},
   "source": [
    "# Logistic regression with PCA"
   ]
  },
  {
   "cell_type": "code",
   "execution_count": null,
   "metadata": {
    "scrolled": true
   },
   "outputs": [],
   "source": [
    "clf = LogisticRegression()\n",
    "\n",
    "clf = clf.fit(train_data,  train_Y)\n",
    "pred_Y = clf.predict(test_data)\n",
    "\n",
    "print(\"Accuracy:\",metrics.f1_score(test_Y, pred_Y, average='micro'))"
   ]
  },
  {
   "cell_type": "markdown",
   "metadata": {},
   "source": [
    "# Random Forest with PCA"
   ]
  },
  {
   "cell_type": "code",
   "execution_count": null,
   "metadata": {},
   "outputs": [],
   "source": [
    "clf = RandomForestClassifier(n_estimators=1000, n_jobs=20)\n",
    "\n",
    "clf = clf.fit(train_data, train_Y)\n",
    "pred_Y = clf.predict(test_data)\n",
    "# Model Accuracy, how often is the classifier correct?\n",
    "print(\"Accuracy:\",metrics.f1_score(test_Y, pred_Y, average='micro'))"
   ]
  },
  {
   "cell_type": "markdown",
   "metadata": {},
   "source": [
    "# Logistic regression with L1/L2"
   ]
  },
  {
   "cell_type": "code",
   "execution_count": null,
   "metadata": {},
   "outputs": [],
   "source": []
  }
 ],
 "metadata": {
  "kernelspec": {
   "display_name": "Python 3",
   "language": "python",
   "name": "python3"
  },
  "language_info": {
   "codemirror_mode": {
    "name": "ipython",
    "version": 3
   },
   "file_extension": ".py",
   "mimetype": "text/x-python",
   "name": "python",
   "nbconvert_exporter": "python",
   "pygments_lexer": "ipython3",
   "version": "3.7.3"
  }
 },
 "nbformat": 4,
 "nbformat_minor": 2
}
