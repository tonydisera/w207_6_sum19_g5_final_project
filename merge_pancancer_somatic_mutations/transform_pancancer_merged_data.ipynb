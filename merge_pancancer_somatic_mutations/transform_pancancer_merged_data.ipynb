{
 "cells": [
  {
   "cell_type": "code",
   "execution_count": null,
   "metadata": {},
   "outputs": [],
   "source": [
    "import pandas as pd\n",
    "import urllib.request\n",
    "import numpy as np\n",
    "import matplotlib as plt\n",
    "from IPython.display import display\n",
    "\n",
    "from IPython.core.interactiveshell import InteractiveShell\n",
    "InteractiveShell.ast_node_interactivity = \"all\""
   ]
  },
  {
   "cell_type": "code",
   "execution_count": null,
   "metadata": {},
   "outputs": [],
   "source": [
    "print('Loading merged data ...')\n",
    "mutations_raw = pd.read_csv(\"pancancer_mutations_merged.csv\", \n",
    "                        usecols=['cancer_type', 'bcr_patient_barcode', 'Hugo_Symbol', 'BIOTYPE'])\n",
    "print(\"done.\")\n",
    "print(\"Mutations count\", mutations['bcr_patient_barcode'].count())"
   ]
  },
  {
   "cell_type": "code",
   "execution_count": null,
   "metadata": {},
   "outputs": [],
   "source": [
    "mutations_raw.head()"
   ]
  },
  {
   "cell_type": "code",
   "execution_count": null,
   "metadata": {},
   "outputs": [],
   "source": [
    "mutations = mutations_raw[mutations_raw['BIOTYPE'] == 'protein_coding']\n",
    "mutations_non_coding_genes = mutations_raw[mutations_raw['BIOTYPE'] != 'protein_coding']\n",
    "\n",
    "coding_genes = list(mutations['Hugo_Symbol'].unique())\n",
    "non_coding_genes = list(mutations_non_coding_genes['Hugo_Symbol'].unique())\n",
    "print(\"Number of coding genes:\", len(coding_genes))\n",
    "print(\"Number of non-coding genes:\", len(non_coding_genes))\n",
    "                                  \n",
    "\n"
   ]
  },
  {
   "cell_type": "code",
   "execution_count": null,
   "metadata": {},
   "outputs": [],
   "source": [
    "# Print out the number of cancer types that are present in the \n",
    "# mutations dataset\n",
    "cancer_types = mutations['cancer_type'].unique()\n",
    "print(\"\\nNumber of cancer types\", len(cancer_types))\n",
    "print(np.sort(cancer_types))\n",
    "\n",
    "\n",
    "\n",
    "# Get number of cases per cancer type\n",
    "group_patients_by_cancer = mutations.groupby(['cancer_type'])['bcr_patient_barcode'].nunique()\n",
    "print(\"\\nNumber of patients\", group_patients_by_cancer.sum())\n",
    "group_patients_by_cancer.plot.bar(figsize=(12,4))"
   ]
  },
  {
   "cell_type": "code",
   "execution_count": null,
   "metadata": {},
   "outputs": [],
   "source": [
    "# Get the unique genes per cancer type\n",
    "group_genes_by_cancer = mutations.groupby(['cancer_type'])['Hugo_Symbol'].nunique();\n",
    "group_genes_by_cancer.plot.bar(figsize=(12,4))\n",
    "print(\"Mean number of genes represented for each cancer type:\", int(np.round(group_genes_by_cancer.mean())))\n",
    "print(\"Min number of genes represented for each cancer type:\", int(np.round(group_genes_by_cancer.min())))\n",
    "print(\"Max number of genes represented for each cancer type:\", int(np.round(group_genes_by_cancer.max())))"
   ]
  },
  {
   "cell_type": "code",
   "execution_count": null,
   "metadata": {},
   "outputs": [],
   "source": [
    "top_n_genes = 500\n",
    "\n",
    "# Now try to find the most common genes per cancer type and\n",
    "# merge these together to come up with a master list\n",
    "cancer_gene_count = mutations.groupby(['cancer_type', 'Hugo_Symbol'])['bcr_patient_barcode'].nunique().reset_index(name='count')\n",
    "cancer_gene_count.columns = ['cancer_type', 'gene', 'patient_count']\n",
    "\n",
    "\n",
    "\n",
    "# Now create a large matrix, row is the gene, column for each cancer type\n",
    "df = pd.DataFrame(cancer_gene_count, columns=['cancer_type', 'gene', 'patient_count'])\n",
    "gene_cancer_matrix = pd.pivot_table(df, values='patient_count', index=['gene'],\n",
    "                     columns=['cancer_type'], aggfunc=np.sum, fill_value=0)\n",
    "\n",
    "\n",
    "# Now find the top n genes for each cancer type\n",
    "top_genes = []\n",
    "for cancer_type in gene_cancer_matrix.columns:\n",
    "    sorted_genes = gene_cancer_matrix[cancer_type].sort_values(ascending=False)\n",
    "    top_rows = sorted_genes[sorted_genes > 0].head(top_n_genes)\n",
    "    for gene, patient_count in top_rows.items():\n",
    "        top_genes.append(list([cancer_type, gene, patient_count]))\n",
    "            \n",
    "\n",
    "# Turn this back into a matrix, row is gene, column for each cancer type\n",
    "top_df = pd.DataFrame(top_genes, columns=['cancer_type', 'gene', 'patient_count'])\n",
    "top_gene_cancer_matrix = pd.pivot_table(top_df, values='patient_count', index=['gene'],\n",
    "                     columns=['cancer_type'], aggfunc=np.sum, fill_value=0)\n",
    "top_gene_cancer_matrix.head()\n",
    "print(top_gene_cancer_matrix.shape)\n",
    "\n",
    "\n",
    "\n",
    "    \n",
    "    "
   ]
  },
  {
   "cell_type": "code",
   "execution_count": null,
   "metadata": {},
   "outputs": [],
   "source": [
    "# Now try to find the most common genes across all cancer types\n",
    "gene_count = mutations.groupby(['Hugo_Symbol'])['bcr_patient_barcode'].nunique().reset_index(name='count')\n",
    "gene_count.columns = ['gene', 'patient_count']\n",
    "gene_count = gene_count.sort_values(['patient_count', 'gene'], ascending=[0,1])\n",
    "print('Genes by patient frequency')\n",
    "print(\"  mean:\", int(gene_count['patient_count'].mean()))\n",
    "print(\"  min: \", int(gene_count['patient_count'].min()))\n",
    "print(\"  max: \", int(gene_count['patient_count'].max()))\n",
    "gene_count.head(10)\n",
    "\n",
    "gene_count['patient_count'].hist(bins=200, figsize=(12,4))\n"
   ]
  },
  {
   "cell_type": "code",
   "execution_count": null,
   "metadata": {},
   "outputs": [],
   "source": [
    "feature_genes = top_gene_cancer_matrix.index\n"
   ]
  },
  {
   "cell_type": "code",
   "execution_count": null,
   "metadata": {},
   "outputs": [],
   "source": [
    "# We need to get a list of unique genes for every case\n",
    "cases = list()\n",
    "grouped = mutations.groupby('bcr_patient_barcode')\n",
    "i = int(0)\n",
    "\n",
    "cols = ['case_id', 'cancer_type']\n",
    "for gene in feature_genes:\n",
    "    cols.append(gene)\n",
    "\n",
    "\n",
    "for name, group in grouped:\n",
    "    case = list()\n",
    "    case.append(name)\n",
    "    for cc in group.cancer_type.head(1):\n",
    "        case.append(cc)\n",
    "\n",
    "    for gene_flag  in feature_genes.isin(group.Hugo_Symbol.unique()):\n",
    "        switch = 0\n",
    "        if gene_flag == True:\n",
    "            switch = 1\n",
    "        case.append(switch)\n",
    "    cases.append(case)\n",
    " \n",
    "\n",
    "cases_df = pd.DataFrame(cases)\n",
    "cases_df.columns = cols\n",
    "\n"
   ]
  },
  {
   "cell_type": "code",
   "execution_count": null,
   "metadata": {},
   "outputs": [],
   "source": [
    "print(\"Number of rows in full dataset\", cases_df.case_id.count())"
   ]
  },
  {
   "cell_type": "code",
   "execution_count": null,
   "metadata": {},
   "outputs": [],
   "source": [
    "cases_df.shape\n",
    "cases_df.head()\n"
   ]
  },
  {
   "cell_type": "code",
   "execution_count": null,
   "metadata": {},
   "outputs": [],
   "source": [
    "# Write out transformed data to csv\n",
    "print(\"Writing case feature matrix to csv ...\")\n",
    "cases_df.to_csv(\"pancancer_case_features.csv\")\n",
    "print(\"done.\")"
   ]
  },
  {
   "cell_type": "code",
   "execution_count": null,
   "metadata": {},
   "outputs": [],
   "source": []
  }
 ],
 "metadata": {
  "kernelspec": {
   "display_name": "Python 3",
   "language": "python",
   "name": "python3"
  },
  "language_info": {
   "codemirror_mode": {
    "name": "ipython",
    "version": 3
   },
   "file_extension": ".py",
   "mimetype": "text/x-python",
   "name": "python",
   "nbconvert_exporter": "python",
   "pygments_lexer": "ipython3",
   "version": "3.7.1"
  }
 },
 "nbformat": 4,
 "nbformat_minor": 2
}
