{
 "cells": [
  {
   "cell_type": "code",
   "execution_count": null,
   "metadata": {},
   "outputs": [],
   "source": [
    "# This tells matplotlib not to try opening a new window for each plot.\n",
    "%matplotlib inline\n",
    "\n",
    "import pandas as pd\n",
    "import urllib.request\n",
    "import numpy as np\n",
    "import matplotlib as plt\n",
    "from IPython.display import display\n",
    "\n",
    "from IPython.core.interactiveshell import InteractiveShell\n",
    "InteractiveShell.ast_node_interactivity = \"all\""
   ]
  },
  {
   "cell_type": "markdown",
   "metadata": {},
   "source": [
    "## EDA ##\n",
    "\n",
    "Here, we open the data we put together in the previous notebook. For the first analysis, we look at $cancer\\_type$, $bcr\\_patient\\_barcode$, $Hugo\\_Symbol$ and $BIOTYPE$."
   ]
  },
  {
   "cell_type": "code",
   "execution_count": null,
   "metadata": {},
   "outputs": [],
   "source": [
    "print('Loading merged data ...')\n",
    "mutations_raw = pd.read_csv(\"pancancer_mutations_merged.csv\", \n",
    "                        usecols=['cancer_type', 'bcr_patient_barcode', 'Hugo_Symbol', 'BIOTYPE'])\n",
    "print(\"done.\")\n",
    "print(\"Mutations count\", mutations_raw['bcr_patient_barcode'].count())"
   ]
  },
  {
   "cell_type": "code",
   "execution_count": null,
   "metadata": {},
   "outputs": [],
   "source": [
    "mutations_raw.head()"
   ]
  },
  {
   "cell_type": "code",
   "execution_count": null,
   "metadata": {},
   "outputs": [],
   "source": [
    "mutations = mutations_raw[mutations_raw['BIOTYPE'] == 'protein_coding']\n",
    "mutations_non_coding_genes = mutations_raw[mutations_raw['BIOTYPE'] != 'protein_coding']\n",
    "\n",
    "coding_genes = list(mutations['Hugo_Symbol'].unique())\n",
    "non_coding_genes = list(mutations_non_coding_genes['Hugo_Symbol'].unique())\n",
    "print(\"Number of coding genes:\", len(coding_genes))\n",
    "print(\"Number of non-coding genes:\", len(non_coding_genes))"
   ]
  },
  {
   "cell_type": "code",
   "execution_count": null,
   "metadata": {},
   "outputs": [],
   "source": [
    "# Show the distribution of genes across patient tumors\n",
    "gene_count = mutations.groupby(['Hugo_Symbol'])['bcr_patient_barcode'].nunique().reset_index(name='count')\n",
    "gene_count.columns = ['gene', 'patient_count']\n",
    "gene_count = gene_count.sort_values(['patient_count', 'gene'], ascending=[0,1])\n",
    "print('Genes by patient frequency')\n",
    "print(\"  mean:\", int(gene_count['patient_count'].mean()))\n",
    "print(\"  min: \", int(gene_count['patient_count'].min()))\n",
    "print(\"  max: \", int(gene_count['patient_count'].max()))\n",
    "gene_count.head(10)\n",
    "\n",
    "ax = gene_count['patient_count'].hist(bins=200, figsize=(12,4))\n",
    "ax.set_xlabel(\"Number of Genes\")\n",
    "ax.set_ylabel(\"Number of Patient Tumors (gene is present in)\")"
   ]
  },
  {
   "cell_type": "markdown",
   "metadata": {},
   "source": [
    "From the histogram above, it is clear that even through we have a large number of genes, only a small number of them are turned on in the patient tumor data that we have. This is the classic problem of a large feature space with a much smaller number of samples. Hence we will need to perform a dimensionality reduction technique such as PCA here."
   ]
  },
  {
   "cell_type": "code",
   "execution_count": null,
   "metadata": {},
   "outputs": [],
   "source": [
    "# Print out the number of cancer types that are present in the \n",
    "# mutations dataset\n",
    "cancer_types = mutations['cancer_type'].unique()\n",
    "print(\"\\nNumber of cancer types\", len(cancer_types))\n",
    "print(np.sort(cancer_types))\n",
    "\n",
    "# Get number of cases per cancer type\n",
    "group_patients_by_cancer = mutations.groupby(['cancer_type'])['bcr_patient_barcode'].nunique()\n",
    "print(\"\\nNumber of patients\", group_patients_by_cancer.sum())\n",
    "group_patients_by_cancer.plot.bar(figsize=(12,4))"
   ]
  },
  {
   "cell_type": "markdown",
   "metadata": {},
   "source": [
    "The above chart shows that there are some cancers, such as BRCA and LUAD that have a large representation in our dataset, but other such as DBLC and UCS that are present in much smaller numbers. This will present a challenge for our classifier. Specifically, we want our classifier to be able to classify each of the 32 types of cancers with high precision, but the model should also be able to identify the cancers that don't have a proportionate representation in our data set. It could be that these are cancers are rare, or perhaps they are simply rare in our dataset. **Note:** add more details about the cancers that are abundant as well as rare in this dataset."
   ]
  },
  {
   "cell_type": "code",
   "execution_count": null,
   "metadata": {},
   "outputs": [],
   "source": [
    "# Get the unique genes per cancer type\n",
    "group_genes_by_cancer = mutations.groupby(['cancer_type'])['Hugo_Symbol'].nunique();\n",
    "group_genes_by_cancer.plot.bar(figsize=(12,4))\n",
    "print(\"Mean number of genes represented for each cancer type:\", int(np.round(group_genes_by_cancer.mean())))\n",
    "print(\"Min number of genes represented for each cancer type:\", int(np.round(group_genes_by_cancer.min())))\n",
    "print(\"Max number of genes represented for each cancer type:\", int(np.round(group_genes_by_cancer.max())))"
   ]
  },
  {
   "cell_type": "markdown",
   "metadata": {},
   "source": [
    "The above bar chart gives us an idea of how many genes (features for us) are _on_ for each of the cancer types. Cross referencing this chart with the previous one, we see that for some cancers such as DLBC and UCS we have a fair number of active features, even though the number of cases of such cancers are low. We should be able to person isolated (one-vs-rest) analysis for these cases. However, for other cancers, such as KICH (Kidney Chromophobe) and UVM (Uveal Melanoma) we have both a low occurance rate, and a low number of active features. This second category of cancers will need to be handled with care."
   ]
  },
  {
   "cell_type": "markdown",
   "metadata": {},
   "source": [
    "Now we create data files by feature counts."
   ]
  },
  {
   "cell_type": "code",
   "execution_count": null,
   "metadata": {},
   "outputs": [],
   "source": [
    "# Write out a matrix; each row is a patient tumor; each column is a gene\n",
    "def saveFeatureMatrix(mutations, feature_genes, gene_count):\n",
    "    cases = list()\n",
    "    grouped = mutations.groupby('bcr_patient_barcode')\n",
    "    i = int(0)\n",
    "\n",
    "    cols = ['case_id', 'cancer_type']\n",
    "    for gene in feature_genes:\n",
    "        cols.append(gene)\n",
    "\n",
    "\n",
    "    for name, group in grouped:\n",
    "        case = list()\n",
    "        case.append(name)\n",
    "        for cc in group.cancer_type.head(1):\n",
    "            case.append(cc)\n",
    "\n",
    "        for gene_flag in feature_genes.isin(group.Hugo_Symbol.unique()):\n",
    "            switch = 0\n",
    "            if gene_flag == True:\n",
    "                switch = 1\n",
    "            case.append(switch)\n",
    "        cases.append(case)\n",
    "\n",
    "\n",
    "    cases_df = pd.DataFrame(cases)\n",
    "    cases_df.columns = cols\n",
    "    print(\"  number of rows in full dataset\", cases_df.case_id.count())\n",
    "    \n",
    "    # Write out transformed data to csv\n",
    "    fileName = \"pancancer_case_features_\" + str(gene_count) + \".csv\"\n",
    "    print(\"  writing\", fileName, \"...\")\n",
    "    cases_df.to_csv(fileName)\n",
    "    print(\"  done.\")\n"
   ]
  },
  {
   "cell_type": "code",
   "execution_count": null,
   "metadata": {},
   "outputs": [],
   "source": [
    "def showGenesAcrossCancerTypes(top_gene_cancer_matrix, top_n_gene_count, total_gene_count):\n",
    "    plt.rcParams[\"figure.figsize\"] = (20,4)\n",
    "    sums_by_cancer_type = top_gene_cancer_matrix.sum(axis=1, skipna=True, numeric_only=True) \n",
    "    sorted = sums_by_cancer_type.sort_values(ascending=False).reindex()\n",
    "    df = pd.DataFrame(sorted).reset_index()\n",
    "    df.columns = ['gene', 'patient_count']\n",
    "    df.reset_index()    \n",
    "    title = 'Patient counts for genes (top ' + str(top_n_gene_count) + ')';\n",
    "    ax = df.head(50).plot.bar(x='gene', y='patient_count', legend=None, title=title)"
   ]
  },
  {
   "cell_type": "code",
   "execution_count": null,
   "metadata": {},
   "outputs": [],
   "source": [
    "def createFeatureMatrix(top_n_gene_count):\n",
    "    print(\"Formatting gene matrix with top \", top_n_gene_count, \"genes from each cancer type\")\n",
    "    \n",
    "    # Now try to find the most common genes per cancer type and\n",
    "    # merge these together to come up with a master list\n",
    "    cancer_gene_count = mutations.groupby(['cancer_type', 'Hugo_Symbol'])['bcr_patient_barcode'].nunique().reset_index(name='count')\n",
    "    cancer_gene_count.columns = ['cancer_type', 'gene', 'patient_count']\n",
    "\n",
    "\n",
    "\n",
    "    # Now create a large matrix, row is the gene, column for each cancer type\n",
    "    df = pd.DataFrame(cancer_gene_count, columns=['cancer_type', 'gene', 'patient_count'])\n",
    "    gene_cancer_matrix = pd.pivot_table(df, values='patient_count', index=['gene'],\n",
    "                         columns=['cancer_type'], aggfunc=np.sum, fill_value=0)\n",
    "\n",
    "\n",
    "    # Now find the top n genes for each cancer type\n",
    "    top_genes = []\n",
    "    for cancer_type in gene_cancer_matrix.columns:\n",
    "        sorted_genes = gene_cancer_matrix[cancer_type].sort_values(ascending=False)\n",
    "        top_rows = sorted_genes[sorted_genes > 0].head(top_n_gene_count)\n",
    "        for gene, patient_count in top_rows.items():\n",
    "            top_genes.append(list([cancer_type, gene, patient_count]))\n",
    "\n",
    "\n",
    "    # Turn this back into a matrix, row is gene, column for each cancer type\n",
    "    top_df = pd.DataFrame(top_genes, columns=['cancer_type', 'gene', 'patient_count'])\n",
    "    top_gene_cancer_matrix = pd.pivot_table(top_df, values='patient_count', index=['gene'],\n",
    "                         columns=['cancer_type'], aggfunc=np.sum, fill_value=0)\n",
    "    print(\"  number of genes:\", top_gene_cancer_matrix.shape[0])\n",
    "    showGenesAcrossCancerTypes(top_gene_cancer_matrix, top_n_gene_count, top_gene_cancer_matrix.shape[0] )\n",
    "    feature_genes = top_gene_cancer_matrix.index\n",
    "    saveFeatureMatrix(mutations, feature_genes, top_n_gene_count)"
   ]
  },
  {
   "cell_type": "code",
   "execution_count": null,
   "metadata": {},
   "outputs": [],
   "source": [
    "createFeatureMatrix(100)\n",
    "createFeatureMatrix(250)\n",
    "createFeatureMatrix(500)\n",
    "createFeatureMatrix(800)"
   ]
  },
  {
   "cell_type": "code",
   "execution_count": null,
   "metadata": {},
   "outputs": [],
   "source": [
    "createFeatureMatrix(1500)"
   ]
  }
 ],
 "metadata": {
  "kernelspec": {
   "display_name": "Python 3",
   "language": "python",
   "name": "python3"
  },
  "language_info": {
   "codemirror_mode": {
    "name": "ipython",
    "version": 3
   },
   "file_extension": ".py",
   "mimetype": "text/x-python",
   "name": "python",
   "nbconvert_exporter": "python",
   "pygments_lexer": "ipython3",
   "version": "3.7.1"
  }
 },
 "nbformat": 4,
 "nbformat_minor": 2
}
