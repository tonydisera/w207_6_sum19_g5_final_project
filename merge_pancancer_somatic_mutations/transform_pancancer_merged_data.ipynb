{
 "cells": [
  {
   "cell_type": "code",
   "execution_count": null,
   "metadata": {},
   "outputs": [],
   "source": [
    "import pandas as pd\n",
    "import urllib.request\n",
    "import numpy as np\n",
    "from IPython.display import display"
   ]
  },
  {
   "cell_type": "code",
   "execution_count": null,
   "metadata": {},
   "outputs": [],
   "source": [
    "print('Loading merged data ...')\n",
    "mutations = pd.read_csv(\"pancancer_mutations_merged.csv\")\n",
    "print(\"done.\")\n",
    "print(\"Mutations count\", mutations['bcr_patient_barcode'].count())"
   ]
  },
  {
   "cell_type": "code",
   "execution_count": null,
   "metadata": {},
   "outputs": [],
   "source": [
    "mutations.head()"
   ]
  },
  {
   "cell_type": "code",
   "execution_count": null,
   "metadata": {},
   "outputs": [],
   "source": [
    "mutations_coding_genes = mutations[mutations['BIOTYPE'] == 'protein_coding']\n",
    "mutations_non_coding_genes = mutations[mutations['BIOTYPE'] != 'protein_coding']\n",
    "\n",
    "coding_genes = list(mutations_coding_genes['Hugo_Symbol'].unique())\n",
    "non_coding_genes = list(mutations_non_coding_genes['Hugo_Symbol'].unique())\n",
    "print(\"Number of coding genes:\", len(coding_genes))\n",
    "print(\"Number of non-coding genes:\", len(non_coding_genes))\n",
    "                                  \n",
    "\n"
   ]
  },
  {
   "cell_type": "code",
   "execution_count": null,
   "metadata": {},
   "outputs": [],
   "source": [
    "# Get number of cases per cancer type\n",
    "mutations.groupby(['cancer_type', 'bcr_patient_barcode']).size().groupby(level=0).max()"
   ]
  },
  {
   "cell_type": "code",
   "execution_count": null,
   "metadata": {},
   "outputs": [],
   "source": [
    "unique_genes = mutations.groupby('Hugo_Symbol').count()[mutations.columns[0:1]]"
   ]
  },
  {
   "cell_type": "code",
   "execution_count": null,
   "metadata": {},
   "outputs": [],
   "source": [
    "unique_genes.columns = ['freq']"
   ]
  },
  {
   "cell_type": "code",
   "execution_count": null,
   "metadata": {},
   "outputs": [],
   "source": [
    "unique_genes.sort_values(['freq'], ascending=False)"
   ]
  },
  {
   "cell_type": "code",
   "execution_count": null,
   "metadata": {},
   "outputs": [],
   "source": [
    "unique_genes.median()"
   ]
  },
  {
   "cell_type": "code",
   "execution_count": null,
   "metadata": {},
   "outputs": [],
   "source": [
    "unique_genes.hist(bins=200, figsize=(12,4))\n",
    "unique_genes[(unique_genes.freq >= 10) & (unique_genes.freq < 700)].hist(bins=100, figsize=(12,4))\n",
    "\n"
   ]
  },
  {
   "cell_type": "code",
   "execution_count": null,
   "metadata": {},
   "outputs": [],
   "source": [
    "candidate_list = unique_genes[(unique_genes.freq >= 10) & (unique_genes.freq < 700)].sort_values(['freq'], ascending=False)\n",
    "print(\"Number of genes with case prevalence (10-700):\", candidate_list['freq'].count())\n"
   ]
  },
  {
   "cell_type": "code",
   "execution_count": null,
   "metadata": {},
   "outputs": [],
   "source": [
    "# Get a list of the unique gene names\n",
    "grouped = mutations.groupby('Hugo_Symbol',  sort=False).count() \n",
    "unique_genes = grouped[mutations.columns[0:1]]\n",
    "unique_genes.columns = ['freq']\n",
    "unique_genes = unique_genes.sort_values(['freq'], ascending=[0])\n",
    "\n",
    "display(unique_genes.head(10))\n",
    "\n",
    "print('All genes\\t', len(unique_genes))\n",
    "print('  min gene frequency', unique_genes.min()[0])\n",
    "print('  max gene frequency', unique_genes.max()[0])\n",
    "print('  avg gene frequency', int(unique_genes.median()[0]))\n",
    "unique_genes.hist(bins=100, figsize=(6,4))\n",
    "\n",
    "feature_genes = unique_genes[(unique_genes.freq > 400) & (unique_genes.freq < 700)]\n",
    "#feature_genes = feature_genes[unique_genes.freq > 400]\n",
    "print('\\nTargeted genes\\t', len(feature_genes))\n",
    "print('  min gene frequency', feature_genes.min()[0])\n",
    "print('  max gene frequency', feature_genes.max()[0])\n",
    "print('  avg gene frequency', int(feature_genes.median()[0]))\n",
    "feature_genes.hist(bins=100, figsize=(6,4))\n",
    "\n",
    "feature_genes = pd.DataFrame(feature_genes.index)"
   ]
  },
  {
   "cell_type": "code",
   "execution_count": null,
   "metadata": {},
   "outputs": [],
   "source": [
    "# We need to get a list of unique genes for every case\n",
    "cases = list()\n",
    "grouped = mutations.groupby('bcr_patient_barcode')\n",
    "i = int(0)\n",
    "\n",
    "cols = ['case', 'cancer_type', 'gender', 'age_at_diag']\n",
    "for gene in feature_genes.Hugo_Symbol:\n",
    "    cols.append(gene)\n",
    "\n",
    "\n",
    "for name, group in grouped:\n",
    "    case = list()\n",
    "    case.append(name)\n",
    "    for cc in group.cancer_type.head(1):\n",
    "        case.append(cc)\n",
    "    for gender in group.gender.head(1):\n",
    "        case.append(gender)\n",
    "    for diag_age in group.age_at_initial_pathologic_diagnosis.head(1):\n",
    "        case.append(diag_age)\n",
    "    for gene_flag  in feature_genes.Hugo_Symbol.isin(group.Hugo_Symbol.unique()):\n",
    "        switch = 0\n",
    "        if gene_flag == True:\n",
    "            switch = 1\n",
    "        case.append(switch)\n",
    "    cases.append(case)\n",
    " \n",
    "\n",
    "cases_df = pd.DataFrame(cases)\n",
    "cases_df.columns = cols\n",
    "print(\"Number of rows in full dataset\", cases_df.case.count())\n"
   ]
  },
  {
   "cell_type": "code",
   "execution_count": null,
   "metadata": {},
   "outputs": [],
   "source": [
    "cases_df"
   ]
  },
  {
   "cell_type": "code",
   "execution_count": null,
   "metadata": {},
   "outputs": [],
   "source": [
    "# Write out transformed data to csv\n",
    "print(\"Writing case feature matrix to csv ...\")\n",
    "cases_df.to_csv(\"pancancer_case_features.csv\")\n",
    "print(\"done.\")"
   ]
  },
  {
   "cell_type": "code",
   "execution_count": null,
   "metadata": {},
   "outputs": [],
   "source": []
  }
 ],
 "metadata": {
  "kernelspec": {
   "display_name": "Python 3",
   "language": "python",
   "name": "python3"
  },
  "language_info": {
   "codemirror_mode": {
    "name": "ipython",
    "version": 3
   },
   "file_extension": ".py",
   "mimetype": "text/x-python",
   "name": "python",
   "nbconvert_exporter": "python",
   "pygments_lexer": "ipython3",
   "version": "3.7.1"
  }
 },
 "nbformat": 4,
 "nbformat_minor": 2
}
