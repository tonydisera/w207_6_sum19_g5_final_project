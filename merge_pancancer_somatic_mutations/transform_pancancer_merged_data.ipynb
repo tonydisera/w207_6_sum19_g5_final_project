{
 "cells": [
  {
   "cell_type": "code",
   "execution_count": 1,
   "metadata": {},
   "outputs": [],
   "source": [
    "import pandas as pd\n",
    "import urllib.request\n",
    "import numpy as np\n",
    "from IPython.display import display"
   ]
  },
  {
   "cell_type": "code",
   "execution_count": 2,
   "metadata": {},
   "outputs": [
    {
     "name": "stdout",
     "output_type": "stream",
     "text": [
      "Loading merged data ...\n"
     ]
    },
    {
     "name": "stderr",
     "output_type": "stream",
     "text": [
      "/Users/tonyd/anaconda3/lib/python3.7/site-packages/IPython/core/interactiveshell.py:3020: DtypeWarning: Columns (11,13,15,16) have mixed types. Specify dtype option on import or set low_memory=False.\n",
      "  interactivity=interactivity, compiler=compiler, result=result)\n"
     ]
    },
    {
     "name": "stdout",
     "output_type": "stream",
     "text": [
      "done.\n",
      "Mutations count 3570876\n"
     ]
    }
   ],
   "source": [
    "print('Loading merged data ...')\n",
    "mutations = pd.read_csv(\"pancancer_mutations_merged.csv\")\n",
    "print(\"done.\")\n",
    "print(\"Mutations count\", mutations.Tumor_Sample_Barcode.count())"
   ]
  },
  {
   "cell_type": "code",
   "execution_count": 3,
   "metadata": {},
   "outputs": [
    {
     "data": {
      "text/html": [
       "<div>\n",
       "<style scoped>\n",
       "    .dataframe tbody tr th:only-of-type {\n",
       "        vertical-align: middle;\n",
       "    }\n",
       "\n",
       "    .dataframe tbody tr th {\n",
       "        vertical-align: top;\n",
       "    }\n",
       "\n",
       "    .dataframe thead th {\n",
       "        text-align: right;\n",
       "    }\n",
       "</style>\n",
       "<table border=\"1\" class=\"dataframe\">\n",
       "  <thead>\n",
       "    <tr style=\"text-align: right;\">\n",
       "      <th></th>\n",
       "      <th>Unnamed: 0</th>\n",
       "      <th>Hugo_Symbol</th>\n",
       "      <th>Variant_Classification</th>\n",
       "      <th>Variant_Type</th>\n",
       "      <th>Tumor_Sample_Barcode</th>\n",
       "      <th>row</th>\n",
       "      <th>cancer_type</th>\n",
       "      <th>bcr_patient_barcode</th>\n",
       "      <th>bcr_patient_uuid</th>\n",
       "      <th>gender</th>\n",
       "      <th>vital_status</th>\n",
       "      <th>days_to_birth</th>\n",
       "      <th>days_to_death</th>\n",
       "      <th>age_at_initial_pathologic_diagnosis</th>\n",
       "      <th>pathologic_stage</th>\n",
       "      <th>height</th>\n",
       "      <th>weight</th>\n",
       "    </tr>\n",
       "  </thead>\n",
       "  <tbody>\n",
       "    <tr>\n",
       "      <th>0</th>\n",
       "      <td>0</td>\n",
       "      <td>TACC2</td>\n",
       "      <td>Missense_Mutation</td>\n",
       "      <td>SNP</td>\n",
       "      <td>TCGA-02-0003-01A-01D-1490-08</td>\n",
       "      <td>0</td>\n",
       "      <td>GBM</td>\n",
       "      <td>TCGA-02-0003</td>\n",
       "      <td>df3c1d61-79c1-43e9-971a-8029497ffeab</td>\n",
       "      <td>MALE</td>\n",
       "      <td>Dead</td>\n",
       "      <td>-18341</td>\n",
       "      <td>144.0</td>\n",
       "      <td>50</td>\n",
       "      <td>NaN</td>\n",
       "      <td>NaN</td>\n",
       "      <td>NaN</td>\n",
       "    </tr>\n",
       "    <tr>\n",
       "      <th>1</th>\n",
       "      <td>1</td>\n",
       "      <td>JAKMIP3</td>\n",
       "      <td>Silent</td>\n",
       "      <td>SNP</td>\n",
       "      <td>TCGA-02-0003-01A-01D-1490-08</td>\n",
       "      <td>1</td>\n",
       "      <td>GBM</td>\n",
       "      <td>TCGA-02-0003</td>\n",
       "      <td>df3c1d61-79c1-43e9-971a-8029497ffeab</td>\n",
       "      <td>MALE</td>\n",
       "      <td>Dead</td>\n",
       "      <td>-18341</td>\n",
       "      <td>144.0</td>\n",
       "      <td>50</td>\n",
       "      <td>NaN</td>\n",
       "      <td>NaN</td>\n",
       "      <td>NaN</td>\n",
       "    </tr>\n",
       "    <tr>\n",
       "      <th>2</th>\n",
       "      <td>2</td>\n",
       "      <td>PANX3</td>\n",
       "      <td>Missense_Mutation</td>\n",
       "      <td>SNP</td>\n",
       "      <td>TCGA-02-0003-01A-01D-1490-08</td>\n",
       "      <td>2</td>\n",
       "      <td>GBM</td>\n",
       "      <td>TCGA-02-0003</td>\n",
       "      <td>df3c1d61-79c1-43e9-971a-8029497ffeab</td>\n",
       "      <td>MALE</td>\n",
       "      <td>Dead</td>\n",
       "      <td>-18341</td>\n",
       "      <td>144.0</td>\n",
       "      <td>50</td>\n",
       "      <td>NaN</td>\n",
       "      <td>NaN</td>\n",
       "      <td>NaN</td>\n",
       "    </tr>\n",
       "    <tr>\n",
       "      <th>3</th>\n",
       "      <td>3</td>\n",
       "      <td>SPI1</td>\n",
       "      <td>Missense_Mutation</td>\n",
       "      <td>SNP</td>\n",
       "      <td>TCGA-02-0003-01A-01D-1490-08</td>\n",
       "      <td>3</td>\n",
       "      <td>GBM</td>\n",
       "      <td>TCGA-02-0003</td>\n",
       "      <td>df3c1d61-79c1-43e9-971a-8029497ffeab</td>\n",
       "      <td>MALE</td>\n",
       "      <td>Dead</td>\n",
       "      <td>-18341</td>\n",
       "      <td>144.0</td>\n",
       "      <td>50</td>\n",
       "      <td>NaN</td>\n",
       "      <td>NaN</td>\n",
       "      <td>NaN</td>\n",
       "    </tr>\n",
       "    <tr>\n",
       "      <th>4</th>\n",
       "      <td>4</td>\n",
       "      <td>NAALAD2</td>\n",
       "      <td>Missense_Mutation</td>\n",
       "      <td>SNP</td>\n",
       "      <td>TCGA-02-0003-01A-01D-1490-08</td>\n",
       "      <td>4</td>\n",
       "      <td>GBM</td>\n",
       "      <td>TCGA-02-0003</td>\n",
       "      <td>df3c1d61-79c1-43e9-971a-8029497ffeab</td>\n",
       "      <td>MALE</td>\n",
       "      <td>Dead</td>\n",
       "      <td>-18341</td>\n",
       "      <td>144.0</td>\n",
       "      <td>50</td>\n",
       "      <td>NaN</td>\n",
       "      <td>NaN</td>\n",
       "      <td>NaN</td>\n",
       "    </tr>\n",
       "  </tbody>\n",
       "</table>\n",
       "</div>"
      ],
      "text/plain": [
       "   Unnamed: 0 Hugo_Symbol Variant_Classification Variant_Type  \\\n",
       "0           0       TACC2      Missense_Mutation          SNP   \n",
       "1           1     JAKMIP3                 Silent          SNP   \n",
       "2           2       PANX3      Missense_Mutation          SNP   \n",
       "3           3        SPI1      Missense_Mutation          SNP   \n",
       "4           4     NAALAD2      Missense_Mutation          SNP   \n",
       "\n",
       "           Tumor_Sample_Barcode  row cancer_type bcr_patient_barcode  \\\n",
       "0  TCGA-02-0003-01A-01D-1490-08    0         GBM        TCGA-02-0003   \n",
       "1  TCGA-02-0003-01A-01D-1490-08    1         GBM        TCGA-02-0003   \n",
       "2  TCGA-02-0003-01A-01D-1490-08    2         GBM        TCGA-02-0003   \n",
       "3  TCGA-02-0003-01A-01D-1490-08    3         GBM        TCGA-02-0003   \n",
       "4  TCGA-02-0003-01A-01D-1490-08    4         GBM        TCGA-02-0003   \n",
       "\n",
       "                       bcr_patient_uuid gender vital_status days_to_birth  \\\n",
       "0  df3c1d61-79c1-43e9-971a-8029497ffeab   MALE         Dead        -18341   \n",
       "1  df3c1d61-79c1-43e9-971a-8029497ffeab   MALE         Dead        -18341   \n",
       "2  df3c1d61-79c1-43e9-971a-8029497ffeab   MALE         Dead        -18341   \n",
       "3  df3c1d61-79c1-43e9-971a-8029497ffeab   MALE         Dead        -18341   \n",
       "4  df3c1d61-79c1-43e9-971a-8029497ffeab   MALE         Dead        -18341   \n",
       "\n",
       "  days_to_death age_at_initial_pathologic_diagnosis pathologic_stage height  \\\n",
       "0         144.0                                  50              NaN    NaN   \n",
       "1         144.0                                  50              NaN    NaN   \n",
       "2         144.0                                  50              NaN    NaN   \n",
       "3         144.0                                  50              NaN    NaN   \n",
       "4         144.0                                  50              NaN    NaN   \n",
       "\n",
       "  weight  \n",
       "0    NaN  \n",
       "1    NaN  \n",
       "2    NaN  \n",
       "3    NaN  \n",
       "4    NaN  "
      ]
     },
     "execution_count": 3,
     "metadata": {},
     "output_type": "execute_result"
    }
   ],
   "source": [
    "mutations.head()"
   ]
  },
  {
   "cell_type": "code",
   "execution_count": 4,
   "metadata": {},
   "outputs": [
    {
     "data": {
      "text/plain": [
       "cancer_type\n",
       "ACC      2876\n",
       "BLCA     5076\n",
       "BRCA     7586\n",
       "CESC    20353\n",
       "CHOL     1285\n",
       "COAD    13582\n",
       "DLBC      652\n",
       "ESCA     3307\n",
       "GBM     18307\n",
       "HNSC     4131\n",
       "KICH     1066\n",
       "KIRC     1248\n",
       "KIRP     1548\n",
       "LGG     15906\n",
       "LIHC     2072\n",
       "LUAD     2843\n",
       "LUSC     4338\n",
       "MESO      429\n",
       "OV       2926\n",
       "PAAD    21673\n",
       "PCPG       90\n",
       "PRAD     9612\n",
       "READ    17069\n",
       "SARC     3539\n",
       "SKCM    55283\n",
       "STAD    14110\n",
       "TGCT       77\n",
       "THCA      710\n",
       "THYM     1098\n",
       "UCEC    40047\n",
       "UCS      5148\n",
       "UVM       596\n",
       "dtype: int64"
      ]
     },
     "execution_count": 4,
     "metadata": {},
     "output_type": "execute_result"
    }
   ],
   "source": [
    "# Get number of cases per cancer type\n",
    "mutations.groupby(['cancer_type', 'bcr_patient_barcode']).size().groupby(level=0).max()"
   ]
  },
  {
   "cell_type": "code",
   "execution_count": 12,
   "metadata": {},
   "outputs": [
    {
     "data": {
      "text/html": [
       "<div>\n",
       "<style scoped>\n",
       "    .dataframe tbody tr th:only-of-type {\n",
       "        vertical-align: middle;\n",
       "    }\n",
       "\n",
       "    .dataframe tbody tr th {\n",
       "        vertical-align: top;\n",
       "    }\n",
       "\n",
       "    .dataframe thead th {\n",
       "        text-align: right;\n",
       "    }\n",
       "</style>\n",
       "<table border=\"1\" class=\"dataframe\">\n",
       "  <thead>\n",
       "    <tr style=\"text-align: right;\">\n",
       "      <th></th>\n",
       "      <th>freq</th>\n",
       "    </tr>\n",
       "    <tr>\n",
       "      <th>Hugo_Symbol</th>\n",
       "      <th></th>\n",
       "    </tr>\n",
       "  </thead>\n",
       "  <tbody>\n",
       "    <tr>\n",
       "      <th>TTN</th>\n",
       "      <td>15036</td>\n",
       "    </tr>\n",
       "    <tr>\n",
       "      <th>MUC16</th>\n",
       "      <td>6807</td>\n",
       "    </tr>\n",
       "    <tr>\n",
       "      <th>TP53</th>\n",
       "      <td>4551</td>\n",
       "    </tr>\n",
       "    <tr>\n",
       "      <th>CSMD3</th>\n",
       "      <td>3152</td>\n",
       "    </tr>\n",
       "    <tr>\n",
       "      <th>SYNE1</th>\n",
       "      <td>3076</td>\n",
       "    </tr>\n",
       "    <tr>\n",
       "      <th>RYR2</th>\n",
       "      <td>3031</td>\n",
       "    </tr>\n",
       "    <tr>\n",
       "      <th>LRP1B</th>\n",
       "      <td>3006</td>\n",
       "    </tr>\n",
       "    <tr>\n",
       "      <th>DNAH5</th>\n",
       "      <td>2657</td>\n",
       "    </tr>\n",
       "    <tr>\n",
       "      <th>OBSCN</th>\n",
       "      <td>2646</td>\n",
       "    </tr>\n",
       "    <tr>\n",
       "      <th>PCLO</th>\n",
       "      <td>2570</td>\n",
       "    </tr>\n",
       "  </tbody>\n",
       "</table>\n",
       "</div>"
      ],
      "text/plain": [
       "              freq\n",
       "Hugo_Symbol       \n",
       "TTN          15036\n",
       "MUC16         6807\n",
       "TP53          4551\n",
       "CSMD3         3152\n",
       "SYNE1         3076\n",
       "RYR2          3031\n",
       "LRP1B         3006\n",
       "DNAH5         2657\n",
       "OBSCN         2646\n",
       "PCLO          2570"
      ]
     },
     "metadata": {},
     "output_type": "display_data"
    },
    {
     "name": "stdout",
     "output_type": "stream",
     "text": [
      "All genes\t 21322\n",
      "  min gene frequency 1\n",
      "  max gene frequency 15036\n",
      "  avg gene frequency 123\n",
      "\n",
      "Targeted genes\t 1079\n",
      "  min gene frequency 401\n",
      "  max gene frequency 699\n",
      "  avg gene frequency 494\n"
     ]
    },
    {
     "name": "stderr",
     "output_type": "stream",
     "text": [
      "/Users/tonyd/anaconda3/lib/python3.7/site-packages/ipykernel_launcher.py:16: UserWarning: Boolean Series key will be reindexed to match DataFrame index.\n",
      "  app.launch_new_instance()\n"
     ]
    },
    {
     "data": {
      "image/png": "[encoded data removed]",
      "text/plain": [
       "<Figure size 432x288 with 1 Axes>"
      ]
     },
     "metadata": {
      "needs_background": "light"
     },
     "output_type": "display_data"
    },
    {
     "data": {
      "image/png": "[encoded data removed]",
      "text/plain": [
       "<Figure size 432x288 with 1 Axes>"
      ]
     },
     "metadata": {
      "needs_background": "light"
     },
     "output_type": "display_data"
    }
   ],
   "source": [
    "# Get a list of the unique gene names\n",
    "grouped = mutations.groupby('Hugo_Symbol',  sort=False).count() \n",
    "unique_genes = grouped[mutations.columns[0:1]]\n",
    "unique_genes.columns = ['freq']\n",
    "unique_genes = unique_genes.sort_values(['freq'], ascending=[0])\n",
    "\n",
    "display(unique_genes.head(10))\n",
    "\n",
    "print('All genes\\t', len(unique_genes))\n",
    "print('  min gene frequency', unique_genes.min()[0])\n",
    "print('  max gene frequency', unique_genes.max()[0])\n",
    "print('  avg gene frequency', int(unique_genes.median()[0]))\n",
    "unique_genes.hist(bins=100, figsize=(6,4))\n",
    "\n",
    "feature_genes = unique_genes[unique_genes.freq < 700]\n",
    "feature_genes = feature_genes[unique_genes.freq > 400]\n",
    "print('\\nTargeted genes\\t', len(feature_genes))\n",
    "print('  min gene frequency', feature_genes.min()[0])\n",
    "print('  max gene frequency', feature_genes.max()[0])\n",
    "print('  avg gene frequency', int(feature_genes.median()[0]))\n",
    "feature_genes.hist(bins=100, figsize=(6,4))\n",
    "\n",
    "feature_genes = pd.DataFrame(feature_genes.index)\n",
    "\n",
    "\n"
   ]
  },
  {
   "cell_type": "code",
   "execution_count": 137,
   "metadata": {},
   "outputs": [
    {
     "name": "stdout",
     "output_type": "stream",
     "text": [
      "Number of rows in full dataset 10008\n"
     ]
    }
   ],
   "source": [
    "# We need to get a list of unique genes for every case\n",
    "cases = list()\n",
    "grouped = mutations.groupby('bcr_patient_barcode')\n",
    "i = int(0)\n",
    "\n",
    "cols = ['case', 'cancer_type', 'gender', 'age_at_diag']\n",
    "for gene in feature_genes.Hugo_Symbol:\n",
    "    cols.append(gene)\n",
    "\n",
    "\n",
    "for name, group in grouped:\n",
    "    case = list()\n",
    "    case.append(name)\n",
    "    for cc in group.cancer_type.head(1):\n",
    "        case.append(cc)\n",
    "    for gender in group.gender.head(1):\n",
    "        case.append(gender)\n",
    "    for diag_age in group.age_at_initial_pathologic_diagnosis.head(1):\n",
    "        case.append(diag_age)\n",
    "    for gene_flag  in feature_genes.Hugo_Symbol.isin(group.Hugo_Symbol.unique()):\n",
    "        switch = 0\n",
    "        if gene_flag == True:\n",
    "            switch = 1\n",
    "        case.append(switch)\n",
    "    cases.append(case)\n",
    " \n",
    "\n",
    "cases_df = pd.DataFrame(cases)\n",
    "cases_df.columns = cols\n",
    "print(\"Number of rows in full dataset\", cases_df.case.count())\n"
   ]
  },
  {
   "cell_type": "code",
   "execution_count": 139,
   "metadata": {},
   "outputs": [
    {
     "name": "stdout",
     "output_type": "stream",
     "text": [
      "Writing case feature matrix to csv ...\n",
      "done.\n"
     ]
    }
   ],
   "source": [
    "# Write out transformed data to csv\n",
    "print(\"Writing case feature matrix to csv ...\")\n",
    "cases_df.to_csv(\"pancancer_case_features.csv\")\n",
    "print(\"done.\")"
   ]
  },
  {
   "cell_type": "code",
   "execution_count": null,
   "metadata": {},
   "outputs": [],
   "source": []
  }
 ],
 "metadata": {
  "kernelspec": {
   "display_name": "Python 3",
   "language": "python",
   "name": "python3"
  },
  "language_info": {
   "codemirror_mode": {
    "name": "ipython",
    "version": 3
   },
   "file_extension": ".py",
   "mimetype": "text/x-python",
   "name": "python",
   "nbconvert_exporter": "python",
   "pygments_lexer": "ipython3",
   "version": "3.7.1"
  }
 },
 "nbformat": 4,
 "nbformat_minor": 2
}
