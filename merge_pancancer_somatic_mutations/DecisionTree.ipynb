{
 "cells": [
  {
   "cell_type": "code",
   "execution_count": null,
   "metadata": {},
   "outputs": [],
   "source": [
    "import pandas as pd\n",
    "import urllib.request\n",
    "import numpy as np\n",
    "from IPython.display import display\n",
    "from sklearn.model_selection import StratifiedKFold\n",
    "from sklearn.naive_bayes import MultinomialNB\n",
    "from sklearn.neighbors import KNeighborsClassifier\n",
    "from sklearn.tree import DecisionTreeClassifier\n",
    "from sklearn.linear_model import LogisticRegression\n",
    "from sklearn.model_selection import GridSearchCV\n",
    "from sklearn import preprocessing\n",
    "from sklearn.preprocessing import OrdinalEncoder\n",
    "from sklearn import metrics"
   ]
  },
  {
   "cell_type": "code",
   "execution_count": null,
   "metadata": {},
   "outputs": [],
   "source": [
    "print('Loading case data ...')\n",
    "cases = pd.read_csv(\"pancancer_mutations_merged.csv\")\n",
    "print(\"done.\")"
   ]
  },
  {
   "cell_type": "code",
   "execution_count": null,
   "metadata": {},
   "outputs": [],
   "source": [
    "print(len(cases))\n",
    "display(cases.head())\n",
    "print(cases.columns)"
   ]
  },
  {
   "cell_type": "code",
   "execution_count": null,
   "metadata": {},
   "outputs": [],
   "source": [
    "h_encoder, vc_ender, vt_encoder, ct_encoder, g_encoder, b_encoder \\\n",
    "  = OrdinalEncoder(),OrdinalEncoder(),OrdinalEncoder(),OrdinalEncoder(), OrdinalEncoder(), OrdinalEncoder()\n",
    "\n",
    "cases.Hugo_Symbol = h_encoder.fit_transform(cases.Hugo_Symbol.values.reshape(-1, 1))\n",
    "cases.Variant_Classification = vc_ender.fit_transform(cases.Variant_Classification.values.reshape(-1, 1))\n",
    "cases.Variant_Type = vt_encoder.fit_transform(cases.Variant_Type.values.reshape(-1, 1))\n",
    "cases.cancer_type = ct_encoder.fit_transform(cases.cancer_type.values.reshape(-1, 1))\n",
    "cases.gender=ct_encoder.fit_transform(cases.gender.values.reshape(-1, 1))\n",
    "cases.BIOTYPE=b_encoder.fit_transform(cases.BIOTYPE.values.reshape(-1, 1))\n",
    "\n"
   ]
  },
  {
   "cell_type": "code",
   "execution_count": null,
   "metadata": {},
   "outputs": [],
   "source": [
    "data= cases[['Hugo_Symbol','Variant_Classification','Variant_Type','gender', 'BIOTYPE']]\n",
    "labels=cases[['cancer_type']]"
   ]
  },
  {
   "cell_type": "code",
   "execution_count": null,
   "metadata": {},
   "outputs": [],
   "source": [
    "shuffle = np.random.permutation(np.arange(data.shape[0]))\n",
    "X, Y  = data.iloc[shuffle], labels.iloc[shuffle]"
   ]
  },
  {
   "cell_type": "code",
   "execution_count": null,
   "metadata": {},
   "outputs": [],
   "source": [
    "display (data.head())"
   ]
  },
  {
   "cell_type": "code",
   "execution_count": null,
   "metadata": {},
   "outputs": [],
   "source": [
    "\n",
    "train_X = X[:1000000]\n",
    "train_Y = Y[:1000000]\n",
    "\n",
    "test_X = X[1000000:1100000]\n",
    "test_Y = Y[1000000:1100000]"
   ]
  },
  {
   "cell_type": "code",
   "execution_count": null,
   "metadata": {},
   "outputs": [],
   "source": [
    "clf = DecisionTreeClassifier()\n",
    "\n",
    "# Train Decision Tree Classifer\n",
    "clf = clf.fit(train_X, train_Y)"
   ]
  },
  {
   "cell_type": "code",
   "execution_count": null,
   "metadata": {},
   "outputs": [],
   "source": [
    "pred_Y = clf.predict(test_X)\n"
   ]
  },
  {
   "cell_type": "code",
   "execution_count": null,
   "metadata": {},
   "outputs": [],
   "source": [
    "# Model Accuracy, how often is the classifier correct?\n",
    "print(\"Accuracy:\",metrics.accuracy_score(test_Y, pred_Y))"
   ]
  },
  {
   "cell_type": "code",
   "execution_count": null,
   "metadata": {},
   "outputs": [],
   "source": []
  }
 ],
 "metadata": {
  "kernelspec": {
   "display_name": "Python 3",
   "language": "python",
   "name": "python3"
  },
  "language_info": {
   "codemirror_mode": {
    "name": "ipython",
    "version": 3
   },
   "file_extension": ".py",
   "mimetype": "text/x-python",
   "name": "python",
   "nbconvert_exporter": "python",
   "pygments_lexer": "ipython3",
   "version": "3.7.3"
  }
 },
 "nbformat": 4,
 "nbformat_minor": 2
}
