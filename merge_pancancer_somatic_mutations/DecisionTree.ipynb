{
 "cells": [
  {
   "cell_type": "code",
   "execution_count": 104,
   "metadata": {},
   "outputs": [],
   "source": [
    "import pandas as pd\n",
    "import urllib.request\n",
    "import numpy as np\n",
    "from IPython.display import display\n",
    "from sklearn.model_selection import StratifiedKFold\n",
    "from sklearn.naive_bayes import MultinomialNB\n",
    "from sklearn.neighbors import KNeighborsClassifier\n",
    "from sklearn.tree import DecisionTreeClassifier\n",
    "from sklearn.linear_model import LogisticRegression\n",
    "from sklearn.model_selection import GridSearchCV\n",
    "from sklearn import preprocessing\n",
    "from sklearn.preprocessing import OrdinalEncoder\n",
    "from sklearn import metrics"
   ]
  },
  {
   "cell_type": "code",
   "execution_count": 105,
   "metadata": {},
   "outputs": [
    {
     "name": "stdout",
     "output_type": "stream",
     "text": [
      "Loading case data ...\n"
     ]
    },
    {
     "name": "stderr",
     "output_type": "stream",
     "text": [
      "/miniconda3/lib/python3.7/site-packages/IPython/core/interactiveshell.py:3049: DtypeWarning: Columns (2,15,17,21,22,23) have mixed types. Specify dtype option on import or set low_memory=False.\n",
      "  interactivity=interactivity, compiler=compiler, result=result)\n"
     ]
    },
    {
     "name": "stdout",
     "output_type": "stream",
     "text": [
      "done.\n"
     ]
    }
   ],
   "source": [
    "print('Loading case data ...')\n",
    "cases = pd.read_csv(\"pancancer_mutations_merged.csv\")\n",
    "print(\"done.\")"
   ]
  },
  {
   "cell_type": "code",
   "execution_count": 119,
   "metadata": {},
   "outputs": [
    {
     "name": "stdout",
     "output_type": "stream",
     "text": [
      "1750244\n"
     ]
    },
    {
     "data": {
      "text/html": [
       "<div>\n",
       "<style scoped>\n",
       "    .dataframe tbody tr th:only-of-type {\n",
       "        vertical-align: middle;\n",
       "    }\n",
       "\n",
       "    .dataframe tbody tr th {\n",
       "        vertical-align: top;\n",
       "    }\n",
       "\n",
       "    .dataframe thead th {\n",
       "        text-align: right;\n",
       "    }\n",
       "</style>\n",
       "<table border=\"1\" class=\"dataframe\">\n",
       "  <thead>\n",
       "    <tr style=\"text-align: right;\">\n",
       "      <th></th>\n",
       "      <th>Unnamed: 0</th>\n",
       "      <th>Hugo_Symbol</th>\n",
       "      <th>Chromosome</th>\n",
       "      <th>Start_Position</th>\n",
       "      <th>End_Position</th>\n",
       "      <th>Strand</th>\n",
       "      <th>Variant_Classification</th>\n",
       "      <th>Variant_Type</th>\n",
       "      <th>BIOTYPE</th>\n",
       "      <th>IMPACT</th>\n",
       "      <th>...</th>\n",
       "      <th>vital_status</th>\n",
       "      <th>days_to_birth</th>\n",
       "      <th>days_to_death</th>\n",
       "      <th>age_at_initial_pathologic_diagnosis</th>\n",
       "      <th>race</th>\n",
       "      <th>ethnicity</th>\n",
       "      <th>pathologic_stage</th>\n",
       "      <th>height</th>\n",
       "      <th>weight</th>\n",
       "      <th>menopause_status</th>\n",
       "    </tr>\n",
       "  </thead>\n",
       "  <tbody>\n",
       "    <tr>\n",
       "      <th>0</th>\n",
       "      <td>0</td>\n",
       "      <td>17935.0</td>\n",
       "      <td>10</td>\n",
       "      <td>123810032</td>\n",
       "      <td>123810032</td>\n",
       "      <td>+</td>\n",
       "      <td>9.0</td>\n",
       "      <td>3.0</td>\n",
       "      <td>16.0</td>\n",
       "      <td>MODERATE</td>\n",
       "      <td>...</td>\n",
       "      <td>Dead</td>\n",
       "      <td>-18341</td>\n",
       "      <td>144.0</td>\n",
       "      <td>50</td>\n",
       "      <td>WHITE</td>\n",
       "      <td>NOT HISPANIC OR LATINO</td>\n",
       "      <td>NaN</td>\n",
       "      <td>NaN</td>\n",
       "      <td>NaN</td>\n",
       "      <td>NaN</td>\n",
       "    </tr>\n",
       "    <tr>\n",
       "      <th>1</th>\n",
       "      <td>1</td>\n",
       "      <td>8738.0</td>\n",
       "      <td>10</td>\n",
       "      <td>133967449</td>\n",
       "      <td>133967449</td>\n",
       "      <td>+</td>\n",
       "      <td>13.0</td>\n",
       "      <td>3.0</td>\n",
       "      <td>16.0</td>\n",
       "      <td>LOW</td>\n",
       "      <td>...</td>\n",
       "      <td>Dead</td>\n",
       "      <td>-18341</td>\n",
       "      <td>144.0</td>\n",
       "      <td>50</td>\n",
       "      <td>WHITE</td>\n",
       "      <td>NOT HISPANIC OR LATINO</td>\n",
       "      <td>NaN</td>\n",
       "      <td>NaN</td>\n",
       "      <td>NaN</td>\n",
       "      <td>NaN</td>\n",
       "    </tr>\n",
       "    <tr>\n",
       "      <th>2</th>\n",
       "      <td>2</td>\n",
       "      <td>12893.0</td>\n",
       "      <td>11</td>\n",
       "      <td>124489539</td>\n",
       "      <td>124489539</td>\n",
       "      <td>+</td>\n",
       "      <td>9.0</td>\n",
       "      <td>3.0</td>\n",
       "      <td>16.0</td>\n",
       "      <td>MODERATE</td>\n",
       "      <td>...</td>\n",
       "      <td>Dead</td>\n",
       "      <td>-18341</td>\n",
       "      <td>144.0</td>\n",
       "      <td>50</td>\n",
       "      <td>WHITE</td>\n",
       "      <td>NOT HISPANIC OR LATINO</td>\n",
       "      <td>NaN</td>\n",
       "      <td>NaN</td>\n",
       "      <td>NaN</td>\n",
       "      <td>NaN</td>\n",
       "    </tr>\n",
       "    <tr>\n",
       "      <th>3</th>\n",
       "      <td>3</td>\n",
       "      <td>17422.0</td>\n",
       "      <td>11</td>\n",
       "      <td>47380512</td>\n",
       "      <td>47380512</td>\n",
       "      <td>+</td>\n",
       "      <td>9.0</td>\n",
       "      <td>3.0</td>\n",
       "      <td>16.0</td>\n",
       "      <td>MODERATE</td>\n",
       "      <td>...</td>\n",
       "      <td>Dead</td>\n",
       "      <td>-18341</td>\n",
       "      <td>144.0</td>\n",
       "      <td>50</td>\n",
       "      <td>WHITE</td>\n",
       "      <td>NOT HISPANIC OR LATINO</td>\n",
       "      <td>NaN</td>\n",
       "      <td>NaN</td>\n",
       "      <td>NaN</td>\n",
       "      <td>NaN</td>\n",
       "    </tr>\n",
       "    <tr>\n",
       "      <th>4</th>\n",
       "      <td>4</td>\n",
       "      <td>11487.0</td>\n",
       "      <td>11</td>\n",
       "      <td>89868837</td>\n",
       "      <td>89868837</td>\n",
       "      <td>+</td>\n",
       "      <td>9.0</td>\n",
       "      <td>3.0</td>\n",
       "      <td>16.0</td>\n",
       "      <td>MODERATE</td>\n",
       "      <td>...</td>\n",
       "      <td>Dead</td>\n",
       "      <td>-18341</td>\n",
       "      <td>144.0</td>\n",
       "      <td>50</td>\n",
       "      <td>WHITE</td>\n",
       "      <td>NOT HISPANIC OR LATINO</td>\n",
       "      <td>NaN</td>\n",
       "      <td>NaN</td>\n",
       "      <td>NaN</td>\n",
       "      <td>NaN</td>\n",
       "    </tr>\n",
       "  </tbody>\n",
       "</table>\n",
       "<p>5 rows × 24 columns</p>\n",
       "</div>"
      ],
      "text/plain": [
       "   Unnamed: 0  Hugo_Symbol Chromosome  Start_Position  End_Position Strand  \\\n",
       "0           0      17935.0         10       123810032     123810032      +   \n",
       "1           1       8738.0         10       133967449     133967449      +   \n",
       "2           2      12893.0         11       124489539     124489539      +   \n",
       "3           3      17422.0         11        47380512      47380512      +   \n",
       "4           4      11487.0         11        89868837      89868837      +   \n",
       "\n",
       "   Variant_Classification  Variant_Type  BIOTYPE    IMPACT  ...  vital_status  \\\n",
       "0                     9.0           3.0     16.0  MODERATE  ...          Dead   \n",
       "1                    13.0           3.0     16.0       LOW  ...          Dead   \n",
       "2                     9.0           3.0     16.0  MODERATE  ...          Dead   \n",
       "3                     9.0           3.0     16.0  MODERATE  ...          Dead   \n",
       "4                     9.0           3.0     16.0  MODERATE  ...          Dead   \n",
       "\n",
       "   days_to_birth days_to_death  age_at_initial_pathologic_diagnosis   race  \\\n",
       "0         -18341         144.0                                   50  WHITE   \n",
       "1         -18341         144.0                                   50  WHITE   \n",
       "2         -18341         144.0                                   50  WHITE   \n",
       "3         -18341         144.0                                   50  WHITE   \n",
       "4         -18341         144.0                                   50  WHITE   \n",
       "\n",
       "                ethnicity pathologic_stage height weight menopause_status  \n",
       "0  NOT HISPANIC OR LATINO              NaN    NaN    NaN              NaN  \n",
       "1  NOT HISPANIC OR LATINO              NaN    NaN    NaN              NaN  \n",
       "2  NOT HISPANIC OR LATINO              NaN    NaN    NaN              NaN  \n",
       "3  NOT HISPANIC OR LATINO              NaN    NaN    NaN              NaN  \n",
       "4  NOT HISPANIC OR LATINO              NaN    NaN    NaN              NaN  \n",
       "\n",
       "[5 rows x 24 columns]"
      ]
     },
     "metadata": {},
     "output_type": "display_data"
    },
    {
     "name": "stdout",
     "output_type": "stream",
     "text": [
      "Index(['Unnamed: 0', 'Hugo_Symbol', 'Chromosome', 'Start_Position',\n",
      "       'End_Position', 'Strand', 'Variant_Classification', 'Variant_Type',\n",
      "       'BIOTYPE', 'IMPACT', 'row', 'cancer_type', 'bcr_patient_barcode',\n",
      "       'gender', 'vital_status', 'days_to_birth', 'days_to_death',\n",
      "       'age_at_initial_pathologic_diagnosis', 'race', 'ethnicity',\n",
      "       'pathologic_stage', 'height', 'weight', 'menopause_status'],\n",
      "      dtype='object')\n"
     ]
    }
   ],
   "source": [
    "print(len(cases))\n",
    "display(cases.head())\n",
    "print(cases.columns)"
   ]
  },
  {
   "cell_type": "code",
   "execution_count": 110,
   "metadata": {},
   "outputs": [],
   "source": [
    "h_encoder, vc_ender, vt_encoder, ct_encoder, g_encoder, b_encoder \\\n",
    "  = OrdinalEncoder(),OrdinalEncoder(),OrdinalEncoder(),OrdinalEncoder(), OrdinalEncoder(), OrdinalEncoder()\n",
    "\n",
    "cases.Hugo_Symbol = h_encoder.fit_transform(cases.Hugo_Symbol.values.reshape(-1, 1))\n",
    "cases.Variant_Classification = vc_ender.fit_transform(cases.Variant_Classification.values.reshape(-1, 1))\n",
    "cases.Variant_Type = vt_encoder.fit_transform(cases.Variant_Type.values.reshape(-1, 1))\n",
    "cases.cancer_type = ct_encoder.fit_transform(cases.cancer_type.values.reshape(-1, 1))\n",
    "cases.gender=ct_encoder.fit_transform(cases.gender.values.reshape(-1, 1))\n",
    "cases.BIOTYPE=b_encoder.fit_transform(cases.BIOTYPE.values.reshape(-1, 1))\n",
    "\n"
   ]
  },
  {
   "cell_type": "code",
   "execution_count": 111,
   "metadata": {},
   "outputs": [],
   "source": [
    "data= cases[['Hugo_Symbol','Variant_Classification','Variant_Type','gender', 'BIOTYPE']]\n",
    "labels=cases[['cancer_type']]"
   ]
  },
  {
   "cell_type": "code",
   "execution_count": 112,
   "metadata": {},
   "outputs": [],
   "source": [
    "shuffle = np.random.permutation(np.arange(data.shape[0]))\n",
    "X, Y  = data.iloc[shuffle], labels.iloc[shuffle]"
   ]
  },
  {
   "cell_type": "code",
   "execution_count": 113,
   "metadata": {},
   "outputs": [
    {
     "data": {
      "text/html": [
       "<div>\n",
       "<style scoped>\n",
       "    .dataframe tbody tr th:only-of-type {\n",
       "        vertical-align: middle;\n",
       "    }\n",
       "\n",
       "    .dataframe tbody tr th {\n",
       "        vertical-align: top;\n",
       "    }\n",
       "\n",
       "    .dataframe thead th {\n",
       "        text-align: right;\n",
       "    }\n",
       "</style>\n",
       "<table border=\"1\" class=\"dataframe\">\n",
       "  <thead>\n",
       "    <tr style=\"text-align: right;\">\n",
       "      <th></th>\n",
       "      <th>Hugo_Symbol</th>\n",
       "      <th>Variant_Classification</th>\n",
       "      <th>Variant_Type</th>\n",
       "      <th>gender</th>\n",
       "      <th>BIOTYPE</th>\n",
       "    </tr>\n",
       "  </thead>\n",
       "  <tbody>\n",
       "    <tr>\n",
       "      <th>0</th>\n",
       "      <td>17935.0</td>\n",
       "      <td>9.0</td>\n",
       "      <td>3.0</td>\n",
       "      <td>1.0</td>\n",
       "      <td>16.0</td>\n",
       "    </tr>\n",
       "    <tr>\n",
       "      <th>1</th>\n",
       "      <td>8738.0</td>\n",
       "      <td>13.0</td>\n",
       "      <td>3.0</td>\n",
       "      <td>1.0</td>\n",
       "      <td>16.0</td>\n",
       "    </tr>\n",
       "    <tr>\n",
       "      <th>2</th>\n",
       "      <td>12893.0</td>\n",
       "      <td>9.0</td>\n",
       "      <td>3.0</td>\n",
       "      <td>1.0</td>\n",
       "      <td>16.0</td>\n",
       "    </tr>\n",
       "    <tr>\n",
       "      <th>3</th>\n",
       "      <td>17422.0</td>\n",
       "      <td>9.0</td>\n",
       "      <td>3.0</td>\n",
       "      <td>1.0</td>\n",
       "      <td>16.0</td>\n",
       "    </tr>\n",
       "    <tr>\n",
       "      <th>4</th>\n",
       "      <td>11487.0</td>\n",
       "      <td>9.0</td>\n",
       "      <td>3.0</td>\n",
       "      <td>1.0</td>\n",
       "      <td>16.0</td>\n",
       "    </tr>\n",
       "  </tbody>\n",
       "</table>\n",
       "</div>"
      ],
      "text/plain": [
       "   Hugo_Symbol  Variant_Classification  Variant_Type  gender  BIOTYPE\n",
       "0      17935.0                     9.0           3.0     1.0     16.0\n",
       "1       8738.0                    13.0           3.0     1.0     16.0\n",
       "2      12893.0                     9.0           3.0     1.0     16.0\n",
       "3      17422.0                     9.0           3.0     1.0     16.0\n",
       "4      11487.0                     9.0           3.0     1.0     16.0"
      ]
     },
     "metadata": {},
     "output_type": "display_data"
    }
   ],
   "source": [
    "display (data.head())"
   ]
  },
  {
   "cell_type": "code",
   "execution_count": 120,
   "metadata": {},
   "outputs": [],
   "source": [
    "\n",
    "train_X = X[:1000000]\n",
    "train_Y = Y[:1000000]\n",
    "\n",
    "test_X = X[1000000:1100000]\n",
    "test_Y = Y[1000000:1100000]"
   ]
  },
  {
   "cell_type": "code",
   "execution_count": 121,
   "metadata": {},
   "outputs": [],
   "source": [
    "clf = DecisionTreeClassifier()\n",
    "\n",
    "# Train Decision Tree Classifer\n",
    "clf = clf.fit(train_X, train_Y)"
   ]
  },
  {
   "cell_type": "code",
   "execution_count": 122,
   "metadata": {},
   "outputs": [],
   "source": [
    "pred_Y = clf.predict(test_X)\n"
   ]
  },
  {
   "cell_type": "code",
   "execution_count": 123,
   "metadata": {},
   "outputs": [
    {
     "name": "stdout",
     "output_type": "stream",
     "text": [
      "Accuracy: 0.38247\n"
     ]
    }
   ],
   "source": [
    "# Model Accuracy, how often is the classifier correct?\n",
    "print(\"Accuracy:\",metrics.accuracy_score(test_Y, pred_Y))"
   ]
  },
  {
   "cell_type": "code",
   "execution_count": null,
   "metadata": {},
   "outputs": [],
   "source": []
  }
 ],
 "metadata": {
  "kernelspec": {
   "display_name": "Python 3",
   "language": "python",
   "name": "python3"
  },
  "language_info": {
   "codemirror_mode": {
    "name": "ipython",
    "version": 3
   },
   "file_extension": ".py",
   "mimetype": "text/x-python",
   "name": "python",
   "nbconvert_exporter": "python",
   "pygments_lexer": "ipython3",
   "version": "3.7.3"
  }
 },
 "nbformat": 4,
 "nbformat_minor": 2
}
