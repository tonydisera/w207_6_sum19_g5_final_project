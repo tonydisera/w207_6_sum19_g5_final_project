{
 "cells": [
  {
   "cell_type": "code",
   "execution_count": null,
   "metadata": {},
   "outputs": [],
   "source": [
    "import pandas as pd\n",
    "import urllib.request\n",
    "import numpy as np\n",
    "from IPython.display import display\n",
    "from sklearn.model_selection import StratifiedKFold\n",
    "from sklearn.naive_bayes import MultinomialNB\n",
    "from sklearn.neighbors import KNeighborsClassifier\n",
    "from sklearn.tree import DecisionTreeClassifier\n",
    "from sklearn.ensemble import RandomForestClassifier\n",
    "from sklearn.linear_model import LogisticRegression\n",
    "from sklearn.model_selection import GridSearchCV\n",
    "from sklearn import preprocessing\n",
    "from sklearn.preprocessing import OrdinalEncoder\n",
    "from sklearn import metrics"
   ]
  },
  {
   "cell_type": "code",
   "execution_count": null,
   "metadata": {},
   "outputs": [],
   "source": [
    "print('Loading case data ...')\n",
    "cases = pd.read_csv(\"pancancer_mutations_merged.csv\")\n",
    "print(\"done.\")"
   ]
  },
  {
   "cell_type": "code",
   "execution_count": null,
   "metadata": {},
   "outputs": [],
   "source": [
    "cols = list(cases.columns)\n",
    "cols[0] = 'Seq'\n",
    "cases.columns=cols"
   ]
  },
  {
   "cell_type": "code",
   "execution_count": null,
   "metadata": {},
   "outputs": [],
   "source": [
    "lmap = pd.Series(cases.cancer_type.values,index=cases.bcr_patient_barcode).to_dict()\n",
    "vc = pd.pivot_table(cases, index=\"bcr_patient_barcode\", columns=\"Variant_Classification\", values=\"Seq\", aggfunc=\"count\")\n",
    "vc = vc.fillna(0)\n",
    "vcdf = pd.DataFrame(vc.to_records())\n",
    "vcdf['cancer_type'] = vcdf[\"bcr_patient_barcode\"].map(lmap)"
   ]
  },
  {
   "cell_type": "code",
   "execution_count": null,
   "metadata": {},
   "outputs": [],
   "source": [
    "vcdf.head()"
   ]
  },
  {
   "cell_type": "code",
   "execution_count": null,
   "metadata": {},
   "outputs": [],
   "source": [
    "data= vcdf.drop(['bcr_patient_barcode', 'cancer_type'], axis=1)\n",
    "labels=vcdf[['cancer_type']]"
   ]
  },
  {
   "cell_type": "code",
   "execution_count": null,
   "metadata": {},
   "outputs": [],
   "source": [
    "shuffle = np.random.permutation(np.arange(data.shape[0]))\n",
    "X, Y  = data.iloc[shuffle], labels.iloc[shuffle]"
   ]
  },
  {
   "cell_type": "code",
   "execution_count": null,
   "metadata": {},
   "outputs": [],
   "source": [
    "train_X = X[:6000]\n",
    "train_Y = Y[:6000]\n",
    "\n",
    "test_X = X[6000:]\n",
    "test_Y = Y[6000:]\n",
    "\n"
   ]
  },
  {
   "cell_type": "code",
   "execution_count": null,
   "metadata": {},
   "outputs": [],
   "source": [
    "clf = MultinomialNB()\n",
    "clf = clf.fit(train_X, train_Y.values.ravel())\n",
    "pred_Y = clf.predict(test_X)\n",
    "# Model Accuracy, how often is the classifier correct?\n",
    "print(\"Accuracy for MNB:\",metrics.accuracy_score(test_Y, pred_Y))\n",
    "\n"
   ]
  },
  {
   "cell_type": "code",
   "execution_count": null,
   "metadata": {},
   "outputs": [],
   "source": [
    "clf = LogisticRegression()\n",
    "clf = clf.fit(train_X, train_Y.values.ravel())\n",
    "pred_Y = clf.predict(test_X)\n",
    "# Model Accuracy, how often is the classifier correct?\n",
    "print(\"Accuracy for Logistic Regression:\",metrics.accuracy_score(test_Y, pred_Y))\n",
    "\n"
   ]
  },
  {
   "cell_type": "code",
   "execution_count": null,
   "metadata": {},
   "outputs": [],
   "source": [
    "clf=RandomForestClassifier(n_estimators=50, n_jobs=30)\n",
    "clf.fit(train_X,train_Y.values.ravel())\n",
    "\n",
    "pred_Y=clf.predict(test_X)\n",
    "print(\"Accuracy for Random Forest Regression:\",metrics.accuracy_score(test_Y, pred_Y))"
   ]
  },
  {
   "cell_type": "code",
   "execution_count": null,
   "metadata": {},
   "outputs": [],
   "source": []
  }
 ],
 "metadata": {
  "kernelspec": {
   "display_name": "Python 3",
   "language": "python",
   "name": "python3"
  },
  "language_info": {
   "codemirror_mode": {
    "name": "ipython",
    "version": 3
   },
   "file_extension": ".py",
   "mimetype": "text/x-python",
   "name": "python",
   "nbconvert_exporter": "python",
   "pygments_lexer": "ipython3",
   "version": "3.7.3"
  }
 },
 "nbformat": 4,
 "nbformat_minor": 2
}
