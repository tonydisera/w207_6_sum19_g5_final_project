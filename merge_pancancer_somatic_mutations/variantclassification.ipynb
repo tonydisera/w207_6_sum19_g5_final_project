{
 "cells": [
  {
   "cell_type": "code",
   "execution_count": 2,
   "metadata": {},
   "outputs": [],
   "source": [
    "import pandas as pd\n",
    "import urllib.request\n",
    "import numpy as np\n",
    "from IPython.display import display\n",
    "from sklearn.model_selection import StratifiedKFold\n",
    "from sklearn.naive_bayes import MultinomialNB\n",
    "from sklearn.neighbors import KNeighborsClassifier\n",
    "from sklearn.tree import DecisionTreeClassifier\n",
    "from sklearn.ensemble import RandomForestClassifier\n",
    "from sklearn.linear_model import LogisticRegression\n",
    "from sklearn.model_selection import GridSearchCV\n",
    "from sklearn import preprocessing\n",
    "from sklearn.preprocessing import OrdinalEncoder\n",
    "from sklearn import metrics"
   ]
  },
  {
   "cell_type": "code",
   "execution_count": 3,
   "metadata": {},
   "outputs": [
    {
     "name": "stdout",
     "output_type": "stream",
     "text": [
      "Loading case data ...\n"
     ]
    },
    {
     "name": "stderr",
     "output_type": "stream",
     "text": [
      "/miniconda3/lib/python3.7/site-packages/IPython/core/interactiveshell.py:3049: DtypeWarning: Columns (2,15,17,21,22,23) have mixed types. Specify dtype option on import or set low_memory=False.\n",
      "  interactivity=interactivity, compiler=compiler, result=result)\n"
     ]
    },
    {
     "name": "stdout",
     "output_type": "stream",
     "text": [
      "done.\n"
     ]
    }
   ],
   "source": [
    "print('Loading case data ...')\n",
    "cases = pd.read_csv(\"pancancer_mutations_merged.csv\")\n",
    "print(\"done.\")"
   ]
  },
  {
   "cell_type": "code",
   "execution_count": 8,
   "metadata": {},
   "outputs": [],
   "source": [
    "cols = list(cases.columns)\n",
    "cols[0] = 'Seq'\n",
    "cases.columns=cols"
   ]
  },
  {
   "cell_type": "code",
   "execution_count": 9,
   "metadata": {},
   "outputs": [],
   "source": [
    "lmap = pd.Series(cases.cancer_type.values,index=cases.bcr_patient_barcode).to_dict()\n",
    "vc = pd.pivot_table(cases, index=\"bcr_patient_barcode\", columns=\"Variant_Classification\", values=\"Seq\", aggfunc=\"count\")\n",
    "vc = vc.fillna(0)\n",
    "vcdf = pd.DataFrame(vc.to_records())\n",
    "vcdf['cancer_type'] = vcdf[\"bcr_patient_barcode\"].map(lmap)"
   ]
  },
  {
   "cell_type": "code",
   "execution_count": 10,
   "metadata": {},
   "outputs": [
    {
     "data": {
      "text/html": [
       "<div>\n",
       "<style scoped>\n",
       "    .dataframe tbody tr th:only-of-type {\n",
       "        vertical-align: middle;\n",
       "    }\n",
       "\n",
       "    .dataframe tbody tr th {\n",
       "        vertical-align: top;\n",
       "    }\n",
       "\n",
       "    .dataframe thead th {\n",
       "        text-align: right;\n",
       "    }\n",
       "</style>\n",
       "<table border=\"1\" class=\"dataframe\">\n",
       "  <thead>\n",
       "    <tr style=\"text-align: right;\">\n",
       "      <th></th>\n",
       "      <th>bcr_patient_barcode</th>\n",
       "      <th>3'Flank</th>\n",
       "      <th>3'UTR</th>\n",
       "      <th>5'Flank</th>\n",
       "      <th>5'UTR</th>\n",
       "      <th>Frame_Shift_Del</th>\n",
       "      <th>Frame_Shift_Ins</th>\n",
       "      <th>In_Frame_Del</th>\n",
       "      <th>In_Frame_Ins</th>\n",
       "      <th>Intron</th>\n",
       "      <th>Missense_Mutation</th>\n",
       "      <th>Nonsense_Mutation</th>\n",
       "      <th>Nonstop_Mutation</th>\n",
       "      <th>RNA</th>\n",
       "      <th>Silent</th>\n",
       "      <th>Splice_Site</th>\n",
       "      <th>Translation_Start_Site</th>\n",
       "      <th>cancer_type</th>\n",
       "    </tr>\n",
       "  </thead>\n",
       "  <tbody>\n",
       "    <tr>\n",
       "      <th>0</th>\n",
       "      <td>TCGA-02-0003</td>\n",
       "      <td>0.0</td>\n",
       "      <td>3.0</td>\n",
       "      <td>1.0</td>\n",
       "      <td>0.0</td>\n",
       "      <td>0.0</td>\n",
       "      <td>0.0</td>\n",
       "      <td>0.0</td>\n",
       "      <td>0.0</td>\n",
       "      <td>0.0</td>\n",
       "      <td>44.0</td>\n",
       "      <td>0.0</td>\n",
       "      <td>0.0</td>\n",
       "      <td>1.0</td>\n",
       "      <td>12.0</td>\n",
       "      <td>0.0</td>\n",
       "      <td>0.0</td>\n",
       "      <td>GBM</td>\n",
       "    </tr>\n",
       "    <tr>\n",
       "      <th>1</th>\n",
       "      <td>TCGA-02-0033</td>\n",
       "      <td>0.0</td>\n",
       "      <td>0.0</td>\n",
       "      <td>0.0</td>\n",
       "      <td>2.0</td>\n",
       "      <td>0.0</td>\n",
       "      <td>0.0</td>\n",
       "      <td>1.0</td>\n",
       "      <td>1.0</td>\n",
       "      <td>1.0</td>\n",
       "      <td>23.0</td>\n",
       "      <td>2.0</td>\n",
       "      <td>0.0</td>\n",
       "      <td>0.0</td>\n",
       "      <td>10.0</td>\n",
       "      <td>1.0</td>\n",
       "      <td>0.0</td>\n",
       "      <td>GBM</td>\n",
       "    </tr>\n",
       "    <tr>\n",
       "      <th>2</th>\n",
       "      <td>TCGA-02-0047</td>\n",
       "      <td>0.0</td>\n",
       "      <td>4.0</td>\n",
       "      <td>0.0</td>\n",
       "      <td>1.0</td>\n",
       "      <td>2.0</td>\n",
       "      <td>0.0</td>\n",
       "      <td>1.0</td>\n",
       "      <td>0.0</td>\n",
       "      <td>2.0</td>\n",
       "      <td>56.0</td>\n",
       "      <td>2.0</td>\n",
       "      <td>1.0</td>\n",
       "      <td>2.0</td>\n",
       "      <td>15.0</td>\n",
       "      <td>1.0</td>\n",
       "      <td>0.0</td>\n",
       "      <td>GBM</td>\n",
       "    </tr>\n",
       "    <tr>\n",
       "      <th>3</th>\n",
       "      <td>TCGA-02-0055</td>\n",
       "      <td>1.0</td>\n",
       "      <td>5.0</td>\n",
       "      <td>1.0</td>\n",
       "      <td>1.0</td>\n",
       "      <td>0.0</td>\n",
       "      <td>0.0</td>\n",
       "      <td>0.0</td>\n",
       "      <td>0.0</td>\n",
       "      <td>2.0</td>\n",
       "      <td>47.0</td>\n",
       "      <td>1.0</td>\n",
       "      <td>0.0</td>\n",
       "      <td>1.0</td>\n",
       "      <td>16.0</td>\n",
       "      <td>2.0</td>\n",
       "      <td>0.0</td>\n",
       "      <td>GBM</td>\n",
       "    </tr>\n",
       "    <tr>\n",
       "      <th>4</th>\n",
       "      <td>TCGA-02-2466</td>\n",
       "      <td>1.0</td>\n",
       "      <td>6.0</td>\n",
       "      <td>0.0</td>\n",
       "      <td>3.0</td>\n",
       "      <td>5.0</td>\n",
       "      <td>1.0</td>\n",
       "      <td>1.0</td>\n",
       "      <td>0.0</td>\n",
       "      <td>5.0</td>\n",
       "      <td>77.0</td>\n",
       "      <td>3.0</td>\n",
       "      <td>0.0</td>\n",
       "      <td>1.0</td>\n",
       "      <td>26.0</td>\n",
       "      <td>13.0</td>\n",
       "      <td>0.0</td>\n",
       "      <td>GBM</td>\n",
       "    </tr>\n",
       "  </tbody>\n",
       "</table>\n",
       "</div>"
      ],
      "text/plain": [
       "  bcr_patient_barcode  3'Flank  3'UTR  5'Flank  5'UTR  Frame_Shift_Del  \\\n",
       "0        TCGA-02-0003      0.0    3.0      1.0    0.0              0.0   \n",
       "1        TCGA-02-0033      0.0    0.0      0.0    2.0              0.0   \n",
       "2        TCGA-02-0047      0.0    4.0      0.0    1.0              2.0   \n",
       "3        TCGA-02-0055      1.0    5.0      1.0    1.0              0.0   \n",
       "4        TCGA-02-2466      1.0    6.0      0.0    3.0              5.0   \n",
       "\n",
       "   Frame_Shift_Ins  In_Frame_Del  In_Frame_Ins  Intron  Missense_Mutation  \\\n",
       "0              0.0           0.0           0.0     0.0               44.0   \n",
       "1              0.0           1.0           1.0     1.0               23.0   \n",
       "2              0.0           1.0           0.0     2.0               56.0   \n",
       "3              0.0           0.0           0.0     2.0               47.0   \n",
       "4              1.0           1.0           0.0     5.0               77.0   \n",
       "\n",
       "   Nonsense_Mutation  Nonstop_Mutation  RNA  Silent  Splice_Site  \\\n",
       "0                0.0               0.0  1.0    12.0          0.0   \n",
       "1                2.0               0.0  0.0    10.0          1.0   \n",
       "2                2.0               1.0  2.0    15.0          1.0   \n",
       "3                1.0               0.0  1.0    16.0          2.0   \n",
       "4                3.0               0.0  1.0    26.0         13.0   \n",
       "\n",
       "   Translation_Start_Site cancer_type  \n",
       "0                     0.0         GBM  \n",
       "1                     0.0         GBM  \n",
       "2                     0.0         GBM  \n",
       "3                     0.0         GBM  \n",
       "4                     0.0         GBM  "
      ]
     },
     "execution_count": 10,
     "metadata": {},
     "output_type": "execute_result"
    }
   ],
   "source": [
    "vcdf.head()"
   ]
  },
  {
   "cell_type": "code",
   "execution_count": 11,
   "metadata": {},
   "outputs": [],
   "source": [
    "data= vcdf.drop(['bcr_patient_barcode', 'cancer_type'], axis=1)\n",
    "labels=vcdf[['cancer_type']]"
   ]
  },
  {
   "cell_type": "code",
   "execution_count": 12,
   "metadata": {},
   "outputs": [],
   "source": [
    "shuffle = np.random.permutation(np.arange(data.shape[0]))\n",
    "X, Y  = data.iloc[shuffle], labels.iloc[shuffle]"
   ]
  },
  {
   "cell_type": "code",
   "execution_count": 13,
   "metadata": {},
   "outputs": [],
   "source": [
    "train_X = X[:6000]\n",
    "train_Y = Y[:6000]\n",
    "\n",
    "test_X = X[6000:]\n",
    "test_Y = Y[6000:]\n",
    "\n"
   ]
  },
  {
   "cell_type": "code",
   "execution_count": null,
   "metadata": {},
   "outputs": [],
   "source": [
    "clf = MultinomialNB()\n",
    "clf = clf.fit(train_X, train_Y.values.ravel())\n",
    "pred_Y = clf.predict(test_X)\n",
    "# Model Accuracy, how often is the classifier correct?\n",
    "print(\"Accuracy for MNB:\",metrics.accuracy_score(test_Y, pred_Y))\n",
    "\n"
   ]
  },
  {
   "cell_type": "code",
   "execution_count": 14,
   "metadata": {},
   "outputs": [
    {
     "name": "stderr",
     "output_type": "stream",
     "text": [
      "/miniconda3/lib/python3.7/site-packages/sklearn/linear_model/logistic.py:432: FutureWarning: Default solver will be changed to 'lbfgs' in 0.22. Specify a solver to silence this warning.\n",
      "  FutureWarning)\n",
      "/miniconda3/lib/python3.7/site-packages/sklearn/linear_model/logistic.py:469: FutureWarning: Default multi_class will be changed to 'auto' in 0.22. Specify the multi_class option to silence this warning.\n",
      "  \"this warning.\", FutureWarning)\n"
     ]
    },
    {
     "name": "stdout",
     "output_type": "stream",
     "text": [
      "Accuracy for Logistic Regression: 0.12899201596806387\n"
     ]
    },
    {
     "name": "stderr",
     "output_type": "stream",
     "text": [
      "/miniconda3/lib/python3.7/site-packages/sklearn/svm/base.py:929: ConvergenceWarning: Liblinear failed to converge, increase the number of iterations.\n",
      "  \"the number of iterations.\", ConvergenceWarning)\n"
     ]
    }
   ],
   "source": [
    "clf = LogisticRegression()\n",
    "clf = clf.fit(train_X, train_Y.values.ravel())\n",
    "pred_Y = clf.predict(test_X)\n",
    "# Model Accuracy, how often is the classifier correct?\n",
    "print(\"Accuracy for Logistic Regression:\",metrics.accuracy_score(test_Y, pred_Y))\n",
    "\n"
   ]
  },
  {
   "cell_type": "code",
   "execution_count": 15,
   "metadata": {},
   "outputs": [
    {
     "name": "stdout",
     "output_type": "stream",
     "text": [
      "Accuracy for Random Forest Regression: 0.30489021956087825\n"
     ]
    }
   ],
   "source": [
    "clf=RandomForestClassifier(n_estimators=50, n_jobs=30)\n",
    "clf.fit(train_X,train_Y.values.ravel())\n",
    "\n",
    "pred_Y=clf.predict(test_X)\n",
    "print(\"Accuracy for Random Forest Regression:\",metrics.accuracy_score(test_Y, pred_Y))"
   ]
  },
  {
   "cell_type": "code",
   "execution_count": null,
   "metadata": {},
   "outputs": [],
   "source": []
  }
 ],
 "metadata": {
  "kernelspec": {
   "display_name": "Python 3",
   "language": "python",
   "name": "python3"
  },
  "language_info": {
   "codemirror_mode": {
    "name": "ipython",
    "version": 3
   },
   "file_extension": ".py",
   "mimetype": "text/x-python",
   "name": "python",
   "nbconvert_exporter": "python",
   "pygments_lexer": "ipython3",
   "version": "3.7.3"
  }
 },
 "nbformat": 4,
 "nbformat_minor": 2
}
