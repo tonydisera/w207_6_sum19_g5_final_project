{
 "cells": [
  {
   "cell_type": "code",
   "execution_count": 20,
   "metadata": {},
   "outputs": [],
   "source": [
    "# This tells matplotlib not to try opening a new window for each plot.\n",
    "%matplotlib inline\n",
    "\n",
    "# Import a bunch of libraries.\n",
    "import numpy as np\n",
    "import pandas as pd\n",
    "import matplotlib as mpl\n",
    "import matplotlib.pyplot as plt\n",
    "import glob\n",
    "from sklearn import preprocessing\n",
    "import xgboost as xgb\n",
    "from sklearn.metrics import accuracy_score\n",
    "from sklearn.metrics import classification_report"
   ]
  },
  {
   "cell_type": "code",
   "execution_count": 2,
   "metadata": {},
   "outputs": [],
   "source": [
    "# to make this notebook's output stable across runs\n",
    "np.random.seed(42)"
   ]
  },
  {
   "cell_type": "code",
   "execution_count": 3,
   "metadata": {},
   "outputs": [],
   "source": [
    "# TCGA dictionary information\n",
    "tcga_dict = open(\"./data/tcga_dictionaries.txt\",\"r\")\n",
    "dict_name_index = 0 #Set dictionary index counter to 0\n",
    "for line in tcga_dict:\n",
    "    if line.startswith(\"#\"): #If line starts with #, the next line will be a known dictionary\n",
    "        dict_name_index += 1\n",
    "    elif dict_name_index == 5:\n",
    "        code_to_disease = eval(line)"
   ]
  },
  {
   "cell_type": "code",
   "execution_count": 4,
   "metadata": {},
   "outputs": [],
   "source": [
    "def getDataAndLabels(name, features):\n",
    "    labels_string = features.cancer_type\n",
    "    le            = preprocessing.LabelEncoder()\n",
    "    labels        = le.fit_transform(labels_string)\n",
    "\n",
    "    # Get rid of the cancer type and patient_id columns \n",
    "    data = features[features.columns[3:]]\n",
    "    return {'name': name, 'feature_size': data.shape[1],\n",
    "            'data': data, 'labels': labels , 'label_encoder': le }"
   ]
  },
  {
   "cell_type": "code",
   "execution_count": 9,
   "metadata": {},
   "outputs": [
    {
     "name": "stdout",
     "output_type": "stream",
     "text": [
      "Loading training data ...\n",
      "  l1reg_c1\n",
      "  l1reg_c100\n",
      "  l1reg_c0.5\n",
      "  l1reg_c10\n",
      "  topgenes_small\n",
      "  bestfit_med\n",
      "  bestfit_large\n",
      "  all\n",
      "  bestfit_with_topgenes\n",
      "done.\n"
     ]
    }
   ],
   "source": [
    "print('Loading training data ...')\n",
    "\n",
    "train_files = glob.glob(\"./data/features_*.train.csv\")\n",
    "all_train_data = {}\n",
    "for filename in train_files:\n",
    "    \n",
    "    name = filename[16:-10]\n",
    "    print(\" \", name)\n",
    "    train_features = pd.read_csv(filename)\n",
    "    all_train_data[name] = getDataAndLabels(name, train_features)\n",
    "\n",
    "print(\"done.\")"
   ]
  },
  {
   "cell_type": "code",
   "execution_count": 10,
   "metadata": {},
   "outputs": [
    {
     "name": "stdout",
     "output_type": "stream",
     "text": [
      "Loading test data ...\n",
      "  l1reg_c10\n",
      "  topgenes_small\n",
      "  bestfit_large\n",
      "  l1reg_c0.5\n",
      "  l1reg_c100\n",
      "  l1reg_c1\n",
      "  bestfit_med\n",
      "  bestfit_with_topgenes\n",
      "  all\n",
      "done.\n"
     ]
    }
   ],
   "source": [
    "print('Loading test data ...')\n",
    "\n",
    "test_files = glob.glob(\"./data/features_*.test.csv\")\n",
    "all_test_data = {}\n",
    "for filename in test_files:\n",
    "    \n",
    "    name = filename[16:-9]\n",
    "    print(\" \", name)\n",
    "    test_features = pd.read_csv(filename)\n",
    "    all_test_data[name] = getDataAndLabels(name, test_features)\n",
    "\n",
    "print(\"done.\")"
   ]
  },
  {
   "cell_type": "code",
   "execution_count": 18,
   "metadata": {},
   "outputs": [],
   "source": [
    "def runClassifiers(train_data, train_labels, test_data):\n",
    "    xgb_cfr = xgb.XGBClassifier(max_depth=2, random_state=42)\n",
    "    xgb_cfr.fit(train_data, train_labels)\n",
    "    \n",
    "    xgb_pred = xgb_cfr.predict(test_data)\n",
    "    \n",
    "    return xgb_cfr, xgb_pred"
   ]
  },
  {
   "cell_type": "code",
   "execution_count": null,
   "metadata": {},
   "outputs": [
    {
     "name": "stdout",
     "output_type": "stream",
     "text": [
      "Would you like to run XGBoost on: l1reg_c1\tno\n",
      "Would you like to run XGBoost on: l1reg_c100\tno\n",
      "Would you like to run XGBoost on: l1reg_c0.5\tyes\n"
     ]
    }
   ],
   "source": [
    "for name in all_train_data.keys():\n",
    "    ask = input(\"Would you like to run XGBoost on: %s\\t\" %(name))\n",
    "    if ask.lower() == 'yes':\n",
    "        train      = all_train_data[name]\n",
    "        test       = all_test_data[name]\n",
    "        X_train    = train['data']\n",
    "        Y_train    = train['labels']\n",
    "        X_test     = test['data']\n",
    "        Y_test     = test['labels']\n",
    "        cfr, pred = runClassifiers(X_train, Y_train, X_test)\n",
    "        xgb_cfr_report = classification_report(Y_test, pred)\n",
    "        accuracy_score(Y_test, pred)"
   ]
  },
  {
   "cell_type": "code",
   "execution_count": null,
   "metadata": {},
   "outputs": [],
   "source": []
  }
 ],
 "metadata": {
  "kernelspec": {
   "display_name": "Python 3",
   "language": "python",
   "name": "python3"
  },
  "language_info": {
   "codemirror_mode": {
    "name": "ipython",
    "version": 3
   },
   "file_extension": ".py",
   "mimetype": "text/x-python",
   "name": "python",
   "nbconvert_exporter": "python",
   "pygments_lexer": "ipython3",
   "version": "3.7.1"
  }
 },
 "nbformat": 4,
 "nbformat_minor": 2
}
