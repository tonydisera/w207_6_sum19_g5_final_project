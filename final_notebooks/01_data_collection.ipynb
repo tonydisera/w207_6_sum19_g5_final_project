{
 "cells": [
  {
   "cell_type": "markdown",
   "metadata": {
    "colab_type": "text",
    "id": "dRLi1FBsby4R"
   },
   "source": [
    "# W207.6 Final Project - Predicting Cancer Type from Tumor Mutations\n",
    "### Tony Di Sera, Vijay Singh, Rajiv Nair, Jeremey Fraenkel\n"
   ]
  },
  {
   "cell_type": "markdown",
   "metadata": {
    "colab_type": "text",
    "id": "k9RmDjIzby4S"
   },
   "source": [
    "# Overview\n",
    "\n",
    "In this project, we analyze the tumor mutation dataset from PanCancer Atlas Initiative https://www.cell.com/pb-assets/consortium/pancanceratlas/pancani3/index.html. This is a cancer dataset comprising over 10,000 patients diagnosed with cancer.  Overall, the study collected diverse and detailed molecular information on each patient's tumor, including DNA sequencing.\n",
    "\n",
    "#### Primary Dataset\n",
    "The primary dataset we will be using is the somatic mutations file. This file encodes whether or not a gene was found mutated in the biopsied tumor. In addition, we may pull some patient features like gender and age at diagnosis from the clinical patient file.\n",
    "\n",
    "Number of Instances:  3,600,963 somatic mutations for 10,956 cancer patients\n",
    "Number of Attributes:  ~100 attributes for mutations, ~700 clinical attributes for patients. We will aggregate the mutation data by gene for each patient, reducing the number of attributes by patient to ~ 500-1000 features.\n",
    "\n",
    "#### Background\n",
    "By comparing the DNA from normal tissue cells to those of the cancerous cells, somatic mutations can be identified and characterized. Somatic mutations are non-inherited variations to the DNA of a cell that arise during an individual's lifetime. We will use these DNA mutations to predict cancer type, classified into 33 different tissue/organ types.  \n",
    "\n",
    "#### Motivation\n",
    "There is clinical value in being able to predict cancer type based on molecular profiles.  For some patients diagnosed with cancer, the biopsied tumor doesn't match the histologic characteristics of the organ/tissue site.  For example, a patient may have a liver tumor that cannot be characterized as liver cells when reviewed by the pathologist.  In these cases, the cancer may have originated from another site and has metastasized to the liver.  This is where genomic tumor data may provide insights by predicting the 'cell of origin', leading to a better-suited therapy for the patient.\n"
   ]
  },
  {
   "cell_type": "markdown",
   "metadata": {
    "colab_type": "text",
    "id": "6NrLTq1-bVmt"
   },
   "source": [
    "# Initialization"
   ]
  },
  {
   "cell_type": "code",
   "execution_count": null,
   "metadata": {
    "colab": {},
    "colab_type": "code",
    "id": "u1NF-T6Jby4U"
   },
   "outputs": [],
   "source": [
    "import pandas as pd\n",
    "import urllib.request\n",
    "import numpy as np\n",
    "import glob\n",
    "import os\n",
    "import warnings\n",
    "from textwrap import wrap\n",
    "import matplotlib.pyplot as plt\n",
    "from IPython.display import display\n",
    "import time\n",
    "from IPython.core.interactiveshell import InteractiveShell\n",
    "InteractiveShell.ast_node_interactivity = \"all\"\n",
    "\n",
    "from sklearn import preprocessing\n",
    "from sklearn.feature_selection import SelectKBest\n",
    "from sklearn.feature_selection import chi2\n",
    "from sklearn.feature_selection import RFE\n",
    "from sklearn import preprocessing\n",
    "from sklearn import metrics\n",
    "from sklearn.metrics import precision_recall_fscore_support\n",
    "from sklearn.metrics import accuracy_score\n",
    "from sklearn.metrics import confusion_matrix\n",
    "from sklearn.metrics import classification_report\n",
    "from sklearn.model_selection import train_test_split\n",
    "from sklearn.decomposition import PCA\n",
    "from sklearn.model_selection import StratifiedKFold\n",
    "from sklearn.naive_bayes import MultinomialNB\n",
    "from sklearn.neighbors import KNeighborsClassifier\n",
    "from sklearn.linear_model import LogisticRegression\n",
    "from sklearn.tree import DecisionTreeClassifier\n",
    "from sklearn.ensemble import RandomForestClassifier\n",
    "from sklearn.model_selection import GridSearchCV\n",
    "from sklearn.svm import LinearSVC\n",
    "from sklearn.svm import SVC\n",
    "#import tensorflow as tf\n",
    "#import tensorflow.keras as K\n",
    "#from tensorflow.keras.layers import Dense as Dense\n",
    "#from tensorflow.keras.utils import to_categorical\n",
    "#from tensorflow.keras import regularizers\n",
    "#from tensorflow.keras.layers import Dropout\n",
    "#from tensorflow.keras.callbacks import Callback\n",
    "\n",
    "\n",
    "plt.rcParams.update({'figure.max_open_warning': 0})\n",
    "\n",
    "# Establish the colors for each cancer type\n",
    "label_colors = []\n",
    "cm = plt.get_cmap('tab20b')\n",
    "for i in range(20):\n",
    "    label_colors.append(cm(i))\n",
    "cm = plt.get_cmap('tab20c')\n",
    "for i in range(13):\n",
    "    label_colors.append(cm(i))"
   ]
  },
  {
   "cell_type": "code",
   "execution_count": null,
   "metadata": {
    "colab": {
     "base_uri": "https://localhost:8080/",
     "height": 55
    },
    "colab_type": "code",
    "id": "NVVoSJj8by4i",
    "outputId": "78557bfc-1622-4c33-96e3-36e17e0d1a0e"
   },
   "outputs": [],
   "source": [
    "#from google.colab import drive\n",
    "#drive.mount('/content/drive/')\n"
   ]
  },
  {
   "cell_type": "code",
   "execution_count": null,
   "metadata": {
    "colab": {
     "base_uri": "https://localhost:8080/",
     "height": 35
    },
    "colab_type": "code",
    "id": "BLpMLAMqby4l",
    "outputId": "56444f10-50f0-4c22-dbfc-252569929c4e"
   },
   "outputs": [],
   "source": [
    "#cd /content/drive/My Drive/berkeley/W207 machine learning/Final Project/w207_6_sum19_g5_final_project"
   ]
  },
  {
   "cell_type": "code",
   "execution_count": null,
   "metadata": {
    "colab": {
     "base_uri": "https://localhost:8080/",
     "height": 35
    },
    "colab_type": "code",
    "id": "cruqTsRrby4e",
    "outputId": "85cfe90d-4189-4801-d5df-84b5ccbc85c2"
   },
   "outputs": [],
   "source": [
    "#if tf.test.gpu_device_name() != '/device:GPU:0':\n",
    "#  print('WARNING: GPU device not found.')\n",
    "#else:\n",
    "#  print('SUCCESS: Found GPU: {}'.format(tf.test.gpu_device_name()))"
   ]
  },
  {
   "cell_type": "code",
   "execution_count": null,
   "metadata": {
    "colab": {},
    "colab_type": "code",
    "id": "O-7lMnfrby4y"
   },
   "outputs": [],
   "source": [
    "# create the directory where the downloaded directory is stored\n",
    "data_dir = \"./data\"\n",
    "if not os.path.isdir(data_dir):\n",
    "    os.makedirs(data_dir)\n",
    "    \n",
    "# create the directory where the metrics are stored\n",
    "metrics_dir = \"./metrics\"\n",
    "if not os.path.isdir(metrics_dir):\n",
    "    os.makedirs(metrics_dir)\n",
    "    \n",
    "# create the raw where the source data is stored\n",
    "raw_dir = \"./raw\"\n",
    "if not os.path.isdir(raw_dir):\n",
    "    os.makedirs(raw_dir)    "
   ]
  },
  {
   "cell_type": "code",
   "execution_count": null,
   "metadata": {
    "colab": {},
    "colab_type": "code",
    "id": "OUYcwsHcIelo"
   },
   "outputs": [],
   "source": [
    "# This downloads a dictionary file\n",
    "dictionary_filename = \"./raw/tcga_dictionaries.txt\"\n",
    "if os.path.isfile(dictionary_filename):\n",
    "    print(\"Skipping download, as file %s is present\" %(dictionary_filename))\n",
    "else:\n",
    "    print('Downloading dictionary file...')\n",
    "    url = 'https://w207-final-project.s3.amazonaws.com/raw/tcga_dictionaries.txt'  \n",
    "    urllib.request.urlretrieve(url, dictionary_filename)  \n",
    "print(\"done.\")\n",
    "\n",
    "\n",
    "# This loads the data dictionary to will convert\n",
    "# the tumor_sample_barcode into a cancer_type\n",
    "# and provide full names for the cancer types\n",
    "tcga_dict = open(\"./raw/tcga_dictionaries.txt\",\"r\")\n",
    "dict_name_index = 0 #Set dictionary index counter to 0\n",
    "for line in tcga_dict:\n",
    "    if line.startswith(\"#\"): #If line starts with #, the next line will be a known dictionary\n",
    "        dict_name_index += 1\n",
    "    elif dict_name_index == 4:\n",
    "        tissue_source_site = eval(line)            \n",
    "    elif dict_name_index == 5:\n",
    "        code_to_disease = eval(line)\n",
    "    elif dict_name_index == 6:\n",
    "        disease_to_code = eval(line)"
   ]
  },
  {
   "cell_type": "markdown",
   "metadata": {
    "colab_type": "text",
    "id": "CwztM4ufby4r"
   },
   "source": [
    "# Data Collection\n",
    "For our analysis of cancer prediction using gene mutation and clinical data from patients, we will gather data from multiple sources. First we obtain the somatic mutation data from the PanCancerAtlas website (https://gdc.cancer.gov/about-data/publications/pancanatlas). We also download the patient clinical data that corresponds to the tumor data. At this time, we are not bringing in clinical features, but as the project progresses, we would like to bring in a few features from this clinical dataset (e.g. age a diagnosis, gender). In our notebook, we store this data locally so that it does not have to be downloaded if the notebook kernel is restarted and run multiple times."
   ]
  },
  {
   "cell_type": "code",
   "execution_count": null,
   "metadata": {
    "colab": {},
    "colab_type": "code",
    "id": "7jjFc_fPby4t"
   },
   "outputs": [],
   "source": [
    "# to make this notebook's output stable across runs\n",
    "np.random.seed(42)"
   ]
  },
  {
   "cell_type": "markdown",
   "metadata": {
    "colab_type": "text",
    "id": "xBHddXTxby42"
   },
   "source": [
    "### Download the somatic mutations file\n",
    "This file is in the 'MAF' file format, a bioinformatics tab separated format that can contains one record\n",
    "for each mutation observed in a patient tumor sample."
   ]
  },
  {
   "cell_type": "code",
   "execution_count": null,
   "metadata": {
    "colab": {
     "base_uri": "https://localhost:8080/",
     "height": 53
    },
    "colab_type": "code",
    "id": "dhq1fgDQby43",
    "outputId": "8adbf6e5-df60-4ed7-fdc1-5f60879f3df8"
   },
   "outputs": [],
   "source": [
    "# This downloads a 753 MB somatic mutations gzip file.  \n",
    "# This will take about 1-5 mins depending on your\n",
    "# connection speed.\n",
    "mutations_filename = \"./data/somatic_mutations.maf.gz\"\n",
    "if os.path.isfile(mutations_filename):\n",
    "    print(\"Skipping download, as file %s is present\" %(mutations_filename))\n",
    "else:\n",
    "    print('Downloading mutation data. 753 MB (may take a few minutes)...')\n",
    "    url = 'http://api.gdc.cancer.gov/data/1c8cfe5f-e52d-41ba-94da-f15ea1337efc'  \n",
    "    urllib.request.urlretrieve(url, mutations_filename)  \n",
    "print(\"done.\")"
   ]
  },
  {
   "cell_type": "markdown",
   "metadata": {
    "colab_type": "text",
    "id": "KhvgITq4by49"
   },
   "source": [
    "### Download the patient clinical data"
   ]
  },
  {
   "cell_type": "code",
   "execution_count": null,
   "metadata": {
    "colab": {
     "base_uri": "https://localhost:8080/",
     "height": 53
    },
    "colab_type": "code",
    "id": "r0S2a32Mby4_",
    "outputId": "22111da1-6265-4b72-db05-aca5a8a90f2e"
   },
   "outputs": [],
   "source": [
    "# This downloads an 18 MB patient clinical data file\n",
    "patient_filename = \"./data/patient_clinical_data.txt\"\n",
    "if os.path.isfile(patient_filename):\n",
    "    print(\"Skipping download, as file %s is present\" %(patient_filename))\n",
    "else:\n",
    "    print('Downloading clinical data ...')  \n",
    "    url = 'http://api.gdc.cancer.gov/data/0fc78496-818b-4896-bd83-52db1f533c5c'\n",
    "    urllib.request.urlretrieve(url, patient_filename)  \n",
    "print(\"done.\")"
   ]
  },
  {
   "cell_type": "markdown",
   "metadata": {
    "colab_type": "text",
    "id": "x4kvYce6by5P"
   },
   "source": [
    "## Loading Gene Mutation Data ##\n",
    "\n",
    "Here we read the gene mutation data. This data file contains many columns, but after careful curation, we have decided to consider the following colums:\n",
    "\n",
    "1. **tumor_sample_barcode**: this contains the barcode with the first 12 characters identifying the patient\n",
    "2. **gene**: this is the actual gene that has been mutated (for e.g. TACC2, JAKMIP3, PANX3)\n",
    "3. **gene_type**: this indicates if the gene is protein coding or not.\n",
    "4. **chromosome**  **start** **end** **Strand**: the chromosome, start position and end position tells us the location of the gene where the mutation is seen.  Strand indicates if it is on the forward or reverse strand of the DNA.\n",
    "5. **variant_type**: this indicates if it is a single substitution mutation (SNP), a small deletion (DEL), or small insertion (INS), two nucleotide substitution (DNP), three nucleotide substitution (TNP), or more that three nucleotide substitution (ONP)\n",
    "6. **variant_classification**: this indicates what kind of molecular effect that this mutation will have on the protein.  The most common classes indicate if the substitution causes a change to the amino acid (missense vs silent).  Nonsense mutations cause premature termination of the protein; frameshift mutations cause a misreading of the amino acid sequence.\n",
    "7. **variant_impact**: this indicates how damaging the mutation -- HIGH, MODERATE, MODIFIER, or LOW.\n"
   ]
  },
  {
   "cell_type": "code",
   "execution_count": null,
   "metadata": {
    "colab": {
     "base_uri": "https://localhost:8080/",
     "height": 163
    },
    "colab_type": "code",
    "id": "Yd2EN_vWby5Q",
    "outputId": "7c77c380-ef6d-4717-820b-3de3ed2bb11f"
   },
   "outputs": [],
   "source": [
    "# Load the mutations dataframe\n",
    "print('Loading mutations dataframe ...')\n",
    "\n",
    "mutations = pd.read_csv(mutations_filename, compression='gzip',\n",
    "                        sep='\\t',\n",
    "                        usecols=['Tumor_Sample_Barcode','Hugo_Symbol', 'BIOTYPE',\n",
    "                                'Chromosome', 'Start_Position',  'End_Position', 'Strand',\n",
    "                                'Variant_Type',  'Variant_Classification', 'IMPACT' ])\n",
    "\n",
    "print(\"done.\")\n",
    "\n",
    "# Set mutations index\n",
    "mutations['row'] = np.arange(len(mutations))\n",
    "mutations.set_index('row', inplace=True)\n",
    "\n",
    "# Rename the columns to more consistent names\n",
    "renamed_columns = { 'Tumor_Sample_Barcode': 'tumor_sample_barcode', \n",
    "                    'Hugo_Symbol': 'gene', \n",
    "                    'BIOTYPE': 'gene_type', \n",
    "                    'Chromosome': 'chromosome', \n",
    "                    'Start_Position': 'start', \n",
    "                    'End_Position': 'end', \n",
    "                    'Strand': 'strand', \n",
    "                    'Variant_Type': 'variant_type', \n",
    "                    'Variant_Classification': 'variant_classification', \n",
    "                    'IMPACT': 'variant_impact'}\n",
    "mutations.rename(renamed_columns, inplace=True, axis=1)\n",
    "\n",
    "print(\"\\nMutations count:       \", mutations.tumor_sample_barcode.count())\n",
    "print(\"Number of unique samples:\", mutations.tumor_sample_barcode.nunique())"
   ]
  },
  {
   "cell_type": "code",
   "execution_count": null,
   "metadata": {},
   "outputs": [],
   "source": [
    "mutations.head()"
   ]
  },
  {
   "cell_type": "code",
   "execution_count": null,
   "metadata": {},
   "outputs": [],
   "source": []
  },
  {
   "cell_type": "markdown",
   "metadata": {
    "colab_type": "text",
    "id": "Oa9ZzcE-by5V"
   },
   "source": [
    "The actual cancer type can be found by parsing the tumor sample barcode and then looking up\n",
    "the cancer type code in the dictionary based on the tissue source site portion of the\n",
    "tumor sample barcode. For e.g., the *tumor_sample_barcode* 'TCGA-ZX-AA5X-01A-11D-A42O-09' will be parsed into the *tissue source site* **ZX** that is then mapped using the tissue cancer dictionary to *Cervical_squamous_cell_carcinoma_and_endocervical_adenocarcinoma* or *CESC*."
   ]
  },
  {
   "cell_type": "code",
   "execution_count": null,
   "metadata": {
    "colab": {
     "base_uri": "https://localhost:8080/",
     "height": 53
    },
    "colab_type": "code",
    "id": "r8g4F_P-by5X",
    "outputId": "8b8e7bb0-9808-4a7e-8ce3-89718517f664"
   },
   "outputs": [],
   "source": [
    "# Parse the tissue source site from the tumor sample barcode.  Then use the\n",
    "# tissue site source to lookup the cancer type from the tcga_dictionaries\n",
    "def parse_cancer_type(tumor_sample_barcode):\n",
    "    tss = tumor_sample_barcode.split(\"-\")[1] #Extra the tissue source site from the tcga_id\n",
    "    cancer_type = disease_to_code[tissue_source_site[tss][1]][0] #Convert from tss to disease to code \n",
    "    return cancer_type\n",
    "\n",
    "\n",
    "mutations['cancer_type'] = mutations['tumor_sample_barcode'].apply(parse_cancer_type)\n",
    "print(\"Number of unique cancer types:\", mutations.cancer_type.nunique())\n",
    "\n",
    "\n",
    "# Get the patient barcode.  This is what we will use to join the mutations to the clinical data\n",
    "def parse_patient_barcode(tumor_sample_barcode):\n",
    "        return tumor_sample_barcode[0:12]\n",
    "\n",
    "mutations['patient_barcode'] = mutations['tumor_sample_barcode'].apply(parse_patient_barcode)\n",
    "#mutations = mutations.drop(['tumor_sample_barcode'], axis=1)\n",
    "#mutations = mutations.drop(['cancer_type'], axis=1)\n",
    "print(\"Number of unique patients:\", mutations['patient_barcode'].nunique())"
   ]
  },
  {
   "cell_type": "markdown",
   "metadata": {
    "colab_type": "text",
    "id": "JQh6yuqRby5a"
   },
   "source": [
    "## Loading Patient Data##\n",
    "\n",
    "Here we load the clinical data. This is data for patients for whom we collected the gene mutation data above. The patients are identified by $patient\\_barcode$. We will use this field to populate the gene mutation data from the dataframe above in the table we are about to read. The clinical data has patient information such as gender and age at diagnosis."
   ]
  },
  {
   "cell_type": "code",
   "execution_count": null,
   "metadata": {
    "colab": {
     "base_uri": "https://localhost:8080/",
     "height": 466
    },
    "colab_type": "code",
    "id": "eYTG-tYNby5c",
    "outputId": "b6e938af-edaf-474b-ebc9-41c4f245e00d"
   },
   "outputs": [],
   "source": [
    "# Load the clinical data\n",
    "print('Loading clinical dataframe ...')\n",
    "clinical = pd.read_csv(patient_filename, sep='\\t',\n",
    "                        usecols=['bcr_patient_barcode', 'acronym', 'gender', \n",
    "                                 'age_at_initial_pathologic_diagnosis'])\n",
    "\n",
    "# Rename the columns to more consistent names\n",
    "renamed_columns = { 'bcr_patient_barcode': 'patient_barcode', \n",
    "                    'acronym': 'cancer_type' }\n",
    "clinical.rename(renamed_columns, inplace=True, axis=1)\n",
    "\n",
    "print('Clinical count', clinical.patient_barcode.count())\n",
    "\n",
    "# Get cancer types\n",
    "cancer_types = clinical['cancer_type'].unique()\n",
    "print(\"\\nNumber of cancer types\", len(cancer_types))\n",
    "\n",
    "# Get number of cases per cancer type\n",
    "group_by_patient = clinical.groupby(['cancer_type'])['patient_barcode'].nunique()\n",
    "print(\"Number of patients\", group_by_patient.sum())\n",
    "group_by_patient.plot.bar(figsize=(12,4))"
   ]
  },
  {
   "cell_type": "markdown",
   "metadata": {},
   "source": [
    "In the above histogram, we can already see a challenge that we will be faced with in this work. While some cancers such as BRCA (Breast Cancer) have a large number of cases represented in the dataset, other such as Uterine Carcinosarcoma (UCS) have very few cases. We will pay special attention to the robustness of our classifiers in being able to classify the rarer cases with high accuracy as well."
   ]
  },
  {
   "cell_type": "code",
   "execution_count": null,
   "metadata": {
    "colab": {
     "base_uri": "https://localhost:8080/",
     "height": 107
    },
    "colab_type": "code",
    "id": "nBlojNNBKXsU",
    "outputId": "fe530414-bb02-4708-a143-0f479cdf5162"
   },
   "outputs": [],
   "source": [
    "# Show cancer types that would be filtered out if examples < 60\n",
    "display(group_by_patient[group_by_patient <= 60])"
   ]
  },
  {
   "cell_type": "markdown",
   "metadata": {
    "colab_type": "text",
    "id": "qsrJ5cyTby5g"
   },
   "source": [
    "## Creating Merged Data ##\n",
    "\n",
    "Now that we have both gene and cancer data in one dataframe, and the patient clinical data in another dataframe, we will use the **patient_barcode** to merge these into a single table. With this, we can drop the tumor_sample_barcode column, since it has served its purpose. Looking at the data, it seems like some patient data is missing from the gene data. Simultaneously, some data in the gene dataframe does not have corresponding clinical data. Hence our merged dataframe size will be lower than the original mutations dataframe size."
   ]
  },
  {
   "cell_type": "code",
   "execution_count": null,
   "metadata": {
    "colab": {
     "base_uri": "https://localhost:8080/",
     "height": 35
    },
    "colab_type": "code",
    "id": "Cjg0NcQ9by5l",
    "outputId": "b7fa7047-7179-4a9a-dee9-0cf8a4aba93a"
   },
   "outputs": [],
   "source": [
    "clinical['patient_barcode'].isnull().values.any()"
   ]
  },
  {
   "cell_type": "code",
   "execution_count": null,
   "metadata": {
    "colab": {
     "base_uri": "https://localhost:8080/",
     "height": 35
    },
    "colab_type": "code",
    "id": "gbdYkzQDby5o",
    "outputId": "e617a775-8066-42e0-c78b-94affe19206f"
   },
   "outputs": [],
   "source": [
    "gene_barcode_set = set(mutations.patient_barcode.unique())\n",
    "patient_barcode_set = set(clinical.patient_barcode.unique())\n",
    "print(\"%d patients with gene data missing in clinical data\"% len(gene_barcode_set - patient_barcode_set))"
   ]
  },
  {
   "cell_type": "code",
   "execution_count": null,
   "metadata": {
    "colab": {
     "base_uri": "https://localhost:8080/",
     "height": 71
    },
    "colab_type": "code",
    "id": "wACcMmb8by5s",
    "outputId": "abb864f9-b1bf-40f5-f244-b4fdcf897b9a"
   },
   "outputs": [],
   "source": [
    "# perform the merge\n",
    "merged = mutations.merge(clinical, left_on='patient_barcode', right_on='patient_barcode')\n",
    "print('Merged mutations count:   ', merged.patient_barcode.count())\n",
    "print('Number of unique patients:', merged.patient_barcode.nunique())\n",
    "merged.rename({'cancer_type_x': 'cancer_type'}, axis=1, inplace=True)\n",
    "print('Number of cancer types:   ', merged.cancer_type.nunique())"
   ]
  },
  {
   "cell_type": "code",
   "execution_count": null,
   "metadata": {
    "colab": {
     "base_uri": "https://localhost:8080/",
     "height": 89
    },
    "colab_type": "code",
    "id": "68LWlgM1yDoD",
    "outputId": "a2e33aad-a9e3-470e-d0ee-d1c03a35d61c"
   },
   "outputs": [],
   "source": [
    "# store the merged data, and the mutations data into csv format\n",
    "fileName = \"./data/mutations_with_clinical.csv\"\n",
    "print(\"  writing\", fileName, \"...\")\n",
    "merged.to_csv(fileName)\n",
    "print(\"  done.\")\n",
    "\n",
    "fileName = \"./data/mutations.csv\"\n",
    "print(\"  writing\", fileName, \"...\")\n",
    "mutations.to_csv(fileName)\n",
    "print(\"  done.\")"
   ]
  },
  {
   "cell_type": "markdown",
   "metadata": {
    "colab_type": "text",
    "id": "c_5rUleqby5v"
   },
   "source": [
    "## Eliminate any psuedo-genes. \n",
    "\n",
    "This is a common filter in bioinformatics analysis, eliminating pseudo-genes.  These are imperfect copies of functional genes."
   ]
  },
  {
   "cell_type": "code",
   "execution_count": null,
   "metadata": {},
   "outputs": [],
   "source": [
    "psuedo_genes = list(['transcribed_unprocessed_pseudogene',\n",
    "               'polymorphic_pseudogene', \n",
    "               'unprocessed_pseudogene', \n",
    "               'transcribed_processed_pseudogene', 'processed_pseudogene',\n",
    "               'pseudogene', 'unitary_pseudogene'])\n",
    "ps_genes = mutations[mutations.gene_type.isin(psuedo_genes)].gene.unique()"
   ]
  },
  {
   "cell_type": "code",
   "execution_count": null,
   "metadata": {},
   "outputs": [],
   "source": [
    "# show some examples of psedu-genes that are removed\n",
    "ps_genes"
   ]
  },
  {
   "cell_type": "code",
   "execution_count": null,
   "metadata": {
    "colab": {
     "base_uri": "https://localhost:8080/",
     "height": 35
    },
    "colab_type": "code",
    "id": "o6w0mLCnby5y",
    "outputId": "938ec2db-6c7d-42eb-c729-fc886ad3c1eb"
   },
   "outputs": [],
   "source": [
    "# Eliminate psuedo genes\n",
    "before_count               = mutations.gene.nunique()\n",
    "mutations_coding           = mutations[~mutations.gene_type.isin(psuedo_genes)]\n",
    "after_count                = mutations_coding.gene.nunique()\n",
    "print(\"Filtered out \", str(before_count - after_count), \"genes\")\n",
    "mutations                  = mutations_coding"
   ]
  },
  {
   "cell_type": "markdown",
   "metadata": {
    "colab_type": "text",
    "id": "JQbPODWCby53"
   },
   "source": [
    "## Split the data into training and test datasets\n",
    "Split the data into a training and test split.  We will use a split of 80% training, 20% test.  \n",
    "We will split based on the patient_barcode.  As part of feature engineering, we will be \n",
    "aggregating mutations, so that each example will be represented as a patient (tumor), with\n",
    "columns for each gene."
   ]
  },
  {
   "cell_type": "code",
   "execution_count": null,
   "metadata": {
    "colab": {},
    "colab_type": "code",
    "id": "cd-x03T6O_dV"
   },
   "outputs": [],
   "source": [
    "#\n",
    "# Split the patients into training and test\n",
    "#\n",
    "def split_patient_data(data):\n",
    "    patient_data = data.patient_barcode.unique()\n",
    "\n",
    "    le     = preprocessing.LabelEncoder()\n",
    "    patient_labels_string = data.groupby('patient_barcode')['cancer_type'].nunique()\n",
    "    patient_labels = le.fit_transform(patient_labels_string)\n",
    "    \n",
    "    print(\"Number of unique patients:           \", patient_data.shape[0])\n",
    "    print(\"Number of labels for unique patients:\", len(patient_labels))\n",
    "    \n",
    "    train_data, test_data, train_labels, test_labels = train_test_split(\n",
    "                                                               patient_data, patient_labels,\n",
    "                                                               stratify=patient_labels, \n",
    "                                                               test_size=0.20)\n",
    "\n",
    "    print(\"\\ntraining patients:  \", train_data.shape[0])\n",
    "    print(\"test patients:      \", test_data.shape[0])\n",
    "    return {'train_patients': train_data, 'test_patients': test_data}"
   ]
  },
  {
   "cell_type": "code",
   "execution_count": null,
   "metadata": {
    "colab": {
     "base_uri": "https://localhost:8080/",
     "height": 323
    },
    "colab_type": "code",
    "id": "w9LaNpshby56",
    "outputId": "58327975-d443-4a24-b8a5-6ab179e84a24"
   },
   "outputs": [],
   "source": [
    "#\n",
    "#  Split Mutations data (based on patient split) and \n",
    "#  write out data files\n",
    "#\n",
    "def split_and_save_mutation_data(split):   \n",
    "    train_patients = split['train_patients']\n",
    "    test_patients  = split['test_patients']\n",
    "\n",
    "    train_mutations = mutations[mutations.patient_barcode.isin(train_patients)]\n",
    "    test_mutations  = mutations[mutations.patient_barcode.isin(test_patients)]\n",
    "    print(\"\\ntraining data:      \", train_mutations.shape[0])\n",
    "    print(\"test data:          \", test_mutations.shape[0])\n",
    "    print(\"\\nall data:           \", test_mutations.shape[0])\n",
    "    print(\"train + test:       \", test_mutations.shape[0] + test_mutations.shape[0])\n",
    "    \n",
    "    # Write out mutations training data as csv file\n",
    "    print(\"\\nWriting training set ...\")\n",
    "    train_mutations.to_csv(\"./data/somatic_mutations_train.csv\")\n",
    "    print(\"done.\")\n",
    "\n",
    "    # Write out mutations test data as csv file\n",
    "    print(\"\\nWriting test set ...\")\n",
    "    test_mutations.to_csv(\"./data/somatic_mutations_test.csv\")\n",
    "    print(\"done.\")\n",
    "\n",
    "split = split_patient_data(mutations)   \n",
    "split_and_save_mutation_data(split)"
   ]
  },
  {
   "cell_type": "code",
   "execution_count": null,
   "metadata": {},
   "outputs": [],
   "source": []
  }
 ],
 "metadata": {
  "accelerator": "GPU",
  "colab": {
   "collapsed_sections": [],
   "machine_shape": "hm",
   "name": "disera_nair_singh_fraenkel_final_project.ipynb",
   "provenance": [],
   "toc_visible": true,
   "version": "0.3.2"
  },
  "kernelspec": {
   "display_name": "Python 3",
   "language": "python",
   "name": "python3"
  },
  "language_info": {
   "codemirror_mode": {
    "name": "ipython",
    "version": 3
   },
   "file_extension": ".py",
   "mimetype": "text/x-python",
   "name": "python",
   "nbconvert_exporter": "python",
   "pygments_lexer": "ipython3",
   "version": "3.7.3"
  }
 },
 "nbformat": 4,
 "nbformat_minor": 1
}
