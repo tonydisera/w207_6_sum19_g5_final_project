{
 "cells": [
  {
   "cell_type": "markdown",
   "metadata": {
    "colab_type": "text",
    "id": "dRLi1FBsby4R"
   },
   "source": [
    "# W207.6 Final Project - Predicting Cancer Type from Tumor Mutations\n",
    "### Tony Di Sera, Vijay Singh, Rajiv Nair, Jeremey Fraenkel\n"
   ]
  },
  {
   "cell_type": "markdown",
   "metadata": {
    "colab_type": "text",
    "id": "6NrLTq1-bVmt"
   },
   "source": [
    "# Initialization"
   ]
  },
  {
   "cell_type": "code",
   "execution_count": 1,
   "metadata": {
    "colab": {},
    "colab_type": "code",
    "id": "u1NF-T6Jby4U"
   },
   "outputs": [],
   "source": [
    "import pandas as pd\n",
    "import urllib.request\n",
    "import numpy as np\n",
    "import glob\n",
    "import os\n",
    "import warnings\n",
    "from textwrap import wrap\n",
    "import matplotlib.pyplot as plt\n",
    "from IPython.display import display\n",
    "import time\n",
    "from IPython.core.interactiveshell import InteractiveShell\n",
    "InteractiveShell.ast_node_interactivity = \"all\"\n",
    "\n",
    "from sklearn import preprocessing\n",
    "from sklearn.feature_selection import SelectKBest\n",
    "from sklearn.feature_selection import chi2\n",
    "from sklearn.feature_selection import RFE\n",
    "from sklearn import preprocessing\n",
    "from sklearn import metrics\n",
    "from sklearn.metrics import precision_recall_fscore_support\n",
    "from sklearn.metrics import accuracy_score\n",
    "from sklearn.metrics import confusion_matrix\n",
    "from sklearn.metrics import classification_report\n",
    "from sklearn.model_selection import train_test_split\n",
    "from sklearn.decomposition import PCA\n",
    "from sklearn.model_selection import StratifiedKFold\n",
    "from sklearn.naive_bayes import MultinomialNB\n",
    "from sklearn.neighbors import KNeighborsClassifier\n",
    "from sklearn.linear_model import LogisticRegression\n",
    "from sklearn.tree import DecisionTreeClassifier\n",
    "from sklearn.ensemble import RandomForestClassifier\n",
    "from sklearn.model_selection import GridSearchCV\n",
    "from sklearn.svm import LinearSVC\n",
    "from sklearn.svm import SVC\n",
    "#import tensorflow as tf\n",
    "#import tensorflow.keras as K\n",
    "#from tensorflow.keras.layers import Dense as Dense\n",
    "#from tensorflow.keras.utils import to_categorical\n",
    "#from tensorflow.keras import regularizers\n",
    "#from tensorflow.keras.layers import Dropout\n",
    "#from tensorflow.keras.callbacks import Callback\n",
    "\n",
    "\n",
    "plt.rcParams.update({'figure.max_open_warning': 0})\n",
    "\n",
    "# Establish the colors for each cancer type\n",
    "label_colors = []\n",
    "cm = plt.get_cmap('tab20b')\n",
    "for i in range(20):\n",
    "    label_colors.append(cm(i))\n",
    "cm = plt.get_cmap('tab20c')\n",
    "for i in range(13):\n",
    "    label_colors.append(cm(i))"
   ]
  },
  {
   "cell_type": "code",
   "execution_count": 2,
   "metadata": {
    "colab": {
     "base_uri": "https://localhost:8080/",
     "height": 55
    },
    "colab_type": "code",
    "id": "NVVoSJj8by4i",
    "outputId": "78557bfc-1622-4c33-96e3-36e17e0d1a0e"
   },
   "outputs": [],
   "source": [
    "#from google.colab import drive\n",
    "#drive.mount('/content/drive/')\n"
   ]
  },
  {
   "cell_type": "code",
   "execution_count": 3,
   "metadata": {
    "colab": {
     "base_uri": "https://localhost:8080/",
     "height": 35
    },
    "colab_type": "code",
    "id": "BLpMLAMqby4l",
    "outputId": "56444f10-50f0-4c22-dbfc-252569929c4e"
   },
   "outputs": [],
   "source": [
    "#cd /content/drive/My Drive/berkeley/W207 machine learning/Final Project/w207_6_sum19_g5_final_project"
   ]
  },
  {
   "cell_type": "code",
   "execution_count": 4,
   "metadata": {
    "colab": {
     "base_uri": "https://localhost:8080/",
     "height": 35
    },
    "colab_type": "code",
    "id": "cruqTsRrby4e",
    "outputId": "85cfe90d-4189-4801-d5df-84b5ccbc85c2"
   },
   "outputs": [],
   "source": [
    "#if tf.test.gpu_device_name() != '/device:GPU:0':\n",
    "#  print('WARNING: GPU device not found.')\n",
    "#else:\n",
    "#  print('SUCCESS: Found GPU: {}'.format(tf.test.gpu_device_name()))"
   ]
  },
  {
   "cell_type": "code",
   "execution_count": 5,
   "metadata": {
    "colab": {},
    "colab_type": "code",
    "id": "O-7lMnfrby4y"
   },
   "outputs": [],
   "source": [
    "# create the directory where the downloaded directory is stored\n",
    "data_dir = \"./data\"\n",
    "if not os.path.isdir(data_dir):\n",
    "    os.makedirs(data_dir)\n",
    "    \n",
    "# create the directory where the metrics are stored\n",
    "metrics_dir = \"./metrics\"\n",
    "if not os.path.isdir(metrics_dir):\n",
    "    os.makedirs(metrics_dir)\n",
    "    \n",
    "# create the raw where the source data is stored\n",
    "raw_dir = \"./raw\"\n",
    "if not os.path.isdir(raw_dir):\n",
    "    os.makedirs(raw_dir)    "
   ]
  },
  {
   "cell_type": "code",
   "execution_count": 6,
   "metadata": {
    "colab": {},
    "colab_type": "code",
    "id": "OUYcwsHcIelo"
   },
   "outputs": [
    {
     "name": "stdout",
     "output_type": "stream",
     "text": [
      "Skipping download, as file ./raw/tcga_dictionaries.txt is present\n",
      "done.\n"
     ]
    }
   ],
   "source": [
    "# This downloads a dictionary file\n",
    "dictionary_filename = \"./raw/tcga_dictionaries.txt\"\n",
    "if os.path.isfile(dictionary_filename):\n",
    "    print(\"Skipping download, as file %s is present\" %(dictionary_filename))\n",
    "else:\n",
    "    print('Downloading dictionary file...')\n",
    "    url = 'https://w207-final-project.s3.amazonaws.com/raw/tcga_dictionaries.txt'  \n",
    "    urllib.request.urlretrieve(url, dictionary_filename)  \n",
    "print(\"done.\")\n",
    "\n",
    "\n",
    "# This loads the data dictionary to will convert\n",
    "# the tumor_sample_barcode into a cancer_type\n",
    "# and provide full names for the cancer types\n",
    "tcga_dict = open(\"./raw/tcga_dictionaries.txt\",\"r\")\n",
    "dict_name_index = 0 #Set dictionary index counter to 0\n",
    "for line in tcga_dict:\n",
    "    if line.startswith(\"#\"): #If line starts with #, the next line will be a known dictionary\n",
    "        dict_name_index += 1\n",
    "    elif dict_name_index == 4:\n",
    "        tissue_source_site = eval(line)            \n",
    "    elif dict_name_index == 5:\n",
    "        code_to_disease = eval(line)\n",
    "    elif dict_name_index == 6:\n",
    "        disease_to_code = eval(line)"
   ]
  },
  {
   "cell_type": "markdown",
   "metadata": {
    "colab_type": "text",
    "id": "3mPJcoSFby5-"
   },
   "source": [
    "# EDA and Feature Selection\n",
    "\n"
   ]
  },
  {
   "cell_type": "markdown",
   "metadata": {
    "colab_type": "text",
    "id": "_BIML2_wby6G"
   },
   "source": [
    "Here, we open the data we put together in the previous notebook. For the initial analysis, we look at $cancer\\_type$, $patient\\_barcode$, $gene$ and $gene\\_type$."
   ]
  },
  {
   "cell_type": "markdown",
   "metadata": {
    "colab_type": "text",
    "id": "ZPZLk5W3MZXp"
   },
   "source": [
    "### Load the mutations train and test datasets."
   ]
  },
  {
   "cell_type": "code",
   "execution_count": 7,
   "metadata": {
    "colab": {
     "base_uri": "https://localhost:8080/",
     "height": 89
    },
    "colab_type": "code",
    "id": "QzRDob5dby6I",
    "outputId": "c048774a-c487-435c-decc-37ccd9ea40b6"
   },
   "outputs": [
    {
     "name": "stdout",
     "output_type": "stream",
     "text": [
      "Loading data ...\n",
      "done.\n",
      "Mutations training data count: 2820587\n",
      "Mutations test data count:     773193\n"
     ]
    }
   ],
   "source": [
    "print('Loading data ...')\n",
    "mutations = {}\n",
    "mutations['train'] = pd.read_csv(\"./data/somatic_mutations_train.csv\", \n",
    "                             usecols=['cancer_type', 'patient_barcode', 'gene', 'gene_type'])\n",
    "mutations['test']  = pd.read_csv(\"./data/somatic_mutations_test.csv\", \n",
    "                             usecols=['cancer_type', 'patient_barcode', 'gene', 'gene_type'])\n",
    "print(\"done.\")\n",
    "print(\"Mutations training data count:\", mutations['train']['patient_barcode'].count())\n",
    "print(\"Mutations test data count:    \", mutations['test']['patient_barcode'].count())"
   ]
  },
  {
   "cell_type": "markdown",
   "metadata": {
    "colab_type": "text",
    "id": "s46QHIn-by6O"
   },
   "source": [
    "### Show distribution of genes across patient tumors"
   ]
  },
  {
   "cell_type": "code",
   "execution_count": 8,
   "metadata": {
    "colab": {
     "base_uri": "https://localhost:8080/",
     "height": 1000
    },
    "colab_type": "code",
    "id": "s6V9M_2xby6P",
    "outputId": "06fdce1a-7dc9-4e21-8715-3ca5a190db53"
   },
   "outputs": [
    {
     "name": "stdout",
     "output_type": "stream",
     "text": [
      "Number of genes across all patient tumors: 21145\n",
      "\n",
      "\n",
      "\n"
     ]
    },
    {
     "data": {
      "image/png": "[encoded data removed]",
      "text/plain": [
       "<Figure size 864x288 with 1 Axes>"
      ]
     },
     "metadata": {
      "needs_background": "light"
     },
     "output_type": "display_data"
    },
    {
     "name": "stdout",
     "output_type": "stream",
     "text": [
      "Number of genes per patient tumor\n",
      "  min, max: 1 , 13921\n",
      "  mean    : 273\n",
      "  median  : 90\n",
      "\n",
      "\n"
     ]
    },
    {
     "data": {
      "image/png": "[encoded data removed]",
      "text/plain": [
       "<Figure size 864x288 with 1 Axes>"
      ]
     },
     "metadata": {
      "needs_background": "light"
     },
     "output_type": "display_data"
    },
    {
     "name": "stdout",
     "output_type": "stream",
     "text": [
      "Number of patient tumors with same mutated gene\n",
      "  min, max: 1 , 3160\n",
      "  mean    : 105\n",
      "  median  : 84\n",
      "\n",
      "\n"
     ]
    },
    {
     "data": {
      "image/png": "[encoded data removed]",
      "text/plain": [
       "<Figure size 864x288 with 1 Axes>"
      ]
     },
     "metadata": {
      "needs_background": "light"
     },
     "output_type": "display_data"
    },
    {
     "name": "stdout",
     "output_type": "stream",
     "text": [
      "\n",
      "Number of cancer types with same mutated gene\n",
      "  min, max:  1 , 33\n",
      "  mean    : 17\n",
      "  median  : 19\n"
     ]
    }
   ],
   "source": [
    "print(\"Number of genes across all patient tumors:\", mutations['train'].gene.nunique())\n",
    "print(\"\\n\\n\")\n",
    "\n",
    "#\n",
    "# Show how many genes are mutation in a patient tumor\n",
    "#\n",
    "group1         = mutations['train'].groupby(['patient_barcode'])['gene'].nunique().reset_index(name='count')\n",
    "group1.columns = ['patient', 'gene_count']\n",
    "ax = group1['gene_count'].hist(bins=200, figsize=(12,4))\n",
    "_ = ax.set_xlabel(\"Number of Genes\")\n",
    "_ = ax.set_ylabel(\"Patient Tumor Frequency\")\n",
    "_ = ax.set_title(\"Distribution of Genes for a Patient Tumor\", fontsize=20)\n",
    "plt.show()\n",
    "print('Number of genes per patient tumor')\n",
    "print(\"  min, max:\", int(group1['gene_count'].min()), ',', int(group1['gene_count'].max()))\n",
    "print(\"  mean    :\", int(group1['gene_count'].mean()))\n",
    "print(\"  median  :\", int(group1['gene_count'].median()))\n",
    "print(\"\\n\")\n",
    "\n",
    "#\n",
    "# Show now many tumors contain the same gene\n",
    "#\n",
    "group2         = mutations['train'].groupby(['gene'])['patient_barcode'].nunique().reset_index(name='count')\n",
    "group2.columns = ['gene', 'patient_count']\n",
    "ax = group2['patient_count'].hist(bins=50, figsize=(12,4))\n",
    "_ = ax.set_xlabel(\"Number of Patient Tumors\")\n",
    "_ = ax.set_ylabel(\"Gene Frequency\")\n",
    "_ = ax.set_title(\"Distribution of Patients for a Gene\", fontsize=20)\n",
    "plt.show()\n",
    "print('Number of patient tumors with same mutated gene')\n",
    "print(\"  min, max:\", int(group2['patient_count'].min()), ',', int(group2['patient_count'].max()))\n",
    "print(\"  mean    :\", int(group2['patient_count'].mean()))\n",
    "print(\"  median  :\", int(group2['patient_count'].median()))\n",
    "print(\"\\n\")\n",
    "\n",
    "\n",
    "#\n",
    "# Show now many cancer types contain the same gene\n",
    "#\n",
    "gene_cc_count         = mutations['train'].groupby(['gene'])['cancer_type'].nunique().reset_index(name='count')\n",
    "gene_cc_count.columns = ['gene', 'cancer_type_count']\n",
    "gene_cc_count         = gene_cc_count.sort_values(['cancer_type_count', 'gene'], ascending=[0,1])\n",
    "ax = gene_cc_count['cancer_type_count'].hist(bins=40, figsize=(12,4))\n",
    "_ = ax.set_xlabel(\"Number of Cancer Types\")\n",
    "_ = ax.set_ylabel(\"Gene Frequency\")\n",
    "_ = ax.set_title(\"Genes in common across many cancer types\", fontsize=20)\n",
    "plt.show()\n",
    "print('\\nNumber of cancer types with same mutated gene')\n",
    "print(\"  min, max: \", int(gene_cc_count['cancer_type_count'].min()), ',', int(gene_cc_count['cancer_type_count'].max()))\n",
    "print(\"  mean    :\", int(gene_cc_count['cancer_type_count'].mean()))\n",
    "print(\"  median  :\", int(gene_cc_count['cancer_type_count'].median()))"
   ]
  },
  {
   "cell_type": "markdown",
   "metadata": {
    "colab_type": "text",
    "id": "F792XmEdby6S"
   },
   "source": [
    "From the histogram above, it is clear that even through we have a large number of genes, only a small number of them are turned on in the patient tumor data that we have. This is the classic problem of a large feature space with a much smaller number of samples. Hence we will need to perform a dimensionality reduction technique such as PCA here."
   ]
  },
  {
   "cell_type": "code",
   "execution_count": 9,
   "metadata": {
    "colab": {
     "base_uri": "https://localhost:8080/",
     "height": 410
    },
    "colab_type": "code",
    "id": "oAGvg71Mby6T",
    "outputId": "d75db9fe-c877-47e2-bacc-7849cb461c32"
   },
   "outputs": [
    {
     "name": "stdout",
     "output_type": "stream",
     "text": [
      "\n",
      "Number of cancer types: 33\n",
      "Number of patients    : 8179\n",
      "\n",
      "\n"
     ]
    },
    {
     "data": {
      "image/png": "[encoded data removed]",
      "text/plain": [
       "<Figure size 864x288 with 1 Axes>"
      ]
     },
     "metadata": {
      "needs_background": "light"
     },
     "output_type": "display_data"
    }
   ],
   "source": [
    "# Print out the number of cancer types that are present in the \n",
    "# mutations dataset\n",
    "cancer_types = mutations['train'].cancer_type.unique()\n",
    "print(\"\\nNumber of cancer types:\", len(cancer_types))\n",
    "\n",
    "# Get number of cases per cancer type\n",
    "group_patients_by_cancer = mutations['train'].groupby(['cancer_type'])['patient_barcode'].nunique()\n",
    "print(\"Number of patients    :\", group_patients_by_cancer.sum())\n",
    "print(\"\\n\")\n",
    "ax = group_patients_by_cancer.plot.bar(figsize=(12,4))\n",
    "_ = ax.set_title(\"Number of patient tumors for each cancer type\", fontsize=20)"
   ]
  },
  {
   "cell_type": "markdown",
   "metadata": {
    "colab_type": "text",
    "id": "MVQDdYSEby6Y"
   },
   "source": [
    "The above chart shows that there are some cancers, such as BRCA and LUAD that have a large representation in our dataset, but other such as DBLC and UCS that are present in much smaller numbers. This will present a challenge for our classifier. Specifically, we want our classifier to be able to classify each of the 32 types of cancers with high precision, but the model should also be able to identify the cancers that don't have a proportionate representation in our data set. It could be that these are cancers are rare, or perhaps they are simply rare in our dataset. **Note:** add more details about the cancers that are abundant as well as rare in this dataset."
   ]
  },
  {
   "cell_type": "code",
   "execution_count": 10,
   "metadata": {
    "colab": {
     "base_uri": "https://localhost:8080/",
     "height": 428
    },
    "colab_type": "code",
    "id": "5ZdmTtEcby6a",
    "outputId": "94886669-b771-4012-9dda-78c0f6b29c36"
   },
   "outputs": [
    {
     "name": "stdout",
     "output_type": "stream",
     "text": [
      "Number of genes in each cancer type\n",
      "  min, max: 1427 , 20797\n",
      "  mean    : 11363\n",
      "  median  : 12521\n",
      "\n",
      "\n"
     ]
    },
    {
     "data": {
      "image/png": "[encoded data removed]",
      "text/plain": [
       "<Figure size 864x288 with 1 Axes>"
      ]
     },
     "metadata": {
      "needs_background": "light"
     },
     "output_type": "display_data"
    }
   ],
   "source": [
    "# Get the unique genes per cancer type\n",
    "group_genes_by_cancer = mutations['train'].groupby(['cancer_type'])['gene'].nunique();\n",
    "\n",
    "print(\"Number of genes in each cancer type\")\n",
    "print(\"  min, max:\", int(np.round(group_genes_by_cancer.min())), ',', int(np.round(group_genes_by_cancer.max())))\n",
    "print(\"  mean    :\", int(np.round(group_genes_by_cancer.mean())))\n",
    "print(\"  median  :\", int(np.round(group_genes_by_cancer.median())))\n",
    "print(\"\\n\")\n",
    "\n",
    "\n",
    "ax = group_genes_by_cancer.plot.bar(figsize=(12,4))\n",
    "_ = ax.set_title(\"Number of genes for each cancer type\", fontsize=20)"
   ]
  },
  {
   "cell_type": "markdown",
   "metadata": {
    "colab_type": "text",
    "id": "2IXUjEdQby6d"
   },
   "source": [
    "The above bar chart gives us an idea of how many genes (features for us) are _on_ for each of the cancer types. Cross referencing this chart with the previous one, we see that for some cancers such as DLBC and UCS we have a fair number of active features, even though the number of cases of such cancers are low. We should be able to person isolated (one-vs-rest) analysis for these cases. However, for other cancers, such as KICH (Kidney Chromophobe) and UVM (Uveal Melanoma) we have both a low occurance rate, and a low number of active features. This second category of cancers will need to be handled with care."
   ]
  },
  {
   "cell_type": "markdown",
   "metadata": {
    "colab_type": "text",
    "id": "9jFCSDGTby65"
   },
   "source": [
    "## Create different feature sets"
   ]
  },
  {
   "cell_type": "markdown",
   "metadata": {},
   "source": [
    "From an initial analysis of our data, we can see that we have a large number of features (binary encoded gene mutations), and the number of features is greater than the number of samples that we have. Even before we try any dimentionality reduction technique such as PCA, we can use other tools to reduce the number of features. One such method is the scikit utility **SelectKBest**. This utility routine can apply the **Chi-Square** test to select the specified number of best features. Another method is to use a LogisticRegression Classifier with L1 regularization and an appropriate C value. This will drive down the coefficients of non-important features to 0, which can then be removed. We try multiple such methods below."
   ]
  },
  {
   "cell_type": "code",
   "execution_count": 11,
   "metadata": {
    "colab": {},
    "colab_type": "code",
    "id": "34Y8A5wuby6e"
   },
   "outputs": [],
   "source": [
    "#\n",
    "# Create feature matrix each row is a patient tumor; each column is a gene\n",
    "#\n",
    "def create_patient_x_gene_matrix(mutations, feature_genes, description, save=True):\n",
    "    cases = list()\n",
    "    grouped = mutations.groupby('patient_barcode')\n",
    "    i = int(0)\n",
    "\n",
    "    cols = ['case_id', 'cancer_type']\n",
    "    for gene in feature_genes:\n",
    "        cols.append(gene)\n",
    "\n",
    "    for name, group in grouped:\n",
    "        case = list()\n",
    "        case.append(name)\n",
    "        for cc in group.cancer_type.head(1):\n",
    "            case.append(cc)\n",
    "\n",
    "        for gene_flag in feature_genes.isin(group.gene.unique()):\n",
    "            switch = 0\n",
    "            if gene_flag == True:\n",
    "                switch = 1\n",
    "            case.append(switch)\n",
    "        cases.append(case)\n",
    "\n",
    "    cases_df = pd.DataFrame(cases)\n",
    "    cases_df.columns = cols\n",
    "    print(\"  \", cases_df.shape)\n",
    "    \n",
    "    # Write out transformed data to csv\n",
    "    if save:\n",
    "        fileName = \"./data/\" + description + \".csv\"\n",
    "        print(\"  writing\", fileName, \"...\")\n",
    "        cases_df.to_csv(fileName)\n",
    "        print(\"  done.\")\n",
    "    \n",
    "    return cases_df\n",
    "\n",
    "#\n",
    "# Create a feature matrix based on most frequent genes in each cancer type\n",
    "#\n",
    "def create_feature_matrix(mutations_train, mutations_test, top_n_gene_count, save, description):\n",
    "    print(\"Formatting gene matrix with top \", top_n_gene_count, \"genes from each cancer type\")\n",
    "    \n",
    "    # Now try to find the most common genes per cancer type and\n",
    "    # merge these together to come up with a master list\n",
    "    cancer_gene_count = mutations_train.groupby(['cancer_type', 'gene'])['patient_barcode'].nunique().reset_index(name='count')\n",
    "    cancer_gene_count.columns = ['cancer_type', 'gene', 'patient_count']\n",
    "\n",
    "    # Now create a large matrix, row is the gene, column for each cancer type\n",
    "    df = pd.DataFrame(cancer_gene_count, columns=['cancer_type', 'gene', 'patient_count'])\n",
    "    gene_cancer_matrix = pd.pivot_table(df, values='patient_count', index=['gene'],\n",
    "                         columns=['cancer_type'], aggfunc=np.sum, fill_value=0)\n",
    "\n",
    "    # Now find the top n genes for each cancer type\n",
    "    top_genes = []\n",
    "    idx = 0\n",
    "\n",
    "    plt.rcParams[\"figure.figsize\"] = (20,20)\n",
    "    for cancer_type in gene_cancer_matrix.columns:\n",
    "        sorted_genes = gene_cancer_matrix[cancer_type].sort_values(ascending=False)\n",
    "        top_rows = sorted_genes[sorted_genes > 0].head(top_n_gene_count)\n",
    "        for gene, patient_count in top_rows.items():\n",
    "            top_genes.append(list([cancer_type, gene, patient_count]))\n",
    "\n",
    "    # Turn this back into a matrix, row is gene, column for each cancer type\n",
    "    top_df = pd.DataFrame(top_genes, columns=['cancer_type', 'gene', 'patient_count'])\n",
    "    top_gene_cancer_matrix = pd.pivot_table(top_df, values='patient_count', index=['gene'],\n",
    "                         columns=['cancer_type'], aggfunc=np.sum, fill_value=0)\n",
    "    print(\"  number of genes:\", top_gene_cancer_matrix.shape[0])\n",
    "   \n",
    "    feature_genes = top_gene_cancer_matrix.index\n",
    "    create_patient_x_gene_matrix(mutations_train, feature_genes, description + \".train\", save)\n",
    "    create_patient_x_gene_matrix(mutations_test,  feature_genes, description + \".test\", save)\n",
    "    \n",
    "#\n",
    "# Create a feature matrix for all genes in tumor mutations\n",
    "#\n",
    "def create_all_feature_matrix(mutations_train, mutations_test, save, description):\n",
    "    print(\"Formatting gene matrix with for all features\")\n",
    "    #\n",
    "    # Create feature matrix, each row is patient, columns are genes\n",
    "    #\n",
    "    feature_genes = pd.Series(mutations_train.gene.unique())\n",
    "    feature_matrix_train = create_patient_x_gene_matrix(mutations_train, feature_genes, description + \".train\", save)\n",
    "    feature_matrix_test  = create_patient_x_gene_matrix(mutations_test,  feature_genes, description + \".test\", save)\n",
    "    return feature_matrix_train, feature_matrix_test\n",
    "  \n",
    "#\n",
    "# Run KBestFit to determine most discriminatory genes\n",
    "#\n",
    "def get_best_fit_features(feature_matrix, n_features):\n",
    "    #apply SelectKBest class to extract top n best features\n",
    "    bestfeatures = SelectKBest(score_func=chi2, k=n_features)\n",
    "    \n",
    "    data = feature_matrix.loc[:, (feature_matrix.columns != 'cancer_type') & (feature_matrix.columns != 'case_id')]\n",
    "    labels_string = feature_matrix['cancer_type']\n",
    "    \n",
    "    le = preprocessing.LabelEncoder()\n",
    "    labels = le.fit_transform(labels_string)\n",
    "    \n",
    "    fit = bestfeatures.fit(data,labels)\n",
    "    dfscores = pd.DataFrame(fit.scores_)\n",
    "    dfcolumns = pd.DataFrame(data.columns)\n",
    "    \n",
    "    #concat two dataframes for better visualization \n",
    "    scores_df = pd.concat([dfcolumns,dfscores], axis=1)\n",
    "    scores_df.columns = ['gene', 'score']\n",
    "    sorted_scores = scores_df.sort_values(by=['score', 'gene'], ascending=[0,1])\n",
    "    return sorted_scores.gene.values\n",
    " \n",
    "#\n",
    "# Create a feature matrix based on genes ranked highest using KBestFit\n",
    "#\n",
    "def create_best_fit_feature_matrix(feature_matrix_train, feature_matrix_test,  \n",
    "                               save, description):\n",
    "    #\n",
    "    #  Try BestFit (chi squared test) to find most\n",
    "    #  important genes\n",
    "    #\n",
    "    k_best_fits = [100, 800, 4000, 8000]\n",
    "    print(\"Running KBestFit\")\n",
    "    best_genes_ranked  = get_best_fit_features(feature_matrix_train, 8000)\n",
    "    \n",
    "    print(\"  done.\")\n",
    "\n",
    "    for k_best in k_best_fits:\n",
    "        print(\"Creating gene matrix with best fit for\", k_best, \"features\")\n",
    "        best_genes = best_genes_ranked[:k_best]\n",
    "        print(len(best_genes))\n",
    "      \n",
    "        cancer_type = feature_matrix_train['cancer_type']\n",
    "        case_id     = feature_matrix_train['case_id']\n",
    "        data_train  = feature_matrix_train.loc[:, feature_matrix_train.columns.isin(best_genes)]\n",
    "        final_feature_matrix_train = pd.concat([case_id, cancer_type, data_train], axis=1)\n",
    "\n",
    "        cancer_type = feature_matrix_test['cancer_type']\n",
    "        case_id     = feature_matrix_test['case_id']\n",
    "        data_test   = feature_matrix_test.loc[:, feature_matrix_test.columns.isin(best_genes)]\n",
    "        final_feature_matrix_test = pd.concat([case_id, cancer_type, data_test], axis=1)\n",
    "\n",
    "        if save:\n",
    "            fileName = \"./data/\" + description  + \"_\" + str(k_best) + \".train.csv\"\n",
    "            print(\"  writing\", fileName, \"...\")\n",
    "            print(\" \", final_feature_matrix_train.shape)\n",
    "            final_feature_matrix_train.to_csv(fileName)\n",
    "            print(\"  done.\")        \n",
    "\n",
    "            fileName = \"./data/\" + description  + \"_\" + str(k_best) + \".test.csv\"\n",
    "            print(\"  writing\", fileName, \"...\")\n",
    "            print(\" \", final_feature_matrix_test.shape)\n",
    "            final_feature_matrix_test.to_csv(fileName)\n",
    "            print(\"  done.\") \n",
    "\n",
    "#\n",
    "# Create a different feature matrix based on changing L1 regularization strength\n",
    "#\n",
    "def create_l1_feature_matrix(train_features, test_features, label_encoder, description, save):\n",
    "    \n",
    "    train_first_cols    = train_features[train_features.columns[:2]]\n",
    "    train_data          = train_features[train_features.columns[3:]]\n",
    "    train_labels        = label_encoder.fit_transform(train_features.cancer_type)\n",
    "\n",
    "    test_first_cols    = test_features[test_features.columns[:2]]\n",
    "    test_data          = test_features[test_features.columns[3:]]\n",
    "    test_labels        = label_encoder.fit_transform(test_features.cancer_type)\n",
    "\n",
    "    params = {'C':  [100, 10, 1, .5, .25, .1, .05, .025 ]}\n",
    "    \n",
    "    for c_param in reversed(params['C']):\n",
    "        # Keep this random seed here to make comparison easier.\n",
    "        np.random.seed(0)\n",
    "\n",
    "        #\n",
    "        # Perform Logistic Regression on different C values\n",
    "        # using L1 regularization\n",
    "        #\n",
    "        l1 = LogisticRegression(penalty='l1', tol=.01, \n",
    "                            solver=\"liblinear\", multi_class=\"ovr\",\n",
    "                            max_iter=500, C=c_param)\n",
    "        # Fit model\n",
    "        l1.fit(train_data, train_labels) \n",
    "\n",
    "\n",
    "        # Get the features with non-zero coefficients.  We will use\n",
    "        # this list to reduce the features \n",
    "        non_zero_sums = np.where(np.sum(l1.coef_, axis=0) != 0)\n",
    "        names = np.array(list(train_data.columns))\n",
    "        non_zero_genes = names[non_zero_sums] \n",
    "\n",
    "\n",
    "        #\n",
    "        # Reduce feature size, only keeping features with non-zero weights \n",
    "        # found using l1 regularization\n",
    "        #\n",
    "        trimmed_train_data = train_data[non_zero_genes]\n",
    "        trimmed_test_data  = test_data[non_zero_genes]\n",
    "        \n",
    "        final_features_train = pd.concat([train_first_cols, trimmed_train_data], axis=1)\n",
    "        final_features_test =  pd.concat([test_first_cols, trimmed_test_data], axis=1)\n",
    "        \n",
    "        if save:\n",
    "            fileName = \"./data/\" + description + \"_c\" + str(c_param) + \".train.csv\"\n",
    "            print(\"  writing\", fileName, \"...\")\n",
    "            print(\" \", final_features_train.shape)\n",
    "            final_features_train.to_csv(fileName)\n",
    "            print(\"  done.\")        \n",
    "\n",
    "            fileName = \"./data/\" + description + \"_c\" + str(c_param) + \".test.csv\"\n",
    "            print(\"  writing\", fileName, \"...\")\n",
    "            print(\" \", final_features_test.shape)\n",
    "            final_features_test.to_csv(fileName)\n",
    "            print(\"  done.\")        \n",
    "            \n",
    "#\n",
    "# Create a feature matrix using recursive feature elimination\n",
    "#\n",
    "def create_rfe_feature_matrix(train_features, test_features, label_encoder, \n",
    "                              classifier, n_features, n_step,\n",
    "                              description, save):\n",
    "\n",
    "    \n",
    "    train_first_cols    = train_features[train_features.columns[:2]]\n",
    "    train_data          = train_features[train_features.columns[3:]]\n",
    "    train_labels        = label_encoder.fit_transform(train_features.cancer_type)\n",
    "\n",
    "    test_first_cols    = test_features[test_features.columns[:2]]\n",
    "    test_data          = test_features[test_features.columns[3:]]\n",
    "    test_labels        = label_encoder.fit_transform(test_features.cancer_type)\n",
    "    \n",
    "\n",
    "    rfe = RFE(estimator=classifier, n_features_to_select=n_features, step=n_step, verbose=3)\n",
    "    rfe.fit(train_data, train_labels)\n",
    "    \n",
    "    trimmed_train_data = train_data[train_data.columns[rfe.support_]]\n",
    "    trimmed_test_data  = test_data[test_data.columns[rfe.support_]]\n",
    "    \n",
    "    final_features_train = pd.concat([train_first_cols, trimmed_train_data], axis=1)\n",
    "    final_features_test =  pd.concat([test_first_cols, trimmed_test_data], axis=1)\n",
    "    \n",
    "\n",
    "    if save:\n",
    "        fileName = \"./data/\" + description +  \".train.csv\"\n",
    "        print(\"  writing\", fileName, \"...\")\n",
    "        print(\" \", final_features_train.shape)\n",
    "        final_features_train.to_csv(fileName)\n",
    "        print(\"  done.\")        \n",
    "\n",
    "        fileName = \"./data/\"+ description + \".test.csv\"\n",
    "        print(\"  writing\", fileName, \"...\")\n",
    "        print(\" \", final_features_test.shape)\n",
    "        final_features_test.to_csv(fileName)\n",
    "        print(\"  done.\")        \n",
    "    \n",
    "    return final_features_train, final_features_test"
   ]
  },
  {
   "cell_type": "markdown",
   "metadata": {
    "colab_type": "text",
    "id": "6eBT5ZZ1by7K"
   },
   "source": [
    "### All genes\n",
    "\n",
    "Create a feature matrix,  Feature matrix will have one row per patient tumor, \n",
    "column for every gene encountered in training data set."
   ]
  },
  {
   "cell_type": "code",
   "execution_count": 12,
   "metadata": {
    "colab": {
     "base_uri": "https://localhost:8080/",
     "height": 143
    },
    "colab_type": "code",
    "id": "ZNTgFiHnby7O",
    "outputId": "cc4c915f-9549-4e8d-cd97-502973cf70aa"
   },
   "outputs": [
    {
     "name": "stdout",
     "output_type": "stream",
     "text": [
      "Formatting gene matrix with for all features\n",
      "   (8179, 21147)\n",
      "  writing ./data/features_all.train.csv ...\n",
      "  done.\n",
      "   (2045, 21147)\n",
      "  writing ./data/features_all.test.csv ...\n",
      "  done.\n"
     ]
    }
   ],
   "source": [
    "all_train_file = './data/features_all.train.csv'\n",
    "all_test_file = './data/features_all.test.csv'\n",
    "if os.path.isfile(all_train_file) and os.path.isfile(all_test_file):\n",
    "    print(\"Skipping generation, files %s and %s are present.\" %(all_train_file, all_test_file))\n",
    "else:\n",
    "    feature_matrix_train, feature_matrix_test = create_all_feature_matrix(mutations['train'], \n",
    "                                                    mutations['test'], True, 'features_all')"
   ]
  },
  {
   "cell_type": "markdown",
   "metadata": {
    "colab_type": "text",
    "id": "4WySygLLby65"
   },
   "source": [
    "### Top n genes most frequent in each cancer type\n",
    "\n",
    "Create a feature matrix, getting the top n genes that are most frequent\n",
    "per label (cancer type).  Merge these genes and create a feature matrix,\n",
    "one row per patient tumor, column for each merged gene"
   ]
  },
  {
   "cell_type": "code",
   "execution_count": 13,
   "metadata": {
    "colab": {
     "base_uri": "https://localhost:8080/",
     "height": 179
    },
    "colab_type": "code",
    "id": "24tjauFJby66",
    "outputId": "61a005db-e034-4202-d87a-a38c49f5c6ad"
   },
   "outputs": [
    {
     "name": "stdout",
     "output_type": "stream",
     "text": [
      "Formatting gene matrix with top  100 genes from each cancer type\n",
      "  number of genes: 1202\n",
      "   (8179, 1204)\n",
      "  writing ./data/features_top_100_genes.train.csv ...\n",
      "  done.\n",
      "   (2045, 1204)\n",
      "  writing ./data/features_top_100_genes.test.csv ...\n",
      "  done.\n"
     ]
    }
   ],
   "source": [
    "features_top_100_genes_train_file = './data/features_top_100_genes.train.csv'\n",
    "features_top_100_genes_test_file = './data/features_top_100_genes.test.csv'\n",
    "if os.path.isfile(features_top_100_genes_train_file) and os.path.isfile(features_top_100_genes_test_file):\n",
    "    print(\"Skipping generation, files %s and %s are present.\" %(features_top_100_genes_train_file, features_top_100_genes_test_file))\n",
    "else:\n",
    "    create_feature_matrix(mutations['train'], mutations['test'], 100, True, 'features_top_100_genes')"
   ]
  },
  {
   "cell_type": "markdown",
   "metadata": {
    "colab_type": "text",
    "id": "bILSAw6aby68"
   },
   "source": [
    "### KBestFit \n",
    "\n",
    "Create a feature matrix, using sklearn BestFit to find top 100, 700, 1000, 5000, 8000 genes. Feature matrix will have one row per patient tumor, column for each 'bestfit' gene\n",
    "\n"
   ]
  },
  {
   "cell_type": "code",
   "execution_count": 14,
   "metadata": {
    "colab": {
     "base_uri": "https://localhost:8080/",
     "height": 773
    },
    "colab_type": "code",
    "id": "4vRFtl74Kj3Y",
    "outputId": "02c70051-93e0-4540-d6e7-2bcaf9456b60"
   },
   "outputs": [
    {
     "name": "stdout",
     "output_type": "stream",
     "text": [
      "Running KBestFit\n",
      "  done.\n",
      "Creating gene matrix with best fit for 100 features\n",
      "100\n",
      "  writing ./data/features_bestfit_100.train.csv ...\n",
      "  (8179, 102)\n",
      "  done.\n",
      "  writing ./data/features_bestfit_100.test.csv ...\n",
      "  (2045, 102)\n",
      "  done.\n",
      "Creating gene matrix with best fit for 800 features\n",
      "800\n",
      "  writing ./data/features_bestfit_800.train.csv ...\n",
      "  (8179, 802)\n",
      "  done.\n",
      "  writing ./data/features_bestfit_800.test.csv ...\n",
      "  (2045, 802)\n",
      "  done.\n",
      "Creating gene matrix with best fit for 4000 features\n",
      "4000\n",
      "  writing ./data/features_bestfit_4000.train.csv ...\n",
      "  (8179, 4002)\n",
      "  done.\n",
      "  writing ./data/features_bestfit_4000.test.csv ...\n",
      "  (2045, 4002)\n",
      "  done.\n",
      "Creating gene matrix with best fit for 8000 features\n",
      "8000\n",
      "  writing ./data/features_bestfit_8000.train.csv ...\n",
      "  (8179, 8002)\n",
      "  done.\n",
      "  writing ./data/features_bestfit_8000.test.csv ...\n",
      "  (2045, 8002)\n",
      "  done.\n"
     ]
    }
   ],
   "source": [
    "create_best_fit_feature_matrix(feature_matrix_train, feature_matrix_test, True, \n",
    "                          'features_bestfit')\n"
   ]
  },
  {
   "cell_type": "markdown",
   "metadata": {
    "colab_type": "text",
    "id": "TkrfXbf5by7a"
   },
   "source": [
    "### Logistic Regression (L1)\n",
    "\n",
    "Trim the features using Logistic Regression, L1 regularization"
   ]
  },
  {
   "cell_type": "code",
   "execution_count": 15,
   "metadata": {
    "colab": {
     "base_uri": "https://localhost:8080/",
     "height": 881
    },
    "colab_type": "code",
    "id": "tTXcr330by7b",
    "outputId": "cfaa8f96-4f4d-4031-fce9-e3c3b32e5219"
   },
   "outputs": [
    {
     "name": "stdout",
     "output_type": "stream",
     "text": [
      "  writing ./data/features_l1reg_c0.025.train.csv ...\n",
      "  (8179, 57)\n",
      "  done.\n",
      "  writing ./data/features_l1reg_c0.025.test.csv ...\n",
      "  (2045, 57)\n",
      "  done.\n",
      "  writing ./data/features_l1reg_c0.05.train.csv ...\n",
      "  (8179, 199)\n",
      "  done.\n",
      "  writing ./data/features_l1reg_c0.05.test.csv ...\n",
      "  (2045, 199)\n",
      "  done.\n",
      "  writing ./data/features_l1reg_c0.1.train.csv ...\n",
      "  (8179, 536)\n",
      "  done.\n",
      "  writing ./data/features_l1reg_c0.1.test.csv ...\n",
      "  (2045, 536)\n",
      "  done.\n",
      "  writing ./data/features_l1reg_c0.25.train.csv ...\n",
      "  (8179, 2231)\n",
      "  done.\n",
      "  writing ./data/features_l1reg_c0.25.test.csv ...\n",
      "  (2045, 2231)\n",
      "  done.\n",
      "  writing ./data/features_l1reg_c0.5.train.csv ...\n",
      "  (8179, 4886)\n",
      "  done.\n",
      "  writing ./data/features_l1reg_c0.5.test.csv ...\n",
      "  (2045, 4886)\n",
      "  done.\n",
      "  writing ./data/features_l1reg_c1.train.csv ...\n",
      "  (8179, 7604)\n",
      "  done.\n",
      "  writing ./data/features_l1reg_c1.test.csv ...\n",
      "  (2045, 7604)\n",
      "  done.\n",
      "  writing ./data/features_l1reg_c10.train.csv ...\n",
      "  (8179, 14228)\n",
      "  done.\n",
      "  writing ./data/features_l1reg_c10.test.csv ...\n",
      "  (2045, 14228)\n",
      "  done.\n",
      "  writing ./data/features_l1reg_c100.train.csv ...\n",
      "  (8179, 19425)\n",
      "  done.\n",
      "  writing ./data/features_l1reg_c100.test.csv ...\n",
      "  (2045, 19425)\n",
      "  done.\n"
     ]
    }
   ],
   "source": [
    "label_encoder            = preprocessing.LabelEncoder()\n",
    "create_l1_feature_matrix(feature_matrix_train, feature_matrix_test, label_encoder,\n",
    "           'features_l1reg', True)"
   ]
  },
  {
   "cell_type": "markdown",
   "metadata": {
    "colab_type": "text",
    "id": "w8-4ZwG8CLSj"
   },
   "source": [
    "### RFE"
   ]
  },
  {
   "cell_type": "code",
   "execution_count": 16,
   "metadata": {
    "colab": {
     "base_uri": "https://localhost:8080/",
     "height": 1000
    },
    "colab_type": "code",
    "id": "s3HqHCQ778r5",
    "outputId": "49a51877-c447-4781-8aa5-753354aae906"
   },
   "outputs": [
    {
     "name": "stdout",
     "output_type": "stream",
     "text": [
      "Fitting estimator with 21144 features.\n"
     ]
    },
    {
     "name": "stderr",
     "output_type": "stream",
     "text": [
      "/Users/vijay/anaconda3/lib/python3.7/site-packages/sklearn/linear_model/logistic.py:433: FutureWarning: Default solver will be changed to 'lbfgs' in 0.22. Specify a solver to silence this warning.\n",
      "  FutureWarning)\n",
      "/Users/vijay/anaconda3/lib/python3.7/site-packages/sklearn/linear_model/logistic.py:460: FutureWarning: Default multi_class will be changed to 'auto' in 0.22. Specify the multi_class option to silence this warning.\n",
      "  \"this warning.\", FutureWarning)\n"
     ]
    },
    {
     "name": "stdout",
     "output_type": "stream",
     "text": [
      "Fitting estimator with 20087 features.\n"
     ]
    },
    {
     "name": "stderr",
     "output_type": "stream",
     "text": [
      "/Users/vijay/anaconda3/lib/python3.7/site-packages/sklearn/linear_model/logistic.py:433: FutureWarning: Default solver will be changed to 'lbfgs' in 0.22. Specify a solver to silence this warning.\n",
      "  FutureWarning)\n",
      "/Users/vijay/anaconda3/lib/python3.7/site-packages/sklearn/linear_model/logistic.py:460: FutureWarning: Default multi_class will be changed to 'auto' in 0.22. Specify the multi_class option to silence this warning.\n",
      "  \"this warning.\", FutureWarning)\n"
     ]
    },
    {
     "name": "stdout",
     "output_type": "stream",
     "text": [
      "Fitting estimator with 19030 features.\n"
     ]
    },
    {
     "name": "stderr",
     "output_type": "stream",
     "text": [
      "/Users/vijay/anaconda3/lib/python3.7/site-packages/sklearn/linear_model/logistic.py:433: FutureWarning: Default solver will be changed to 'lbfgs' in 0.22. Specify a solver to silence this warning.\n",
      "  FutureWarning)\n",
      "/Users/vijay/anaconda3/lib/python3.7/site-packages/sklearn/linear_model/logistic.py:460: FutureWarning: Default multi_class will be changed to 'auto' in 0.22. Specify the multi_class option to silence this warning.\n",
      "  \"this warning.\", FutureWarning)\n"
     ]
    },
    {
     "name": "stdout",
     "output_type": "stream",
     "text": [
      "Fitting estimator with 17973 features.\n"
     ]
    },
    {
     "name": "stderr",
     "output_type": "stream",
     "text": [
      "/Users/vijay/anaconda3/lib/python3.7/site-packages/sklearn/linear_model/logistic.py:433: FutureWarning: Default solver will be changed to 'lbfgs' in 0.22. Specify a solver to silence this warning.\n",
      "  FutureWarning)\n",
      "/Users/vijay/anaconda3/lib/python3.7/site-packages/sklearn/linear_model/logistic.py:460: FutureWarning: Default multi_class will be changed to 'auto' in 0.22. Specify the multi_class option to silence this warning.\n",
      "  \"this warning.\", FutureWarning)\n"
     ]
    },
    {
     "name": "stdout",
     "output_type": "stream",
     "text": [
      "Fitting estimator with 16916 features.\n"
     ]
    },
    {
     "name": "stderr",
     "output_type": "stream",
     "text": [
      "/Users/vijay/anaconda3/lib/python3.7/site-packages/sklearn/linear_model/logistic.py:433: FutureWarning: Default solver will be changed to 'lbfgs' in 0.22. Specify a solver to silence this warning.\n",
      "  FutureWarning)\n",
      "/Users/vijay/anaconda3/lib/python3.7/site-packages/sklearn/linear_model/logistic.py:460: FutureWarning: Default multi_class will be changed to 'auto' in 0.22. Specify the multi_class option to silence this warning.\n",
      "  \"this warning.\", FutureWarning)\n"
     ]
    },
    {
     "name": "stdout",
     "output_type": "stream",
     "text": [
      "Fitting estimator with 15859 features.\n"
     ]
    },
    {
     "name": "stderr",
     "output_type": "stream",
     "text": [
      "/Users/vijay/anaconda3/lib/python3.7/site-packages/sklearn/linear_model/logistic.py:433: FutureWarning: Default solver will be changed to 'lbfgs' in 0.22. Specify a solver to silence this warning.\n",
      "  FutureWarning)\n",
      "/Users/vijay/anaconda3/lib/python3.7/site-packages/sklearn/linear_model/logistic.py:460: FutureWarning: Default multi_class will be changed to 'auto' in 0.22. Specify the multi_class option to silence this warning.\n",
      "  \"this warning.\", FutureWarning)\n"
     ]
    },
    {
     "name": "stdout",
     "output_type": "stream",
     "text": [
      "Fitting estimator with 14802 features.\n"
     ]
    },
    {
     "name": "stderr",
     "output_type": "stream",
     "text": [
      "/Users/vijay/anaconda3/lib/python3.7/site-packages/sklearn/linear_model/logistic.py:433: FutureWarning: Default solver will be changed to 'lbfgs' in 0.22. Specify a solver to silence this warning.\n",
      "  FutureWarning)\n",
      "/Users/vijay/anaconda3/lib/python3.7/site-packages/sklearn/linear_model/logistic.py:460: FutureWarning: Default multi_class will be changed to 'auto' in 0.22. Specify the multi_class option to silence this warning.\n",
      "  \"this warning.\", FutureWarning)\n"
     ]
    },
    {
     "name": "stdout",
     "output_type": "stream",
     "text": [
      "Fitting estimator with 13745 features.\n"
     ]
    },
    {
     "name": "stderr",
     "output_type": "stream",
     "text": [
      "/Users/vijay/anaconda3/lib/python3.7/site-packages/sklearn/linear_model/logistic.py:433: FutureWarning: Default solver will be changed to 'lbfgs' in 0.22. Specify a solver to silence this warning.\n",
      "  FutureWarning)\n",
      "/Users/vijay/anaconda3/lib/python3.7/site-packages/sklearn/linear_model/logistic.py:460: FutureWarning: Default multi_class will be changed to 'auto' in 0.22. Specify the multi_class option to silence this warning.\n",
      "  \"this warning.\", FutureWarning)\n"
     ]
    },
    {
     "name": "stdout",
     "output_type": "stream",
     "text": [
      "Fitting estimator with 12688 features.\n"
     ]
    },
    {
     "name": "stderr",
     "output_type": "stream",
     "text": [
      "/Users/vijay/anaconda3/lib/python3.7/site-packages/sklearn/linear_model/logistic.py:433: FutureWarning: Default solver will be changed to 'lbfgs' in 0.22. Specify a solver to silence this warning.\n",
      "  FutureWarning)\n",
      "/Users/vijay/anaconda3/lib/python3.7/site-packages/sklearn/linear_model/logistic.py:460: FutureWarning: Default multi_class will be changed to 'auto' in 0.22. Specify the multi_class option to silence this warning.\n",
      "  \"this warning.\", FutureWarning)\n"
     ]
    },
    {
     "name": "stdout",
     "output_type": "stream",
     "text": [
      "Fitting estimator with 11631 features.\n"
     ]
    },
    {
     "name": "stderr",
     "output_type": "stream",
     "text": [
      "/Users/vijay/anaconda3/lib/python3.7/site-packages/sklearn/linear_model/logistic.py:433: FutureWarning: Default solver will be changed to 'lbfgs' in 0.22. Specify a solver to silence this warning.\n",
      "  FutureWarning)\n",
      "/Users/vijay/anaconda3/lib/python3.7/site-packages/sklearn/linear_model/logistic.py:460: FutureWarning: Default multi_class will be changed to 'auto' in 0.22. Specify the multi_class option to silence this warning.\n",
      "  \"this warning.\", FutureWarning)\n"
     ]
    },
    {
     "name": "stdout",
     "output_type": "stream",
     "text": [
      "Fitting estimator with 10574 features.\n"
     ]
    },
    {
     "name": "stderr",
     "output_type": "stream",
     "text": [
      "/Users/vijay/anaconda3/lib/python3.7/site-packages/sklearn/linear_model/logistic.py:433: FutureWarning: Default solver will be changed to 'lbfgs' in 0.22. Specify a solver to silence this warning.\n",
      "  FutureWarning)\n",
      "/Users/vijay/anaconda3/lib/python3.7/site-packages/sklearn/linear_model/logistic.py:460: FutureWarning: Default multi_class will be changed to 'auto' in 0.22. Specify the multi_class option to silence this warning.\n",
      "  \"this warning.\", FutureWarning)\n"
     ]
    },
    {
     "name": "stdout",
     "output_type": "stream",
     "text": [
      "Fitting estimator with 9517 features.\n"
     ]
    },
    {
     "name": "stderr",
     "output_type": "stream",
     "text": [
      "/Users/vijay/anaconda3/lib/python3.7/site-packages/sklearn/linear_model/logistic.py:433: FutureWarning: Default solver will be changed to 'lbfgs' in 0.22. Specify a solver to silence this warning.\n",
      "  FutureWarning)\n",
      "/Users/vijay/anaconda3/lib/python3.7/site-packages/sklearn/linear_model/logistic.py:460: FutureWarning: Default multi_class will be changed to 'auto' in 0.22. Specify the multi_class option to silence this warning.\n",
      "  \"this warning.\", FutureWarning)\n"
     ]
    },
    {
     "name": "stdout",
     "output_type": "stream",
     "text": [
      "Fitting estimator with 8460 features.\n"
     ]
    },
    {
     "name": "stderr",
     "output_type": "stream",
     "text": [
      "/Users/vijay/anaconda3/lib/python3.7/site-packages/sklearn/linear_model/logistic.py:433: FutureWarning: Default solver will be changed to 'lbfgs' in 0.22. Specify a solver to silence this warning.\n",
      "  FutureWarning)\n",
      "/Users/vijay/anaconda3/lib/python3.7/site-packages/sklearn/linear_model/logistic.py:460: FutureWarning: Default multi_class will be changed to 'auto' in 0.22. Specify the multi_class option to silence this warning.\n",
      "  \"this warning.\", FutureWarning)\n"
     ]
    },
    {
     "name": "stdout",
     "output_type": "stream",
     "text": [
      "Fitting estimator with 7403 features.\n"
     ]
    },
    {
     "name": "stderr",
     "output_type": "stream",
     "text": [
      "/Users/vijay/anaconda3/lib/python3.7/site-packages/sklearn/linear_model/logistic.py:433: FutureWarning: Default solver will be changed to 'lbfgs' in 0.22. Specify a solver to silence this warning.\n",
      "  FutureWarning)\n",
      "/Users/vijay/anaconda3/lib/python3.7/site-packages/sklearn/linear_model/logistic.py:460: FutureWarning: Default multi_class will be changed to 'auto' in 0.22. Specify the multi_class option to silence this warning.\n",
      "  \"this warning.\", FutureWarning)\n"
     ]
    },
    {
     "name": "stdout",
     "output_type": "stream",
     "text": [
      "Fitting estimator with 6346 features.\n"
     ]
    },
    {
     "name": "stderr",
     "output_type": "stream",
     "text": [
      "/Users/vijay/anaconda3/lib/python3.7/site-packages/sklearn/linear_model/logistic.py:433: FutureWarning: Default solver will be changed to 'lbfgs' in 0.22. Specify a solver to silence this warning.\n",
      "  FutureWarning)\n",
      "/Users/vijay/anaconda3/lib/python3.7/site-packages/sklearn/linear_model/logistic.py:460: FutureWarning: Default multi_class will be changed to 'auto' in 0.22. Specify the multi_class option to silence this warning.\n",
      "  \"this warning.\", FutureWarning)\n"
     ]
    },
    {
     "name": "stdout",
     "output_type": "stream",
     "text": [
      "Fitting estimator with 5289 features.\n"
     ]
    },
    {
     "name": "stderr",
     "output_type": "stream",
     "text": [
      "/Users/vijay/anaconda3/lib/python3.7/site-packages/sklearn/linear_model/logistic.py:433: FutureWarning: Default solver will be changed to 'lbfgs' in 0.22. Specify a solver to silence this warning.\n",
      "  FutureWarning)\n",
      "/Users/vijay/anaconda3/lib/python3.7/site-packages/sklearn/linear_model/logistic.py:460: FutureWarning: Default multi_class will be changed to 'auto' in 0.22. Specify the multi_class option to silence this warning.\n",
      "  \"this warning.\", FutureWarning)\n"
     ]
    },
    {
     "name": "stdout",
     "output_type": "stream",
     "text": [
      "Fitting estimator with 4232 features.\n"
     ]
    },
    {
     "name": "stderr",
     "output_type": "stream",
     "text": [
      "/Users/vijay/anaconda3/lib/python3.7/site-packages/sklearn/linear_model/logistic.py:433: FutureWarning: Default solver will be changed to 'lbfgs' in 0.22. Specify a solver to silence this warning.\n",
      "  FutureWarning)\n",
      "/Users/vijay/anaconda3/lib/python3.7/site-packages/sklearn/linear_model/logistic.py:460: FutureWarning: Default multi_class will be changed to 'auto' in 0.22. Specify the multi_class option to silence this warning.\n",
      "  \"this warning.\", FutureWarning)\n"
     ]
    },
    {
     "name": "stdout",
     "output_type": "stream",
     "text": [
      "Fitting estimator with 3175 features.\n"
     ]
    },
    {
     "name": "stderr",
     "output_type": "stream",
     "text": [
      "/Users/vijay/anaconda3/lib/python3.7/site-packages/sklearn/linear_model/logistic.py:433: FutureWarning: Default solver will be changed to 'lbfgs' in 0.22. Specify a solver to silence this warning.\n",
      "  FutureWarning)\n",
      "/Users/vijay/anaconda3/lib/python3.7/site-packages/sklearn/linear_model/logistic.py:460: FutureWarning: Default multi_class will be changed to 'auto' in 0.22. Specify the multi_class option to silence this warning.\n",
      "  \"this warning.\", FutureWarning)\n"
     ]
    },
    {
     "name": "stdout",
     "output_type": "stream",
     "text": [
      "Fitting estimator with 2118 features.\n"
     ]
    },
    {
     "name": "stderr",
     "output_type": "stream",
     "text": [
      "/Users/vijay/anaconda3/lib/python3.7/site-packages/sklearn/linear_model/logistic.py:433: FutureWarning: Default solver will be changed to 'lbfgs' in 0.22. Specify a solver to silence this warning.\n",
      "  FutureWarning)\n",
      "/Users/vijay/anaconda3/lib/python3.7/site-packages/sklearn/linear_model/logistic.py:460: FutureWarning: Default multi_class will be changed to 'auto' in 0.22. Specify the multi_class option to silence this warning.\n",
      "  \"this warning.\", FutureWarning)\n"
     ]
    },
    {
     "name": "stdout",
     "output_type": "stream",
     "text": [
      "Fitting estimator with 1061 features.\n"
     ]
    },
    {
     "name": "stderr",
     "output_type": "stream",
     "text": [
      "/Users/vijay/anaconda3/lib/python3.7/site-packages/sklearn/linear_model/logistic.py:433: FutureWarning: Default solver will be changed to 'lbfgs' in 0.22. Specify a solver to silence this warning.\n",
      "  FutureWarning)\n",
      "/Users/vijay/anaconda3/lib/python3.7/site-packages/sklearn/linear_model/logistic.py:460: FutureWarning: Default multi_class will be changed to 'auto' in 0.22. Specify the multi_class option to silence this warning.\n",
      "  \"this warning.\", FutureWarning)\n",
      "/Users/vijay/anaconda3/lib/python3.7/site-packages/sklearn/linear_model/logistic.py:433: FutureWarning: Default solver will be changed to 'lbfgs' in 0.22. Specify a solver to silence this warning.\n",
      "  FutureWarning)\n",
      "/Users/vijay/anaconda3/lib/python3.7/site-packages/sklearn/linear_model/logistic.py:460: FutureWarning: Default multi_class will be changed to 'auto' in 0.22. Specify the multi_class option to silence this warning.\n",
      "  \"this warning.\", FutureWarning)\n"
     ]
    },
    {
     "name": "stdout",
     "output_type": "stream",
     "text": [
      "  writing ./data/features_rfe_lr_100.train.csv ...\n",
      "  (8179, 102)\n",
      "  done.\n",
      "  writing ./data/features_rfe_lr_100.test.csv ...\n",
      "  (2045, 102)\n",
      "  done.\n",
      "Fitting estimator with 21144 features.\n"
     ]
    },
    {
     "name": "stderr",
     "output_type": "stream",
     "text": [
      "/Users/vijay/anaconda3/lib/python3.7/site-packages/sklearn/linear_model/logistic.py:433: FutureWarning: Default solver will be changed to 'lbfgs' in 0.22. Specify a solver to silence this warning.\n",
      "  FutureWarning)\n",
      "/Users/vijay/anaconda3/lib/python3.7/site-packages/sklearn/linear_model/logistic.py:460: FutureWarning: Default multi_class will be changed to 'auto' in 0.22. Specify the multi_class option to silence this warning.\n",
      "  \"this warning.\", FutureWarning)\n"
     ]
    },
    {
     "name": "stdout",
     "output_type": "stream",
     "text": [
      "Fitting estimator with 20087 features.\n"
     ]
    },
    {
     "name": "stderr",
     "output_type": "stream",
     "text": [
      "/Users/vijay/anaconda3/lib/python3.7/site-packages/sklearn/linear_model/logistic.py:433: FutureWarning: Default solver will be changed to 'lbfgs' in 0.22. Specify a solver to silence this warning.\n",
      "  FutureWarning)\n",
      "/Users/vijay/anaconda3/lib/python3.7/site-packages/sklearn/linear_model/logistic.py:460: FutureWarning: Default multi_class will be changed to 'auto' in 0.22. Specify the multi_class option to silence this warning.\n",
      "  \"this warning.\", FutureWarning)\n"
     ]
    },
    {
     "name": "stdout",
     "output_type": "stream",
     "text": [
      "Fitting estimator with 19030 features.\n"
     ]
    },
    {
     "name": "stderr",
     "output_type": "stream",
     "text": [
      "/Users/vijay/anaconda3/lib/python3.7/site-packages/sklearn/linear_model/logistic.py:433: FutureWarning: Default solver will be changed to 'lbfgs' in 0.22. Specify a solver to silence this warning.\n",
      "  FutureWarning)\n",
      "/Users/vijay/anaconda3/lib/python3.7/site-packages/sklearn/linear_model/logistic.py:460: FutureWarning: Default multi_class will be changed to 'auto' in 0.22. Specify the multi_class option to silence this warning.\n",
      "  \"this warning.\", FutureWarning)\n"
     ]
    },
    {
     "name": "stdout",
     "output_type": "stream",
     "text": [
      "Fitting estimator with 17973 features.\n"
     ]
    },
    {
     "name": "stderr",
     "output_type": "stream",
     "text": [
      "/Users/vijay/anaconda3/lib/python3.7/site-packages/sklearn/linear_model/logistic.py:433: FutureWarning: Default solver will be changed to 'lbfgs' in 0.22. Specify a solver to silence this warning.\n",
      "  FutureWarning)\n",
      "/Users/vijay/anaconda3/lib/python3.7/site-packages/sklearn/linear_model/logistic.py:460: FutureWarning: Default multi_class will be changed to 'auto' in 0.22. Specify the multi_class option to silence this warning.\n",
      "  \"this warning.\", FutureWarning)\n"
     ]
    },
    {
     "name": "stdout",
     "output_type": "stream",
     "text": [
      "Fitting estimator with 16916 features.\n"
     ]
    },
    {
     "name": "stderr",
     "output_type": "stream",
     "text": [
      "/Users/vijay/anaconda3/lib/python3.7/site-packages/sklearn/linear_model/logistic.py:433: FutureWarning: Default solver will be changed to 'lbfgs' in 0.22. Specify a solver to silence this warning.\n",
      "  FutureWarning)\n",
      "/Users/vijay/anaconda3/lib/python3.7/site-packages/sklearn/linear_model/logistic.py:460: FutureWarning: Default multi_class will be changed to 'auto' in 0.22. Specify the multi_class option to silence this warning.\n",
      "  \"this warning.\", FutureWarning)\n"
     ]
    },
    {
     "name": "stdout",
     "output_type": "stream",
     "text": [
      "Fitting estimator with 15859 features.\n"
     ]
    },
    {
     "name": "stderr",
     "output_type": "stream",
     "text": [
      "/Users/vijay/anaconda3/lib/python3.7/site-packages/sklearn/linear_model/logistic.py:433: FutureWarning: Default solver will be changed to 'lbfgs' in 0.22. Specify a solver to silence this warning.\n",
      "  FutureWarning)\n",
      "/Users/vijay/anaconda3/lib/python3.7/site-packages/sklearn/linear_model/logistic.py:460: FutureWarning: Default multi_class will be changed to 'auto' in 0.22. Specify the multi_class option to silence this warning.\n",
      "  \"this warning.\", FutureWarning)\n"
     ]
    },
    {
     "name": "stdout",
     "output_type": "stream",
     "text": [
      "Fitting estimator with 14802 features.\n"
     ]
    },
    {
     "name": "stderr",
     "output_type": "stream",
     "text": [
      "/Users/vijay/anaconda3/lib/python3.7/site-packages/sklearn/linear_model/logistic.py:433: FutureWarning: Default solver will be changed to 'lbfgs' in 0.22. Specify a solver to silence this warning.\n",
      "  FutureWarning)\n",
      "/Users/vijay/anaconda3/lib/python3.7/site-packages/sklearn/linear_model/logistic.py:460: FutureWarning: Default multi_class will be changed to 'auto' in 0.22. Specify the multi_class option to silence this warning.\n",
      "  \"this warning.\", FutureWarning)\n"
     ]
    },
    {
     "name": "stdout",
     "output_type": "stream",
     "text": [
      "Fitting estimator with 13745 features.\n"
     ]
    },
    {
     "name": "stderr",
     "output_type": "stream",
     "text": [
      "/Users/vijay/anaconda3/lib/python3.7/site-packages/sklearn/linear_model/logistic.py:433: FutureWarning: Default solver will be changed to 'lbfgs' in 0.22. Specify a solver to silence this warning.\n",
      "  FutureWarning)\n",
      "/Users/vijay/anaconda3/lib/python3.7/site-packages/sklearn/linear_model/logistic.py:460: FutureWarning: Default multi_class will be changed to 'auto' in 0.22. Specify the multi_class option to silence this warning.\n",
      "  \"this warning.\", FutureWarning)\n"
     ]
    },
    {
     "name": "stdout",
     "output_type": "stream",
     "text": [
      "Fitting estimator with 12688 features.\n"
     ]
    },
    {
     "name": "stderr",
     "output_type": "stream",
     "text": [
      "/Users/vijay/anaconda3/lib/python3.7/site-packages/sklearn/linear_model/logistic.py:433: FutureWarning: Default solver will be changed to 'lbfgs' in 0.22. Specify a solver to silence this warning.\n",
      "  FutureWarning)\n",
      "/Users/vijay/anaconda3/lib/python3.7/site-packages/sklearn/linear_model/logistic.py:460: FutureWarning: Default multi_class will be changed to 'auto' in 0.22. Specify the multi_class option to silence this warning.\n",
      "  \"this warning.\", FutureWarning)\n"
     ]
    },
    {
     "name": "stdout",
     "output_type": "stream",
     "text": [
      "Fitting estimator with 11631 features.\n"
     ]
    },
    {
     "name": "stderr",
     "output_type": "stream",
     "text": [
      "/Users/vijay/anaconda3/lib/python3.7/site-packages/sklearn/linear_model/logistic.py:433: FutureWarning: Default solver will be changed to 'lbfgs' in 0.22. Specify a solver to silence this warning.\n",
      "  FutureWarning)\n",
      "/Users/vijay/anaconda3/lib/python3.7/site-packages/sklearn/linear_model/logistic.py:460: FutureWarning: Default multi_class will be changed to 'auto' in 0.22. Specify the multi_class option to silence this warning.\n",
      "  \"this warning.\", FutureWarning)\n"
     ]
    },
    {
     "name": "stdout",
     "output_type": "stream",
     "text": [
      "Fitting estimator with 10574 features.\n"
     ]
    },
    {
     "name": "stderr",
     "output_type": "stream",
     "text": [
      "/Users/vijay/anaconda3/lib/python3.7/site-packages/sklearn/linear_model/logistic.py:433: FutureWarning: Default solver will be changed to 'lbfgs' in 0.22. Specify a solver to silence this warning.\n",
      "  FutureWarning)\n",
      "/Users/vijay/anaconda3/lib/python3.7/site-packages/sklearn/linear_model/logistic.py:460: FutureWarning: Default multi_class will be changed to 'auto' in 0.22. Specify the multi_class option to silence this warning.\n",
      "  \"this warning.\", FutureWarning)\n"
     ]
    },
    {
     "name": "stdout",
     "output_type": "stream",
     "text": [
      "Fitting estimator with 9517 features.\n"
     ]
    },
    {
     "name": "stderr",
     "output_type": "stream",
     "text": [
      "/Users/vijay/anaconda3/lib/python3.7/site-packages/sklearn/linear_model/logistic.py:433: FutureWarning: Default solver will be changed to 'lbfgs' in 0.22. Specify a solver to silence this warning.\n",
      "  FutureWarning)\n",
      "/Users/vijay/anaconda3/lib/python3.7/site-packages/sklearn/linear_model/logistic.py:460: FutureWarning: Default multi_class will be changed to 'auto' in 0.22. Specify the multi_class option to silence this warning.\n",
      "  \"this warning.\", FutureWarning)\n"
     ]
    },
    {
     "name": "stdout",
     "output_type": "stream",
     "text": [
      "Fitting estimator with 8460 features.\n"
     ]
    },
    {
     "name": "stderr",
     "output_type": "stream",
     "text": [
      "/Users/vijay/anaconda3/lib/python3.7/site-packages/sklearn/linear_model/logistic.py:433: FutureWarning: Default solver will be changed to 'lbfgs' in 0.22. Specify a solver to silence this warning.\n",
      "  FutureWarning)\n",
      "/Users/vijay/anaconda3/lib/python3.7/site-packages/sklearn/linear_model/logistic.py:460: FutureWarning: Default multi_class will be changed to 'auto' in 0.22. Specify the multi_class option to silence this warning.\n",
      "  \"this warning.\", FutureWarning)\n"
     ]
    },
    {
     "name": "stdout",
     "output_type": "stream",
     "text": [
      "Fitting estimator with 7403 features.\n"
     ]
    },
    {
     "name": "stderr",
     "output_type": "stream",
     "text": [
      "/Users/vijay/anaconda3/lib/python3.7/site-packages/sklearn/linear_model/logistic.py:433: FutureWarning: Default solver will be changed to 'lbfgs' in 0.22. Specify a solver to silence this warning.\n",
      "  FutureWarning)\n",
      "/Users/vijay/anaconda3/lib/python3.7/site-packages/sklearn/linear_model/logistic.py:460: FutureWarning: Default multi_class will be changed to 'auto' in 0.22. Specify the multi_class option to silence this warning.\n",
      "  \"this warning.\", FutureWarning)\n"
     ]
    },
    {
     "name": "stdout",
     "output_type": "stream",
     "text": [
      "Fitting estimator with 6346 features.\n"
     ]
    },
    {
     "name": "stderr",
     "output_type": "stream",
     "text": [
      "/Users/vijay/anaconda3/lib/python3.7/site-packages/sklearn/linear_model/logistic.py:433: FutureWarning: Default solver will be changed to 'lbfgs' in 0.22. Specify a solver to silence this warning.\n",
      "  FutureWarning)\n",
      "/Users/vijay/anaconda3/lib/python3.7/site-packages/sklearn/linear_model/logistic.py:460: FutureWarning: Default multi_class will be changed to 'auto' in 0.22. Specify the multi_class option to silence this warning.\n",
      "  \"this warning.\", FutureWarning)\n"
     ]
    },
    {
     "name": "stdout",
     "output_type": "stream",
     "text": [
      "Fitting estimator with 5289 features.\n"
     ]
    },
    {
     "name": "stderr",
     "output_type": "stream",
     "text": [
      "/Users/vijay/anaconda3/lib/python3.7/site-packages/sklearn/linear_model/logistic.py:433: FutureWarning: Default solver will be changed to 'lbfgs' in 0.22. Specify a solver to silence this warning.\n",
      "  FutureWarning)\n",
      "/Users/vijay/anaconda3/lib/python3.7/site-packages/sklearn/linear_model/logistic.py:460: FutureWarning: Default multi_class will be changed to 'auto' in 0.22. Specify the multi_class option to silence this warning.\n",
      "  \"this warning.\", FutureWarning)\n"
     ]
    },
    {
     "name": "stdout",
     "output_type": "stream",
     "text": [
      "Fitting estimator with 4232 features.\n"
     ]
    },
    {
     "name": "stderr",
     "output_type": "stream",
     "text": [
      "/Users/vijay/anaconda3/lib/python3.7/site-packages/sklearn/linear_model/logistic.py:433: FutureWarning: Default solver will be changed to 'lbfgs' in 0.22. Specify a solver to silence this warning.\n",
      "  FutureWarning)\n",
      "/Users/vijay/anaconda3/lib/python3.7/site-packages/sklearn/linear_model/logistic.py:460: FutureWarning: Default multi_class will be changed to 'auto' in 0.22. Specify the multi_class option to silence this warning.\n",
      "  \"this warning.\", FutureWarning)\n"
     ]
    },
    {
     "name": "stdout",
     "output_type": "stream",
     "text": [
      "Fitting estimator with 3175 features.\n"
     ]
    },
    {
     "name": "stderr",
     "output_type": "stream",
     "text": [
      "/Users/vijay/anaconda3/lib/python3.7/site-packages/sklearn/linear_model/logistic.py:433: FutureWarning: Default solver will be changed to 'lbfgs' in 0.22. Specify a solver to silence this warning.\n",
      "  FutureWarning)\n",
      "/Users/vijay/anaconda3/lib/python3.7/site-packages/sklearn/linear_model/logistic.py:460: FutureWarning: Default multi_class will be changed to 'auto' in 0.22. Specify the multi_class option to silence this warning.\n",
      "  \"this warning.\", FutureWarning)\n"
     ]
    },
    {
     "name": "stdout",
     "output_type": "stream",
     "text": [
      "Fitting estimator with 2118 features.\n"
     ]
    },
    {
     "name": "stderr",
     "output_type": "stream",
     "text": [
      "/Users/vijay/anaconda3/lib/python3.7/site-packages/sklearn/linear_model/logistic.py:433: FutureWarning: Default solver will be changed to 'lbfgs' in 0.22. Specify a solver to silence this warning.\n",
      "  FutureWarning)\n",
      "/Users/vijay/anaconda3/lib/python3.7/site-packages/sklearn/linear_model/logistic.py:460: FutureWarning: Default multi_class will be changed to 'auto' in 0.22. Specify the multi_class option to silence this warning.\n",
      "  \"this warning.\", FutureWarning)\n"
     ]
    },
    {
     "name": "stdout",
     "output_type": "stream",
     "text": [
      "Fitting estimator with 1061 features.\n"
     ]
    },
    {
     "name": "stderr",
     "output_type": "stream",
     "text": [
      "/Users/vijay/anaconda3/lib/python3.7/site-packages/sklearn/linear_model/logistic.py:433: FutureWarning: Default solver will be changed to 'lbfgs' in 0.22. Specify a solver to silence this warning.\n",
      "  FutureWarning)\n",
      "/Users/vijay/anaconda3/lib/python3.7/site-packages/sklearn/linear_model/logistic.py:460: FutureWarning: Default multi_class will be changed to 'auto' in 0.22. Specify the multi_class option to silence this warning.\n",
      "  \"this warning.\", FutureWarning)\n",
      "/Users/vijay/anaconda3/lib/python3.7/site-packages/sklearn/linear_model/logistic.py:433: FutureWarning: Default solver will be changed to 'lbfgs' in 0.22. Specify a solver to silence this warning.\n",
      "  FutureWarning)\n",
      "/Users/vijay/anaconda3/lib/python3.7/site-packages/sklearn/linear_model/logistic.py:460: FutureWarning: Default multi_class will be changed to 'auto' in 0.22. Specify the multi_class option to silence this warning.\n",
      "  \"this warning.\", FutureWarning)\n"
     ]
    },
    {
     "name": "stdout",
     "output_type": "stream",
     "text": [
      "  writing ./data/features_rfe_lr_800.train.csv ...\n",
      "  (8179, 802)\n",
      "  done.\n",
      "  writing ./data/features_rfe_lr_800.test.csv ...\n",
      "  (2045, 802)\n",
      "  done.\n",
      "Fitting estimator with 21144 features.\n"
     ]
    },
    {
     "name": "stderr",
     "output_type": "stream",
     "text": [
      "/Users/vijay/anaconda3/lib/python3.7/site-packages/sklearn/linear_model/logistic.py:433: FutureWarning: Default solver will be changed to 'lbfgs' in 0.22. Specify a solver to silence this warning.\n",
      "  FutureWarning)\n",
      "/Users/vijay/anaconda3/lib/python3.7/site-packages/sklearn/linear_model/logistic.py:460: FutureWarning: Default multi_class will be changed to 'auto' in 0.22. Specify the multi_class option to silence this warning.\n",
      "  \"this warning.\", FutureWarning)\n"
     ]
    },
    {
     "name": "stdout",
     "output_type": "stream",
     "text": [
      "Fitting estimator with 20087 features.\n"
     ]
    },
    {
     "name": "stderr",
     "output_type": "stream",
     "text": [
      "/Users/vijay/anaconda3/lib/python3.7/site-packages/sklearn/linear_model/logistic.py:433: FutureWarning: Default solver will be changed to 'lbfgs' in 0.22. Specify a solver to silence this warning.\n",
      "  FutureWarning)\n",
      "/Users/vijay/anaconda3/lib/python3.7/site-packages/sklearn/linear_model/logistic.py:460: FutureWarning: Default multi_class will be changed to 'auto' in 0.22. Specify the multi_class option to silence this warning.\n",
      "  \"this warning.\", FutureWarning)\n"
     ]
    },
    {
     "name": "stdout",
     "output_type": "stream",
     "text": [
      "Fitting estimator with 19030 features.\n"
     ]
    },
    {
     "name": "stderr",
     "output_type": "stream",
     "text": [
      "/Users/vijay/anaconda3/lib/python3.7/site-packages/sklearn/linear_model/logistic.py:433: FutureWarning: Default solver will be changed to 'lbfgs' in 0.22. Specify a solver to silence this warning.\n",
      "  FutureWarning)\n",
      "/Users/vijay/anaconda3/lib/python3.7/site-packages/sklearn/linear_model/logistic.py:460: FutureWarning: Default multi_class will be changed to 'auto' in 0.22. Specify the multi_class option to silence this warning.\n",
      "  \"this warning.\", FutureWarning)\n"
     ]
    },
    {
     "name": "stdout",
     "output_type": "stream",
     "text": [
      "Fitting estimator with 17973 features.\n"
     ]
    },
    {
     "name": "stderr",
     "output_type": "stream",
     "text": [
      "/Users/vijay/anaconda3/lib/python3.7/site-packages/sklearn/linear_model/logistic.py:433: FutureWarning: Default solver will be changed to 'lbfgs' in 0.22. Specify a solver to silence this warning.\n",
      "  FutureWarning)\n",
      "/Users/vijay/anaconda3/lib/python3.7/site-packages/sklearn/linear_model/logistic.py:460: FutureWarning: Default multi_class will be changed to 'auto' in 0.22. Specify the multi_class option to silence this warning.\n",
      "  \"this warning.\", FutureWarning)\n"
     ]
    },
    {
     "name": "stdout",
     "output_type": "stream",
     "text": [
      "Fitting estimator with 16916 features.\n"
     ]
    },
    {
     "name": "stderr",
     "output_type": "stream",
     "text": [
      "/Users/vijay/anaconda3/lib/python3.7/site-packages/sklearn/linear_model/logistic.py:433: FutureWarning: Default solver will be changed to 'lbfgs' in 0.22. Specify a solver to silence this warning.\n",
      "  FutureWarning)\n",
      "/Users/vijay/anaconda3/lib/python3.7/site-packages/sklearn/linear_model/logistic.py:460: FutureWarning: Default multi_class will be changed to 'auto' in 0.22. Specify the multi_class option to silence this warning.\n",
      "  \"this warning.\", FutureWarning)\n"
     ]
    },
    {
     "name": "stdout",
     "output_type": "stream",
     "text": [
      "Fitting estimator with 15859 features.\n"
     ]
    },
    {
     "name": "stderr",
     "output_type": "stream",
     "text": [
      "/Users/vijay/anaconda3/lib/python3.7/site-packages/sklearn/linear_model/logistic.py:433: FutureWarning: Default solver will be changed to 'lbfgs' in 0.22. Specify a solver to silence this warning.\n",
      "  FutureWarning)\n",
      "/Users/vijay/anaconda3/lib/python3.7/site-packages/sklearn/linear_model/logistic.py:460: FutureWarning: Default multi_class will be changed to 'auto' in 0.22. Specify the multi_class option to silence this warning.\n",
      "  \"this warning.\", FutureWarning)\n"
     ]
    },
    {
     "name": "stdout",
     "output_type": "stream",
     "text": [
      "Fitting estimator with 14802 features.\n"
     ]
    },
    {
     "name": "stderr",
     "output_type": "stream",
     "text": [
      "/Users/vijay/anaconda3/lib/python3.7/site-packages/sklearn/linear_model/logistic.py:433: FutureWarning: Default solver will be changed to 'lbfgs' in 0.22. Specify a solver to silence this warning.\n",
      "  FutureWarning)\n",
      "/Users/vijay/anaconda3/lib/python3.7/site-packages/sklearn/linear_model/logistic.py:460: FutureWarning: Default multi_class will be changed to 'auto' in 0.22. Specify the multi_class option to silence this warning.\n",
      "  \"this warning.\", FutureWarning)\n"
     ]
    },
    {
     "name": "stdout",
     "output_type": "stream",
     "text": [
      "Fitting estimator with 13745 features.\n"
     ]
    },
    {
     "name": "stderr",
     "output_type": "stream",
     "text": [
      "/Users/vijay/anaconda3/lib/python3.7/site-packages/sklearn/linear_model/logistic.py:433: FutureWarning: Default solver will be changed to 'lbfgs' in 0.22. Specify a solver to silence this warning.\n",
      "  FutureWarning)\n",
      "/Users/vijay/anaconda3/lib/python3.7/site-packages/sklearn/linear_model/logistic.py:460: FutureWarning: Default multi_class will be changed to 'auto' in 0.22. Specify the multi_class option to silence this warning.\n",
      "  \"this warning.\", FutureWarning)\n"
     ]
    },
    {
     "name": "stdout",
     "output_type": "stream",
     "text": [
      "Fitting estimator with 12688 features.\n"
     ]
    },
    {
     "name": "stderr",
     "output_type": "stream",
     "text": [
      "/Users/vijay/anaconda3/lib/python3.7/site-packages/sklearn/linear_model/logistic.py:433: FutureWarning: Default solver will be changed to 'lbfgs' in 0.22. Specify a solver to silence this warning.\n",
      "  FutureWarning)\n",
      "/Users/vijay/anaconda3/lib/python3.7/site-packages/sklearn/linear_model/logistic.py:460: FutureWarning: Default multi_class will be changed to 'auto' in 0.22. Specify the multi_class option to silence this warning.\n",
      "  \"this warning.\", FutureWarning)\n"
     ]
    },
    {
     "name": "stdout",
     "output_type": "stream",
     "text": [
      "Fitting estimator with 11631 features.\n"
     ]
    },
    {
     "name": "stderr",
     "output_type": "stream",
     "text": [
      "/Users/vijay/anaconda3/lib/python3.7/site-packages/sklearn/linear_model/logistic.py:433: FutureWarning: Default solver will be changed to 'lbfgs' in 0.22. Specify a solver to silence this warning.\n",
      "  FutureWarning)\n",
      "/Users/vijay/anaconda3/lib/python3.7/site-packages/sklearn/linear_model/logistic.py:460: FutureWarning: Default multi_class will be changed to 'auto' in 0.22. Specify the multi_class option to silence this warning.\n",
      "  \"this warning.\", FutureWarning)\n"
     ]
    },
    {
     "name": "stdout",
     "output_type": "stream",
     "text": [
      "Fitting estimator with 10574 features.\n"
     ]
    },
    {
     "name": "stderr",
     "output_type": "stream",
     "text": [
      "/Users/vijay/anaconda3/lib/python3.7/site-packages/sklearn/linear_model/logistic.py:433: FutureWarning: Default solver will be changed to 'lbfgs' in 0.22. Specify a solver to silence this warning.\n",
      "  FutureWarning)\n",
      "/Users/vijay/anaconda3/lib/python3.7/site-packages/sklearn/linear_model/logistic.py:460: FutureWarning: Default multi_class will be changed to 'auto' in 0.22. Specify the multi_class option to silence this warning.\n",
      "  \"this warning.\", FutureWarning)\n"
     ]
    },
    {
     "name": "stdout",
     "output_type": "stream",
     "text": [
      "Fitting estimator with 9517 features.\n"
     ]
    },
    {
     "name": "stderr",
     "output_type": "stream",
     "text": [
      "/Users/vijay/anaconda3/lib/python3.7/site-packages/sklearn/linear_model/logistic.py:433: FutureWarning: Default solver will be changed to 'lbfgs' in 0.22. Specify a solver to silence this warning.\n",
      "  FutureWarning)\n",
      "/Users/vijay/anaconda3/lib/python3.7/site-packages/sklearn/linear_model/logistic.py:460: FutureWarning: Default multi_class will be changed to 'auto' in 0.22. Specify the multi_class option to silence this warning.\n",
      "  \"this warning.\", FutureWarning)\n"
     ]
    },
    {
     "name": "stdout",
     "output_type": "stream",
     "text": [
      "Fitting estimator with 8460 features.\n"
     ]
    },
    {
     "name": "stderr",
     "output_type": "stream",
     "text": [
      "/Users/vijay/anaconda3/lib/python3.7/site-packages/sklearn/linear_model/logistic.py:433: FutureWarning: Default solver will be changed to 'lbfgs' in 0.22. Specify a solver to silence this warning.\n",
      "  FutureWarning)\n",
      "/Users/vijay/anaconda3/lib/python3.7/site-packages/sklearn/linear_model/logistic.py:460: FutureWarning: Default multi_class will be changed to 'auto' in 0.22. Specify the multi_class option to silence this warning.\n",
      "  \"this warning.\", FutureWarning)\n"
     ]
    },
    {
     "name": "stdout",
     "output_type": "stream",
     "text": [
      "Fitting estimator with 7403 features.\n"
     ]
    },
    {
     "name": "stderr",
     "output_type": "stream",
     "text": [
      "/Users/vijay/anaconda3/lib/python3.7/site-packages/sklearn/linear_model/logistic.py:433: FutureWarning: Default solver will be changed to 'lbfgs' in 0.22. Specify a solver to silence this warning.\n",
      "  FutureWarning)\n",
      "/Users/vijay/anaconda3/lib/python3.7/site-packages/sklearn/linear_model/logistic.py:460: FutureWarning: Default multi_class will be changed to 'auto' in 0.22. Specify the multi_class option to silence this warning.\n",
      "  \"this warning.\", FutureWarning)\n"
     ]
    },
    {
     "name": "stdout",
     "output_type": "stream",
     "text": [
      "Fitting estimator with 6346 features.\n"
     ]
    },
    {
     "name": "stderr",
     "output_type": "stream",
     "text": [
      "/Users/vijay/anaconda3/lib/python3.7/site-packages/sklearn/linear_model/logistic.py:433: FutureWarning: Default solver will be changed to 'lbfgs' in 0.22. Specify a solver to silence this warning.\n",
      "  FutureWarning)\n",
      "/Users/vijay/anaconda3/lib/python3.7/site-packages/sklearn/linear_model/logistic.py:460: FutureWarning: Default multi_class will be changed to 'auto' in 0.22. Specify the multi_class option to silence this warning.\n",
      "  \"this warning.\", FutureWarning)\n"
     ]
    },
    {
     "name": "stdout",
     "output_type": "stream",
     "text": [
      "Fitting estimator with 5289 features.\n"
     ]
    },
    {
     "name": "stderr",
     "output_type": "stream",
     "text": [
      "/Users/vijay/anaconda3/lib/python3.7/site-packages/sklearn/linear_model/logistic.py:433: FutureWarning: Default solver will be changed to 'lbfgs' in 0.22. Specify a solver to silence this warning.\n",
      "  FutureWarning)\n",
      "/Users/vijay/anaconda3/lib/python3.7/site-packages/sklearn/linear_model/logistic.py:460: FutureWarning: Default multi_class will be changed to 'auto' in 0.22. Specify the multi_class option to silence this warning.\n",
      "  \"this warning.\", FutureWarning)\n"
     ]
    },
    {
     "name": "stdout",
     "output_type": "stream",
     "text": [
      "Fitting estimator with 4232 features.\n"
     ]
    },
    {
     "name": "stderr",
     "output_type": "stream",
     "text": [
      "/Users/vijay/anaconda3/lib/python3.7/site-packages/sklearn/linear_model/logistic.py:433: FutureWarning: Default solver will be changed to 'lbfgs' in 0.22. Specify a solver to silence this warning.\n",
      "  FutureWarning)\n",
      "/Users/vijay/anaconda3/lib/python3.7/site-packages/sklearn/linear_model/logistic.py:460: FutureWarning: Default multi_class will be changed to 'auto' in 0.22. Specify the multi_class option to silence this warning.\n",
      "  \"this warning.\", FutureWarning)\n",
      "/Users/vijay/anaconda3/lib/python3.7/site-packages/sklearn/linear_model/logistic.py:433: FutureWarning: Default solver will be changed to 'lbfgs' in 0.22. Specify a solver to silence this warning.\n",
      "  FutureWarning)\n",
      "/Users/vijay/anaconda3/lib/python3.7/site-packages/sklearn/linear_model/logistic.py:460: FutureWarning: Default multi_class will be changed to 'auto' in 0.22. Specify the multi_class option to silence this warning.\n",
      "  \"this warning.\", FutureWarning)\n"
     ]
    },
    {
     "name": "stdout",
     "output_type": "stream",
     "text": [
      "  writing ./data/features_rfe_lr_4000.train.csv ...\n",
      "  (8179, 4002)\n",
      "  done.\n",
      "  writing ./data/features_rfe_lr_4000.test.csv ...\n",
      "  (2045, 4002)\n",
      "  done.\n",
      "Fitting estimator with 21144 features.\n"
     ]
    },
    {
     "name": "stderr",
     "output_type": "stream",
     "text": [
      "/Users/vijay/anaconda3/lib/python3.7/site-packages/sklearn/linear_model/logistic.py:433: FutureWarning: Default solver will be changed to 'lbfgs' in 0.22. Specify a solver to silence this warning.\n",
      "  FutureWarning)\n",
      "/Users/vijay/anaconda3/lib/python3.7/site-packages/sklearn/linear_model/logistic.py:460: FutureWarning: Default multi_class will be changed to 'auto' in 0.22. Specify the multi_class option to silence this warning.\n",
      "  \"this warning.\", FutureWarning)\n"
     ]
    },
    {
     "name": "stdout",
     "output_type": "stream",
     "text": [
      "Fitting estimator with 20087 features.\n"
     ]
    },
    {
     "name": "stderr",
     "output_type": "stream",
     "text": [
      "/Users/vijay/anaconda3/lib/python3.7/site-packages/sklearn/linear_model/logistic.py:433: FutureWarning: Default solver will be changed to 'lbfgs' in 0.22. Specify a solver to silence this warning.\n",
      "  FutureWarning)\n",
      "/Users/vijay/anaconda3/lib/python3.7/site-packages/sklearn/linear_model/logistic.py:460: FutureWarning: Default multi_class will be changed to 'auto' in 0.22. Specify the multi_class option to silence this warning.\n",
      "  \"this warning.\", FutureWarning)\n"
     ]
    },
    {
     "name": "stdout",
     "output_type": "stream",
     "text": [
      "Fitting estimator with 19030 features.\n"
     ]
    },
    {
     "name": "stderr",
     "output_type": "stream",
     "text": [
      "/Users/vijay/anaconda3/lib/python3.7/site-packages/sklearn/linear_model/logistic.py:433: FutureWarning: Default solver will be changed to 'lbfgs' in 0.22. Specify a solver to silence this warning.\n",
      "  FutureWarning)\n",
      "/Users/vijay/anaconda3/lib/python3.7/site-packages/sklearn/linear_model/logistic.py:460: FutureWarning: Default multi_class will be changed to 'auto' in 0.22. Specify the multi_class option to silence this warning.\n",
      "  \"this warning.\", FutureWarning)\n"
     ]
    },
    {
     "name": "stdout",
     "output_type": "stream",
     "text": [
      "Fitting estimator with 17973 features.\n"
     ]
    },
    {
     "name": "stderr",
     "output_type": "stream",
     "text": [
      "/Users/vijay/anaconda3/lib/python3.7/site-packages/sklearn/linear_model/logistic.py:433: FutureWarning: Default solver will be changed to 'lbfgs' in 0.22. Specify a solver to silence this warning.\n",
      "  FutureWarning)\n",
      "/Users/vijay/anaconda3/lib/python3.7/site-packages/sklearn/linear_model/logistic.py:460: FutureWarning: Default multi_class will be changed to 'auto' in 0.22. Specify the multi_class option to silence this warning.\n",
      "  \"this warning.\", FutureWarning)\n"
     ]
    },
    {
     "name": "stdout",
     "output_type": "stream",
     "text": [
      "Fitting estimator with 16916 features.\n"
     ]
    },
    {
     "name": "stderr",
     "output_type": "stream",
     "text": [
      "/Users/vijay/anaconda3/lib/python3.7/site-packages/sklearn/linear_model/logistic.py:433: FutureWarning: Default solver will be changed to 'lbfgs' in 0.22. Specify a solver to silence this warning.\n",
      "  FutureWarning)\n",
      "/Users/vijay/anaconda3/lib/python3.7/site-packages/sklearn/linear_model/logistic.py:460: FutureWarning: Default multi_class will be changed to 'auto' in 0.22. Specify the multi_class option to silence this warning.\n",
      "  \"this warning.\", FutureWarning)\n"
     ]
    },
    {
     "name": "stdout",
     "output_type": "stream",
     "text": [
      "Fitting estimator with 15859 features.\n"
     ]
    },
    {
     "name": "stderr",
     "output_type": "stream",
     "text": [
      "/Users/vijay/anaconda3/lib/python3.7/site-packages/sklearn/linear_model/logistic.py:433: FutureWarning: Default solver will be changed to 'lbfgs' in 0.22. Specify a solver to silence this warning.\n",
      "  FutureWarning)\n",
      "/Users/vijay/anaconda3/lib/python3.7/site-packages/sklearn/linear_model/logistic.py:460: FutureWarning: Default multi_class will be changed to 'auto' in 0.22. Specify the multi_class option to silence this warning.\n",
      "  \"this warning.\", FutureWarning)\n"
     ]
    },
    {
     "name": "stdout",
     "output_type": "stream",
     "text": [
      "Fitting estimator with 14802 features.\n"
     ]
    },
    {
     "name": "stderr",
     "output_type": "stream",
     "text": [
      "/Users/vijay/anaconda3/lib/python3.7/site-packages/sklearn/linear_model/logistic.py:433: FutureWarning: Default solver will be changed to 'lbfgs' in 0.22. Specify a solver to silence this warning.\n",
      "  FutureWarning)\n",
      "/Users/vijay/anaconda3/lib/python3.7/site-packages/sklearn/linear_model/logistic.py:460: FutureWarning: Default multi_class will be changed to 'auto' in 0.22. Specify the multi_class option to silence this warning.\n",
      "  \"this warning.\", FutureWarning)\n"
     ]
    },
    {
     "name": "stdout",
     "output_type": "stream",
     "text": [
      "Fitting estimator with 13745 features.\n"
     ]
    },
    {
     "name": "stderr",
     "output_type": "stream",
     "text": [
      "/Users/vijay/anaconda3/lib/python3.7/site-packages/sklearn/linear_model/logistic.py:433: FutureWarning: Default solver will be changed to 'lbfgs' in 0.22. Specify a solver to silence this warning.\n",
      "  FutureWarning)\n",
      "/Users/vijay/anaconda3/lib/python3.7/site-packages/sklearn/linear_model/logistic.py:460: FutureWarning: Default multi_class will be changed to 'auto' in 0.22. Specify the multi_class option to silence this warning.\n",
      "  \"this warning.\", FutureWarning)\n"
     ]
    },
    {
     "name": "stdout",
     "output_type": "stream",
     "text": [
      "Fitting estimator with 12688 features.\n"
     ]
    },
    {
     "name": "stderr",
     "output_type": "stream",
     "text": [
      "/Users/vijay/anaconda3/lib/python3.7/site-packages/sklearn/linear_model/logistic.py:433: FutureWarning: Default solver will be changed to 'lbfgs' in 0.22. Specify a solver to silence this warning.\n",
      "  FutureWarning)\n",
      "/Users/vijay/anaconda3/lib/python3.7/site-packages/sklearn/linear_model/logistic.py:460: FutureWarning: Default multi_class will be changed to 'auto' in 0.22. Specify the multi_class option to silence this warning.\n",
      "  \"this warning.\", FutureWarning)\n"
     ]
    },
    {
     "name": "stdout",
     "output_type": "stream",
     "text": [
      "Fitting estimator with 11631 features.\n"
     ]
    },
    {
     "name": "stderr",
     "output_type": "stream",
     "text": [
      "/Users/vijay/anaconda3/lib/python3.7/site-packages/sklearn/linear_model/logistic.py:433: FutureWarning: Default solver will be changed to 'lbfgs' in 0.22. Specify a solver to silence this warning.\n",
      "  FutureWarning)\n",
      "/Users/vijay/anaconda3/lib/python3.7/site-packages/sklearn/linear_model/logistic.py:460: FutureWarning: Default multi_class will be changed to 'auto' in 0.22. Specify the multi_class option to silence this warning.\n",
      "  \"this warning.\", FutureWarning)\n"
     ]
    },
    {
     "name": "stdout",
     "output_type": "stream",
     "text": [
      "Fitting estimator with 10574 features.\n"
     ]
    },
    {
     "name": "stderr",
     "output_type": "stream",
     "text": [
      "/Users/vijay/anaconda3/lib/python3.7/site-packages/sklearn/linear_model/logistic.py:433: FutureWarning: Default solver will be changed to 'lbfgs' in 0.22. Specify a solver to silence this warning.\n",
      "  FutureWarning)\n",
      "/Users/vijay/anaconda3/lib/python3.7/site-packages/sklearn/linear_model/logistic.py:460: FutureWarning: Default multi_class will be changed to 'auto' in 0.22. Specify the multi_class option to silence this warning.\n",
      "  \"this warning.\", FutureWarning)\n"
     ]
    },
    {
     "name": "stdout",
     "output_type": "stream",
     "text": [
      "Fitting estimator with 9517 features.\n"
     ]
    },
    {
     "name": "stderr",
     "output_type": "stream",
     "text": [
      "/Users/vijay/anaconda3/lib/python3.7/site-packages/sklearn/linear_model/logistic.py:433: FutureWarning: Default solver will be changed to 'lbfgs' in 0.22. Specify a solver to silence this warning.\n",
      "  FutureWarning)\n",
      "/Users/vijay/anaconda3/lib/python3.7/site-packages/sklearn/linear_model/logistic.py:460: FutureWarning: Default multi_class will be changed to 'auto' in 0.22. Specify the multi_class option to silence this warning.\n",
      "  \"this warning.\", FutureWarning)\n"
     ]
    },
    {
     "name": "stdout",
     "output_type": "stream",
     "text": [
      "Fitting estimator with 8460 features.\n"
     ]
    },
    {
     "name": "stderr",
     "output_type": "stream",
     "text": [
      "/Users/vijay/anaconda3/lib/python3.7/site-packages/sklearn/linear_model/logistic.py:433: FutureWarning: Default solver will be changed to 'lbfgs' in 0.22. Specify a solver to silence this warning.\n",
      "  FutureWarning)\n",
      "/Users/vijay/anaconda3/lib/python3.7/site-packages/sklearn/linear_model/logistic.py:460: FutureWarning: Default multi_class will be changed to 'auto' in 0.22. Specify the multi_class option to silence this warning.\n",
      "  \"this warning.\", FutureWarning)\n",
      "/Users/vijay/anaconda3/lib/python3.7/site-packages/sklearn/linear_model/logistic.py:433: FutureWarning: Default solver will be changed to 'lbfgs' in 0.22. Specify a solver to silence this warning.\n",
      "  FutureWarning)\n",
      "/Users/vijay/anaconda3/lib/python3.7/site-packages/sklearn/linear_model/logistic.py:460: FutureWarning: Default multi_class will be changed to 'auto' in 0.22. Specify the multi_class option to silence this warning.\n",
      "  \"this warning.\", FutureWarning)\n"
     ]
    },
    {
     "name": "stdout",
     "output_type": "stream",
     "text": [
      "  writing ./data/features_rfe_lr_8000.train.csv ...\n",
      "  (8179, 8002)\n",
      "  done.\n",
      "  writing ./data/features_rfe_lr_8000.test.csv ...\n",
      "  (2045, 8002)\n",
      "  done.\n"
     ]
    }
   ],
   "source": [
    "svm = LinearSVC(penalty='l2', C=0.1)\n",
    "lr = LogisticRegression(penalty='l1', C=0.1)\n",
    "\n",
    "n_features = [100, 800, 4000, 8000]\n",
    "n_step = .05\n",
    "\n",
    "label_encoder            = preprocessing.LabelEncoder()\n",
    "\n",
    "for n_feature in n_features:\n",
    "    \n",
    "  #_,_ = create_rfe_feature_matrix(feature_matrix_train, \n",
    "  #                         feature_matrix_test,\n",
    "  #                         label_encoder,\n",
    "  #                         svm, n_feature, n_step,\n",
    "  #                         'features_rfe_svm_'  + str(n_feature),\n",
    "  #                         True)\n",
    "  _,_ = create_rfe_feature_matrix(feature_matrix_train, \n",
    "                         feature_matrix_test,\n",
    "                         label_encoder,\n",
    "                         lr, n_feature, n_step,\n",
    "                         'features_rfe_lr_'  + str(n_feature),\n",
    "                         True)"
   ]
  },
  {
   "cell_type": "code",
   "execution_count": 19,
   "metadata": {},
   "outputs": [
    {
     "data": {
      "text/plain": [
       "LogisticRegression(C=0.1, class_weight=None, dual=False, fit_intercept=True,\n",
       "          intercept_scaling=1, max_iter=100, multi_class='warn',\n",
       "          n_jobs=None, penalty='l1', random_state=None, solver='warn',\n",
       "          tol=0.0001, verbose=0, warm_start=False)"
      ]
     },
     "execution_count": 19,
     "metadata": {},
     "output_type": "execute_result"
    }
   ],
   "source": [
    "lr"
   ]
  },
  {
   "cell_type": "markdown",
   "metadata": {
    "colab_type": "text",
    "id": "B0D7XgAQby7d"
   },
   "source": [
    "### PCA for dimensionality reduction"
   ]
  },
  {
   "cell_type": "code",
   "execution_count": 17,
   "metadata": {
    "colab": {
     "base_uri": "https://localhost:8080/",
     "height": 89
    },
    "colab_type": "code",
    "id": "u2kdSZhsby7e",
    "outputId": "9e68db39-31e2-4480-e7a4-77d2df12a043"
   },
   "outputs": [
    {
     "data": {
      "text/plain": [
       "PCA(copy=True, iterated_power='auto', n_components=None, random_state=None,\n",
       "  svd_solver='auto', tol=0.0, whiten=False)"
      ]
     },
     "execution_count": 17,
     "metadata": {},
     "output_type": "execute_result"
    },
    {
     "name": "stdout",
     "output_type": "stream",
     "text": [
      "Number of features that explain 99% of the variance:  8179\n"
     ]
    },
    {
     "data": {
      "text/plain": [
       "PCA(copy=True, iterated_power='auto', n_components=8179, random_state=None,\n",
       "  svd_solver='auto', tol=0.0, whiten=False)"
      ]
     },
     "execution_count": 17,
     "metadata": {},
     "output_type": "execute_result"
    }
   ],
   "source": [
    "pca = PCA()\n",
    "all_features_train = feature_matrix_train.drop(columns=['case_id', 'cancer_type'])\n",
    "pca.fit(all_features_train)\n",
    "ev = np.cumsum(pca.explained_variance_ratio_)\n",
    "evcount = len(ev[ev<99.0])\n",
    "print(\"Number of features that explain 99% of the variance: \", evcount)\n",
    "pca = PCA(n_components=evcount)\n",
    "pca.fit(all_features_train)\n",
    "train_PCA = pca.transform(all_features_train)\n",
    "all_features_test = feature_matrix_test.drop(columns=['case_id', 'cancer_type'])\n",
    "test_PCA = pca.transform(all_features_test)"
   ]
  },
  {
   "cell_type": "code",
   "execution_count": 18,
   "metadata": {
    "colab": {},
    "colab_type": "code",
    "id": "Z-yECeVhby7j"
   },
   "outputs": [],
   "source": [
    "train_PCA_df = pd.DataFrame(train_PCA)\n",
    "train_PCA_df['case_id'] = feature_matrix_train['case_id']\n",
    "train_PCA_df['cancer_type'] = feature_matrix_train['cancer_type']\n",
    "\n",
    "test_PCA_df = pd.DataFrame(test_PCA)\n",
    "test_PCA_df['case_id'] = feature_matrix_test['case_id']\n",
    "test_PCA_df['cancer_type'] = feature_matrix_test['cancer_type']\n",
    "\n",
    "#reorder columns and write out\n",
    "for df, f_name in zip( (train_PCA_df, test_PCA_df), \n",
    "                      ('./data/features_after_pca.train.csv', './data/features_after_pca.test.csv') ):\n",
    "    cols = df.columns.tolist()\n",
    "    cols = cols[-2:] + cols[:-2]\n",
    "    df = df[cols]\n",
    "    df.to_csv(f_name)"
   ]
  }
 ],
 "metadata": {
  "accelerator": "GPU",
  "colab": {
   "collapsed_sections": [],
   "machine_shape": "hm",
   "name": "disera_nair_singh_fraenkel_final_project.ipynb",
   "provenance": [],
   "toc_visible": true,
   "version": "0.3.2"
  },
  "kernelspec": {
   "display_name": "Python 3",
   "language": "python",
   "name": "python3"
  },
  "language_info": {
   "codemirror_mode": {
    "name": "ipython",
    "version": 3
   },
   "file_extension": ".py",
   "mimetype": "text/x-python",
   "name": "python",
   "nbconvert_exporter": "python",
   "pygments_lexer": "ipython3",
   "version": "3.7.1"
  }
 },
 "nbformat": 4,
 "nbformat_minor": 1
}
